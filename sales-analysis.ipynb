{
 "cells": [
  {
   "cell_type": "code",
   "execution_count": 1,
   "id": "f8ef6821",
   "metadata": {},
   "outputs": [],
   "source": [
    "import pandas as pd\n",
    "import matplotlib.pyplot as plt\n",
    "%matplotlib inline\n",
    "import seaborn as sns"
   ]
  },
  {
   "cell_type": "markdown",
   "id": "d34ac630",
   "metadata": {},
   "source": [
    "## Read data"
   ]
  },
  {
   "cell_type": "code",
   "execution_count": 2,
   "id": "72a805b9",
   "metadata": {},
   "outputs": [],
   "source": [
    "df = pd.read_csv(\"./output/all-data.csv\")"
   ]
  },
  {
   "cell_type": "markdown",
   "id": "3cf03073",
   "metadata": {},
   "source": [
    "### Get concise summary of the dataframe "
   ]
  },
  {
   "cell_type": "code",
   "execution_count": 3,
   "id": "682ff84a",
   "metadata": {},
   "outputs": [
    {
     "name": "stdout",
     "output_type": "stream",
     "text": [
      "There are 186850 rows and 6 columns\n"
     ]
    }
   ],
   "source": [
    "print(f\"There are {df.shape[0]} rows and {df.shape[1]} columns\")"
   ]
  },
  {
   "cell_type": "code",
   "execution_count": 4,
   "id": "149b58c1",
   "metadata": {},
   "outputs": [
    {
     "name": "stdout",
     "output_type": "stream",
     "text": [
      "<class 'pandas.core.frame.DataFrame'>\n",
      "RangeIndex: 186850 entries, 0 to 186849\n",
      "Data columns (total 6 columns):\n",
      " #   Column            Non-Null Count   Dtype \n",
      "---  ------            --------------   ----- \n",
      " 0   Order ID          186305 non-null  object\n",
      " 1   Product           186305 non-null  object\n",
      " 2   Quantity Ordered  186305 non-null  object\n",
      " 3   Price Each        186305 non-null  object\n",
      " 4   Order Date        186305 non-null  object\n",
      " 5   Purchase Address  186305 non-null  object\n",
      "dtypes: object(6)\n",
      "memory usage: 8.6+ MB\n"
     ]
    }
   ],
   "source": [
    "df.info()"
   ]
  },
  {
   "cell_type": "code",
   "execution_count": 5,
   "id": "919dd349",
   "metadata": {},
   "outputs": [
    {
     "data": {
      "text/html": [
       "<div>\n",
       "<style scoped>\n",
       "    .dataframe tbody tr th:only-of-type {\n",
       "        vertical-align: middle;\n",
       "    }\n",
       "\n",
       "    .dataframe tbody tr th {\n",
       "        vertical-align: top;\n",
       "    }\n",
       "\n",
       "    .dataframe thead th {\n",
       "        text-align: right;\n",
       "    }\n",
       "</style>\n",
       "<table border=\"1\" class=\"dataframe\">\n",
       "  <thead>\n",
       "    <tr style=\"text-align: right;\">\n",
       "      <th></th>\n",
       "      <th>Order ID</th>\n",
       "      <th>Product</th>\n",
       "      <th>Quantity Ordered</th>\n",
       "      <th>Price Each</th>\n",
       "      <th>Order Date</th>\n",
       "      <th>Purchase Address</th>\n",
       "    </tr>\n",
       "  </thead>\n",
       "  <tbody>\n",
       "    <tr>\n",
       "      <th>0</th>\n",
       "      <td>176558</td>\n",
       "      <td>USB-C Charging Cable</td>\n",
       "      <td>2</td>\n",
       "      <td>11.95</td>\n",
       "      <td>04/19/19 08:46</td>\n",
       "      <td>917 1st St, Dallas, TX 75001</td>\n",
       "    </tr>\n",
       "    <tr>\n",
       "      <th>1</th>\n",
       "      <td>NaN</td>\n",
       "      <td>NaN</td>\n",
       "      <td>NaN</td>\n",
       "      <td>NaN</td>\n",
       "      <td>NaN</td>\n",
       "      <td>NaN</td>\n",
       "    </tr>\n",
       "    <tr>\n",
       "      <th>2</th>\n",
       "      <td>176559</td>\n",
       "      <td>Bose SoundSport Headphones</td>\n",
       "      <td>1</td>\n",
       "      <td>99.99</td>\n",
       "      <td>04/07/19 22:30</td>\n",
       "      <td>682 Chestnut St, Boston, MA 02215</td>\n",
       "    </tr>\n",
       "    <tr>\n",
       "      <th>3</th>\n",
       "      <td>176560</td>\n",
       "      <td>Google Phone</td>\n",
       "      <td>1</td>\n",
       "      <td>600</td>\n",
       "      <td>04/12/19 14:38</td>\n",
       "      <td>669 Spruce St, Los Angeles, CA 90001</td>\n",
       "    </tr>\n",
       "    <tr>\n",
       "      <th>4</th>\n",
       "      <td>176560</td>\n",
       "      <td>Wired Headphones</td>\n",
       "      <td>1</td>\n",
       "      <td>11.99</td>\n",
       "      <td>04/12/19 14:38</td>\n",
       "      <td>669 Spruce St, Los Angeles, CA 90001</td>\n",
       "    </tr>\n",
       "  </tbody>\n",
       "</table>\n",
       "</div>"
      ],
      "text/plain": [
       "  Order ID                     Product Quantity Ordered Price Each  \\\n",
       "0   176558        USB-C Charging Cable                2      11.95   \n",
       "1      NaN                         NaN              NaN        NaN   \n",
       "2   176559  Bose SoundSport Headphones                1      99.99   \n",
       "3   176560                Google Phone                1        600   \n",
       "4   176560            Wired Headphones                1      11.99   \n",
       "\n",
       "       Order Date                      Purchase Address  \n",
       "0  04/19/19 08:46          917 1st St, Dallas, TX 75001  \n",
       "1             NaN                                   NaN  \n",
       "2  04/07/19 22:30     682 Chestnut St, Boston, MA 02215  \n",
       "3  04/12/19 14:38  669 Spruce St, Los Angeles, CA 90001  \n",
       "4  04/12/19 14:38  669 Spruce St, Los Angeles, CA 90001  "
      ]
     },
     "execution_count": 5,
     "metadata": {},
     "output_type": "execute_result"
    }
   ],
   "source": [
    "df.head()"
   ]
  },
  {
   "cell_type": "markdown",
   "id": "e4f9004f",
   "metadata": {},
   "source": [
    "## Data Cleaning"
   ]
  },
  {
   "cell_type": "markdown",
   "id": "f744e33e",
   "metadata": {},
   "source": [
    "### First: Column labels"
   ]
  },
  {
   "cell_type": "code",
   "execution_count": 6,
   "id": "152807c0",
   "metadata": {},
   "outputs": [
    {
     "data": {
      "text/plain": [
       "Index(['Order ID', 'Product', 'Quantity Ordered', 'Price Each', 'Order Date',\n",
       "       'Purchase Address'],\n",
       "      dtype='object')"
      ]
     },
     "execution_count": 6,
     "metadata": {},
     "output_type": "execute_result"
    }
   ],
   "source": [
    "df.columns"
   ]
  },
  {
   "cell_type": "markdown",
   "id": "94d3837a",
   "metadata": {},
   "source": [
    "##### We notice two problems with column labels:\n",
    "1. They are long.\n",
    "2. There is a space in some labels."
   ]
  },
  {
   "cell_type": "markdown",
   "id": "933870ff",
   "metadata": {},
   "source": [
    "#### Rename"
   ]
  },
  {
   "cell_type": "code",
   "execution_count": 7,
   "id": "8a76e708",
   "metadata": {},
   "outputs": [],
   "source": [
    "df.rename(columns={\"Quantity Ordered\":\"Quantity\",\n",
    "                   \"Price Each\":\"unit price\",\"Order Date\":\"Date\",\n",
    "                   \"Purchase Address\":\"Address\"},inplace=True)"
   ]
  },
  {
   "cell_type": "markdown",
   "id": "6d9f3d00",
   "metadata": {},
   "source": [
    "#### Capitalize"
   ]
  },
  {
   "cell_type": "code",
   "execution_count": 8,
   "id": "4e65aad5",
   "metadata": {},
   "outputs": [],
   "source": [
    "df.rename(str.title, axis='columns',inplace=True)"
   ]
  },
  {
   "cell_type": "markdown",
   "id": "c8183a33",
   "metadata": {},
   "source": [
    "#### Remove spaces "
   ]
  },
  {
   "cell_type": "code",
   "execution_count": 9,
   "id": "4e575ef9",
   "metadata": {},
   "outputs": [],
   "source": [
    "df.columns=df.columns.str.replace(\" \",\"\")"
   ]
  },
  {
   "cell_type": "markdown",
   "id": "209f381e",
   "metadata": {},
   "source": [
    "##### Let's look at them now"
   ]
  },
  {
   "cell_type": "code",
   "execution_count": 10,
   "id": "f998960d",
   "metadata": {},
   "outputs": [
    {
     "data": {
      "text/plain": [
       "Index(['OrderId', 'Product', 'Quantity', 'UnitPrice', 'Date', 'Address'], dtype='object')"
      ]
     },
     "execution_count": 10,
     "metadata": {},
     "output_type": "execute_result"
    }
   ],
   "source": [
    "df.columns"
   ]
  },
  {
   "cell_type": "markdown",
   "id": "f71358f7",
   "metadata": {},
   "source": [
    "### Second: Cast data types"
   ]
  },
  {
   "cell_type": "markdown",
   "id": "9a865505",
   "metadata": {},
   "source": [
    "#### Convert ```\"OrderId\",\"Quantity\",\"Price\"``` columns to numeric values"
   ]
  },
  {
   "cell_type": "code",
   "execution_count": 11,
   "id": "d4202809",
   "metadata": {},
   "outputs": [],
   "source": [
    "df[[\"OrderId\",\"Quantity\",\"UnitPrice\"]]=df[[\"OrderId\",\"Quantity\",\"UnitPrice\"]].apply(pd.to_numeric,errors=\"coerce\",downcast ='integer')"
   ]
  },
  {
   "cell_type": "markdown",
   "id": "4c2506bc",
   "metadata": {},
   "source": [
    "#### Convert ```\"Date\"``` column to datetime object"
   ]
  },
  {
   "cell_type": "code",
   "execution_count": 12,
   "id": "bd7b7ce3",
   "metadata": {},
   "outputs": [],
   "source": [
    "df[\"Date\"] = pd.to_datetime(df[\"Date\"],format = \"%d/%m/%y %H:%M\",errors=\"coerce\")"
   ]
  },
  {
   "cell_type": "markdown",
   "id": "fd8e3d2b",
   "metadata": {},
   "source": [
    "#### Drop NaN values"
   ]
  },
  {
   "cell_type": "code",
   "execution_count": 13,
   "id": "fb6e4301",
   "metadata": {},
   "outputs": [],
   "source": [
    "df.dropna(inplace=True)"
   ]
  },
  {
   "cell_type": "markdown",
   "id": "db9ed2bc",
   "metadata": {},
   "source": [
    "#### Convert ```\"OrderId\",\"Quantity\"``` columns to integer\n",
    "The data type of these columns is **float** because there were **NaN values** at them, but after dropping them in the last step, we can now convert the columns into **integer**."
   ]
  },
  {
   "cell_type": "code",
   "execution_count": 14,
   "id": "c31d962e",
   "metadata": {},
   "outputs": [
    {
     "data": {
      "text/plain": [
       "OrderId     float64\n",
       "Quantity    float64\n",
       "dtype: object"
      ]
     },
     "execution_count": 14,
     "metadata": {},
     "output_type": "execute_result"
    }
   ],
   "source": [
    "df[[\"OrderId\",\"Quantity\"]].dtypes"
   ]
  },
  {
   "cell_type": "code",
   "execution_count": 15,
   "id": "3109a42e",
   "metadata": {},
   "outputs": [],
   "source": [
    "convert_dict = {'OrderId': int,\n",
    "                'Quantity': int\n",
    "               }\n",
    "  \n",
    "df = df.astype(convert_dict)"
   ]
  },
  {
   "cell_type": "markdown",
   "id": "cfaf35be",
   "metadata": {},
   "source": [
    "### Third: Set the ```\"Date\"``` column as index"
   ]
  },
  {
   "cell_type": "code",
   "execution_count": 16,
   "id": "a7bd438b",
   "metadata": {},
   "outputs": [],
   "source": [
    "df.set_index(\"Date\",inplace=True)\n",
    "df.sort_index(inplace=True) #sort rows by their date"
   ]
  },
  {
   "cell_type": "code",
   "execution_count": 17,
   "id": "957b4c46",
   "metadata": {},
   "outputs": [
    {
     "data": {
      "text/html": [
       "<div>\n",
       "<style scoped>\n",
       "    .dataframe tbody tr th:only-of-type {\n",
       "        vertical-align: middle;\n",
       "    }\n",
       "\n",
       "    .dataframe tbody tr th {\n",
       "        vertical-align: top;\n",
       "    }\n",
       "\n",
       "    .dataframe thead th {\n",
       "        text-align: right;\n",
       "    }\n",
       "</style>\n",
       "<table border=\"1\" class=\"dataframe\">\n",
       "  <thead>\n",
       "    <tr style=\"text-align: right;\">\n",
       "      <th></th>\n",
       "      <th>OrderId</th>\n",
       "      <th>Product</th>\n",
       "      <th>Quantity</th>\n",
       "      <th>UnitPrice</th>\n",
       "      <th>Address</th>\n",
       "    </tr>\n",
       "    <tr>\n",
       "      <th>Date</th>\n",
       "      <th></th>\n",
       "      <th></th>\n",
       "      <th></th>\n",
       "      <th></th>\n",
       "      <th></th>\n",
       "    </tr>\n",
       "  </thead>\n",
       "  <tbody>\n",
       "    <tr>\n",
       "      <th>2019-01-01 03:07:00</th>\n",
       "      <td>147268</td>\n",
       "      <td>Wired Headphones</td>\n",
       "      <td>1</td>\n",
       "      <td>11.99</td>\n",
       "      <td>9 Lake St, New York City, NY 10001</td>\n",
       "    </tr>\n",
       "    <tr>\n",
       "      <th>2019-01-01 03:40:00</th>\n",
       "      <td>148041</td>\n",
       "      <td>USB-C Charging Cable</td>\n",
       "      <td>1</td>\n",
       "      <td>11.95</td>\n",
       "      <td>760 Church St, San Francisco, CA 94016</td>\n",
       "    </tr>\n",
       "    <tr>\n",
       "      <th>2019-01-01 04:56:00</th>\n",
       "      <td>149343</td>\n",
       "      <td>Apple Airpods Headphones</td>\n",
       "      <td>1</td>\n",
       "      <td>150.00</td>\n",
       "      <td>735 5th St, New York City, NY 10001</td>\n",
       "    </tr>\n",
       "    <tr>\n",
       "      <th>2019-01-01 05:53:00</th>\n",
       "      <td>149964</td>\n",
       "      <td>AAA Batteries (4-pack)</td>\n",
       "      <td>1</td>\n",
       "      <td>2.99</td>\n",
       "      <td>75 Jackson St, Dallas, TX 75001</td>\n",
       "    </tr>\n",
       "    <tr>\n",
       "      <th>2019-01-01 06:03:00</th>\n",
       "      <td>149350</td>\n",
       "      <td>USB-C Charging Cable</td>\n",
       "      <td>2</td>\n",
       "      <td>11.95</td>\n",
       "      <td>943 2nd St, Atlanta, GA 30301</td>\n",
       "    </tr>\n",
       "  </tbody>\n",
       "</table>\n",
       "</div>"
      ],
      "text/plain": [
       "                     OrderId                   Product  Quantity  UnitPrice  \\\n",
       "Date                                                                          \n",
       "2019-01-01 03:07:00   147268          Wired Headphones         1      11.99   \n",
       "2019-01-01 03:40:00   148041      USB-C Charging Cable         1      11.95   \n",
       "2019-01-01 04:56:00   149343  Apple Airpods Headphones         1     150.00   \n",
       "2019-01-01 05:53:00   149964    AAA Batteries (4-pack)         1       2.99   \n",
       "2019-01-01 06:03:00   149350      USB-C Charging Cable         2      11.95   \n",
       "\n",
       "                                                    Address  \n",
       "Date                                                         \n",
       "2019-01-01 03:07:00      9 Lake St, New York City, NY 10001  \n",
       "2019-01-01 03:40:00  760 Church St, San Francisco, CA 94016  \n",
       "2019-01-01 04:56:00     735 5th St, New York City, NY 10001  \n",
       "2019-01-01 05:53:00         75 Jackson St, Dallas, TX 75001  \n",
       "2019-01-01 06:03:00           943 2nd St, Atlanta, GA 30301  "
      ]
     },
     "execution_count": 17,
     "metadata": {},
     "output_type": "execute_result"
    }
   ],
   "source": [
    "df.head()"
   ]
  },
  {
   "cell_type": "markdown",
   "id": "0bf00690",
   "metadata": {},
   "source": [
    "### Fourth: Add new columns"
   ]
  },
  {
   "cell_type": "markdown",
   "id": "60696e73",
   "metadata": {},
   "source": [
    "#### Add ```\"Month\"``` column"
   ]
  },
  {
   "cell_type": "code",
   "execution_count": 18,
   "id": "0d3b10e9",
   "metadata": {},
   "outputs": [],
   "source": [
    "df[\"Month\"]=df.index.month_name()"
   ]
  },
  {
   "cell_type": "markdown",
   "id": "bff2e023",
   "metadata": {},
   "source": [
    "#### Add ```\"DayOrder\"``` column"
   ]
  },
  {
   "cell_type": "code",
   "execution_count": 19,
   "id": "47a3fce4",
   "metadata": {},
   "outputs": [],
   "source": [
    "df[\"DayOrder\"]=df.index.day"
   ]
  },
  {
   "cell_type": "markdown",
   "id": "a65b43fe",
   "metadata": {},
   "source": [
    "#### Add ```\"DayName\"``` column"
   ]
  },
  {
   "cell_type": "code",
   "execution_count": 20,
   "id": "9ed5a3ca",
   "metadata": {},
   "outputs": [],
   "source": [
    "df[\"DayName\"]=df.index.day_name()"
   ]
  },
  {
   "cell_type": "markdown",
   "id": "d6d42a30",
   "metadata": {},
   "source": [
    "#### Add ```\"TotalCost\"``` column "
   ]
  },
  {
   "cell_type": "code",
   "execution_count": 21,
   "id": "fe440e75",
   "metadata": {},
   "outputs": [],
   "source": [
    "df[\"TotalCost\"] = df[\"Quantity\"] * df[\"UnitPrice\"]"
   ]
  },
  {
   "cell_type": "markdown",
   "id": "59a6a303",
   "metadata": {},
   "source": [
    "#### Add ```\"City\"``` column"
   ]
  },
  {
   "cell_type": "code",
   "execution_count": 22,
   "id": "3744f35e",
   "metadata": {},
   "outputs": [
    {
     "data": {
      "text/plain": [
       "Date\n",
       "2019-01-01 03:07:00        9 Lake St, New York City, NY 10001\n",
       "2019-01-01 03:40:00    760 Church St, San Francisco, CA 94016\n",
       "2019-01-01 04:56:00       735 5th St, New York City, NY 10001\n",
       "Name: Address, dtype: object"
      ]
     },
     "execution_count": 22,
     "metadata": {},
     "output_type": "execute_result"
    }
   ],
   "source": [
    "df[\"Address\"].head(3)"
   ]
  },
  {
   "cell_type": "markdown",
   "id": "fbdb101b",
   "metadata": {},
   "source": [
    "##### 1. Split the address column"
   ]
  },
  {
   "cell_type": "code",
   "execution_count": 23,
   "id": "b47d0a09",
   "metadata": {},
   "outputs": [
    {
     "data": {
      "text/html": [
       "<div>\n",
       "<style scoped>\n",
       "    .dataframe tbody tr th:only-of-type {\n",
       "        vertical-align: middle;\n",
       "    }\n",
       "\n",
       "    .dataframe tbody tr th {\n",
       "        vertical-align: top;\n",
       "    }\n",
       "\n",
       "    .dataframe thead th {\n",
       "        text-align: right;\n",
       "    }\n",
       "</style>\n",
       "<table border=\"1\" class=\"dataframe\">\n",
       "  <thead>\n",
       "    <tr style=\"text-align: right;\">\n",
       "      <th></th>\n",
       "      <th>0</th>\n",
       "      <th>1</th>\n",
       "      <th>2</th>\n",
       "    </tr>\n",
       "    <tr>\n",
       "      <th>Date</th>\n",
       "      <th></th>\n",
       "      <th></th>\n",
       "      <th></th>\n",
       "    </tr>\n",
       "  </thead>\n",
       "  <tbody>\n",
       "    <tr>\n",
       "      <th>2019-01-01 03:07:00</th>\n",
       "      <td>9 Lake St</td>\n",
       "      <td>New York City</td>\n",
       "      <td>NY 10001</td>\n",
       "    </tr>\n",
       "    <tr>\n",
       "      <th>2019-01-01 03:40:00</th>\n",
       "      <td>760 Church St</td>\n",
       "      <td>San Francisco</td>\n",
       "      <td>CA 94016</td>\n",
       "    </tr>\n",
       "    <tr>\n",
       "      <th>2019-01-01 04:56:00</th>\n",
       "      <td>735 5th St</td>\n",
       "      <td>New York City</td>\n",
       "      <td>NY 10001</td>\n",
       "    </tr>\n",
       "  </tbody>\n",
       "</table>\n",
       "</div>"
      ],
      "text/plain": [
       "                                 0              1         2\n",
       "Date                                                       \n",
       "2019-01-01 03:07:00      9 Lake St  New York City  NY 10001\n",
       "2019-01-01 03:40:00  760 Church St  San Francisco  CA 94016\n",
       "2019-01-01 04:56:00     735 5th St  New York City  NY 10001"
      ]
     },
     "execution_count": 23,
     "metadata": {},
     "output_type": "execute_result"
    }
   ],
   "source": [
    "splited_address = df[\"Address\"].str.split(\", \",expand=True)\n",
    "splited_address.head(3)"
   ]
  },
  {
   "cell_type": "markdown",
   "id": "e62a9f42",
   "metadata": {},
   "source": [
    "##### 2. Split the  (state and postal code) column"
   ]
  },
  {
   "cell_type": "code",
   "execution_count": 24,
   "id": "4be4ce2a",
   "metadata": {},
   "outputs": [
    {
     "data": {
      "text/html": [
       "<div>\n",
       "<style scoped>\n",
       "    .dataframe tbody tr th:only-of-type {\n",
       "        vertical-align: middle;\n",
       "    }\n",
       "\n",
       "    .dataframe tbody tr th {\n",
       "        vertical-align: top;\n",
       "    }\n",
       "\n",
       "    .dataframe thead th {\n",
       "        text-align: right;\n",
       "    }\n",
       "</style>\n",
       "<table border=\"1\" class=\"dataframe\">\n",
       "  <thead>\n",
       "    <tr style=\"text-align: right;\">\n",
       "      <th></th>\n",
       "      <th>0</th>\n",
       "      <th>1</th>\n",
       "    </tr>\n",
       "    <tr>\n",
       "      <th>Date</th>\n",
       "      <th></th>\n",
       "      <th></th>\n",
       "    </tr>\n",
       "  </thead>\n",
       "  <tbody>\n",
       "    <tr>\n",
       "      <th>2019-01-01 03:07:00</th>\n",
       "      <td>NY</td>\n",
       "      <td>10001</td>\n",
       "    </tr>\n",
       "    <tr>\n",
       "      <th>2019-01-01 03:40:00</th>\n",
       "      <td>CA</td>\n",
       "      <td>94016</td>\n",
       "    </tr>\n",
       "    <tr>\n",
       "      <th>2019-01-01 04:56:00</th>\n",
       "      <td>NY</td>\n",
       "      <td>10001</td>\n",
       "    </tr>\n",
       "  </tbody>\n",
       "</table>\n",
       "</div>"
      ],
      "text/plain": [
       "                      0      1\n",
       "Date                          \n",
       "2019-01-01 03:07:00  NY  10001\n",
       "2019-01-01 03:40:00  CA  94016\n",
       "2019-01-01 04:56:00  NY  10001"
      ]
     },
     "execution_count": 24,
     "metadata": {},
     "output_type": "execute_result"
    }
   ],
   "source": [
    "splited_state_postalcode = splited_address[2].str.split(expand=True)\n",
    "splited_state_postalcode.head(3)"
   ]
  },
  {
   "cell_type": "markdown",
   "id": "27018bfe",
   "metadata": {},
   "source": [
    "##### 3. Merge states and cities in one column"
   ]
  },
  {
   "cell_type": "code",
   "execution_count": 25,
   "id": "7a0b74a0",
   "metadata": {},
   "outputs": [
    {
     "data": {
      "text/plain": [
       "Date\n",
       "2019-01-01 03:07:00    New York City, NY\n",
       "2019-01-01 03:40:00    San Francisco, CA\n",
       "2019-01-01 04:56:00    New York City, NY\n",
       "Name: 1, dtype: object"
      ]
     },
     "execution_count": 25,
     "metadata": {},
     "output_type": "execute_result"
    }
   ],
   "source": [
    "cities = splited_address[1]\n",
    "states = splited_state_postalcode[0]\n",
    "\n",
    "merged_city_state = cities.str.cat(states,sep=\", \")\n",
    "merged_city_state.head(3)"
   ]
  },
  {
   "cell_type": "markdown",
   "id": "a1756c59",
   "metadata": {},
   "source": [
    "##### 4. Add the ```\"City\"``` column"
   ]
  },
  {
   "cell_type": "code",
   "execution_count": 26,
   "id": "41b233e9",
   "metadata": {},
   "outputs": [],
   "source": [
    "df[\"City\"] = merged_city_state"
   ]
  },
  {
   "cell_type": "markdown",
   "id": "a7713fba",
   "metadata": {},
   "source": [
    "<hr>"
   ]
  },
  {
   "cell_type": "code",
   "execution_count": 27,
   "id": "2e3e979e",
   "metadata": {
    "scrolled": true
   },
   "outputs": [
    {
     "name": "stdout",
     "output_type": "stream",
     "text": [
      "After cleaning the data up,There are 72871 rows and 10 columns\n"
     ]
    }
   ],
   "source": [
    "print(f\"After cleaning the data up,There are {df.shape[0]} rows and {df.shape[1]} columns\")"
   ]
  },
  {
   "cell_type": "code",
   "execution_count": 28,
   "id": "12fd1685",
   "metadata": {},
   "outputs": [
    {
     "data": {
      "text/html": [
       "<div>\n",
       "<style scoped>\n",
       "    .dataframe tbody tr th:only-of-type {\n",
       "        vertical-align: middle;\n",
       "    }\n",
       "\n",
       "    .dataframe tbody tr th {\n",
       "        vertical-align: top;\n",
       "    }\n",
       "\n",
       "    .dataframe thead th {\n",
       "        text-align: right;\n",
       "    }\n",
       "</style>\n",
       "<table border=\"1\" class=\"dataframe\">\n",
       "  <thead>\n",
       "    <tr style=\"text-align: right;\">\n",
       "      <th></th>\n",
       "      <th>OrderId</th>\n",
       "      <th>Product</th>\n",
       "      <th>Quantity</th>\n",
       "      <th>UnitPrice</th>\n",
       "      <th>Address</th>\n",
       "      <th>Month</th>\n",
       "      <th>DayOrder</th>\n",
       "      <th>DayName</th>\n",
       "      <th>TotalCost</th>\n",
       "      <th>City</th>\n",
       "    </tr>\n",
       "    <tr>\n",
       "      <th>Date</th>\n",
       "      <th></th>\n",
       "      <th></th>\n",
       "      <th></th>\n",
       "      <th></th>\n",
       "      <th></th>\n",
       "      <th></th>\n",
       "      <th></th>\n",
       "      <th></th>\n",
       "      <th></th>\n",
       "      <th></th>\n",
       "    </tr>\n",
       "  </thead>\n",
       "  <tbody>\n",
       "    <tr>\n",
       "      <th>2019-01-01 03:07:00</th>\n",
       "      <td>147268</td>\n",
       "      <td>Wired Headphones</td>\n",
       "      <td>1</td>\n",
       "      <td>11.99</td>\n",
       "      <td>9 Lake St, New York City, NY 10001</td>\n",
       "      <td>January</td>\n",
       "      <td>1</td>\n",
       "      <td>Tuesday</td>\n",
       "      <td>11.99</td>\n",
       "      <td>New York City, NY</td>\n",
       "    </tr>\n",
       "    <tr>\n",
       "      <th>2019-01-01 03:40:00</th>\n",
       "      <td>148041</td>\n",
       "      <td>USB-C Charging Cable</td>\n",
       "      <td>1</td>\n",
       "      <td>11.95</td>\n",
       "      <td>760 Church St, San Francisco, CA 94016</td>\n",
       "      <td>January</td>\n",
       "      <td>1</td>\n",
       "      <td>Tuesday</td>\n",
       "      <td>11.95</td>\n",
       "      <td>San Francisco, CA</td>\n",
       "    </tr>\n",
       "    <tr>\n",
       "      <th>2019-01-01 04:56:00</th>\n",
       "      <td>149343</td>\n",
       "      <td>Apple Airpods Headphones</td>\n",
       "      <td>1</td>\n",
       "      <td>150.00</td>\n",
       "      <td>735 5th St, New York City, NY 10001</td>\n",
       "      <td>January</td>\n",
       "      <td>1</td>\n",
       "      <td>Tuesday</td>\n",
       "      <td>150.00</td>\n",
       "      <td>New York City, NY</td>\n",
       "    </tr>\n",
       "    <tr>\n",
       "      <th>2019-01-01 05:53:00</th>\n",
       "      <td>149964</td>\n",
       "      <td>AAA Batteries (4-pack)</td>\n",
       "      <td>1</td>\n",
       "      <td>2.99</td>\n",
       "      <td>75 Jackson St, Dallas, TX 75001</td>\n",
       "      <td>January</td>\n",
       "      <td>1</td>\n",
       "      <td>Tuesday</td>\n",
       "      <td>2.99</td>\n",
       "      <td>Dallas, TX</td>\n",
       "    </tr>\n",
       "    <tr>\n",
       "      <th>2019-01-01 06:03:00</th>\n",
       "      <td>149350</td>\n",
       "      <td>USB-C Charging Cable</td>\n",
       "      <td>2</td>\n",
       "      <td>11.95</td>\n",
       "      <td>943 2nd St, Atlanta, GA 30301</td>\n",
       "      <td>January</td>\n",
       "      <td>1</td>\n",
       "      <td>Tuesday</td>\n",
       "      <td>23.90</td>\n",
       "      <td>Atlanta, GA</td>\n",
       "    </tr>\n",
       "  </tbody>\n",
       "</table>\n",
       "</div>"
      ],
      "text/plain": [
       "                     OrderId                   Product  Quantity  UnitPrice  \\\n",
       "Date                                                                          \n",
       "2019-01-01 03:07:00   147268          Wired Headphones         1      11.99   \n",
       "2019-01-01 03:40:00   148041      USB-C Charging Cable         1      11.95   \n",
       "2019-01-01 04:56:00   149343  Apple Airpods Headphones         1     150.00   \n",
       "2019-01-01 05:53:00   149964    AAA Batteries (4-pack)         1       2.99   \n",
       "2019-01-01 06:03:00   149350      USB-C Charging Cable         2      11.95   \n",
       "\n",
       "                                                    Address    Month  \\\n",
       "Date                                                                   \n",
       "2019-01-01 03:07:00      9 Lake St, New York City, NY 10001  January   \n",
       "2019-01-01 03:40:00  760 Church St, San Francisco, CA 94016  January   \n",
       "2019-01-01 04:56:00     735 5th St, New York City, NY 10001  January   \n",
       "2019-01-01 05:53:00         75 Jackson St, Dallas, TX 75001  January   \n",
       "2019-01-01 06:03:00           943 2nd St, Atlanta, GA 30301  January   \n",
       "\n",
       "                     DayOrder  DayName  TotalCost               City  \n",
       "Date                                                                  \n",
       "2019-01-01 03:07:00         1  Tuesday      11.99  New York City, NY  \n",
       "2019-01-01 03:40:00         1  Tuesday      11.95  San Francisco, CA  \n",
       "2019-01-01 04:56:00         1  Tuesday     150.00  New York City, NY  \n",
       "2019-01-01 05:53:00         1  Tuesday       2.99         Dallas, TX  \n",
       "2019-01-01 06:03:00         1  Tuesday      23.90        Atlanta, GA  "
      ]
     },
     "execution_count": 28,
     "metadata": {},
     "output_type": "execute_result"
    }
   ],
   "source": [
    "df.head()"
   ]
  },
  {
   "cell_type": "markdown",
   "id": "1652af2f",
   "metadata": {},
   "source": [
    " ## Exploring the data"
   ]
  },
  {
   "cell_type": "markdown",
   "id": "cc90000b",
   "metadata": {},
   "source": [
    "#### Change the style of the figure to the \"dark\" theme"
   ]
  },
  {
   "cell_type": "code",
   "execution_count": 29,
   "id": "41b1d82b",
   "metadata": {},
   "outputs": [],
   "source": [
    "sns.set_style(\"whitegrid\")"
   ]
  },
  {
   "cell_type": "markdown",
   "id": "c727fa6e",
   "metadata": {},
   "source": [
    "### Q #1: Which months acheived higher product sales and which acheived higher profit?"
   ]
  },
  {
   "cell_type": "markdown",
   "id": "3dd40001",
   "metadata": {},
   "source": [
    "#### Step #1: Group data by ```\"Month\"``` column"
   ]
  },
  {
   "cell_type": "code",
   "execution_count": 30,
   "id": "ca678249",
   "metadata": {},
   "outputs": [],
   "source": [
    "month_group=df.loc[\"2019\"].groupby(\"Month\" ,sort = False)"
   ]
  },
  {
   "cell_type": "markdown",
   "id": "2bc5c94b",
   "metadata": {},
   "source": [
    "#### Step #2: Get the monthly product sales"
   ]
  },
  {
   "cell_type": "code",
   "execution_count": 31,
   "id": "ba3f5484",
   "metadata": {},
   "outputs": [
    {
     "data": {
      "text/plain": [
       "Month\n",
       "January     6826\n",
       "February    6962\n",
       "March       6534\n",
       "April       6813\n",
       "May         6816\n",
       "Name: Quantity, dtype: int32"
      ]
     },
     "execution_count": 31,
     "metadata": {},
     "output_type": "execute_result"
    }
   ],
   "source": [
    "monthly_product_sales= month_group[\"Quantity\"].sum()\n",
    "monthly_product_sales.head()"
   ]
  },
  {
   "cell_type": "markdown",
   "id": "51e4bc54",
   "metadata": {},
   "source": [
    "#### Step #3: Get the monthly profit"
   ]
  },
  {
   "cell_type": "code",
   "execution_count": 32,
   "id": "a037393e",
   "metadata": {},
   "outputs": [
    {
     "data": {
      "text/plain": [
       "Month\n",
       "January     1157648.96\n",
       "February    1137457.04\n",
       "March       1074432.90\n",
       "April       1163857.72\n",
       "May         1135284.73\n",
       "Name: TotalCost, dtype: float64"
      ]
     },
     "execution_count": 32,
     "metadata": {},
     "output_type": "execute_result"
    }
   ],
   "source": [
    "monthly_profit= month_group[\"TotalCost\"].sum()\n",
    "monthly_profit.head()"
   ]
  },
  {
   "cell_type": "markdown",
   "id": "79a9b7a0",
   "metadata": {},
   "source": [
    "#### Step #4: Data visualization"
   ]
  },
  {
   "cell_type": "code",
   "execution_count": 33,
   "id": "f0dbb858",
   "metadata": {},
   "outputs": [
    {
     "data": {
      "text/plain": [
       "Text(0.5, 1.0, 'Monthly product sales')"
      ]
     },
     "execution_count": 33,
     "metadata": {},
     "output_type": "execute_result"
    },
    {
     "data": {
      "image/png": "[encoded data removed]",
      "text/plain": [
       "<Figure size 1008x432 with 2 Axes>"
      ]
     },
     "metadata": {},
     "output_type": "display_data"
    }
   ],
   "source": [
    "# Create subplot\n",
    "fig,axes=plt.subplots(1,2,figsize=(14,6),sharey=True)\n",
    "fig.suptitle(\"Business performance (2019)\",fontweight=\"bold\")\n",
    "\n",
    "# months names list\n",
    "months = df[\"Month\"].unique()\n",
    "\n",
    "#The monthly profit plot\n",
    "sns.barplot(x=monthly_profit, y=months,ax=axes[0])\n",
    "axes[0].set_xlabel(\"Profits\") #x label\n",
    "axes[0].set_ylabel(\"Month\") #y label\n",
    "axes[0].set_title(\"Monthly profit\") #title\n",
    "\n",
    "#The monthly product sales plot\n",
    "sns.barplot(x=monthly_product_sales, y=months,ax=axes[1])\n",
    "axes[1].set_xlabel(\"Product sales\") #x label\n",
    "axes[1].set_title(\"Monthly product sales\")#title\n"
   ]
  },
  {
   "cell_type": "markdown",
   "id": "d3230d09",
   "metadata": {},
   "source": [
    "#### Results:\n",
    "1. **October and February** acheived the highest product sales\n",
    "2. **September, October, November and April** acheived the highest profits "
   ]
  },
  {
   "cell_type": "code",
   "execution_count": null,
   "id": "a9e1d480",
   "metadata": {},
   "outputs": [],
   "source": []
  }
 ],
 "metadata": {
  "kernelspec": {
   "display_name": "Python 3 (ipykernel)",
   "language": "python",
   "name": "python3"
  },
  "language_info": {
   "codemirror_mode": {
    "name": "ipython",
    "version": 3
   },
   "file_extension": ".py",
   "mimetype": "text/x-python",
   "name": "python",
   "nbconvert_exporter": "python",
   "pygments_lexer": "ipython3",
   "version": "3.9.9"
  }
 },
 "nbformat": 4,
 "nbformat_minor": 5
}
