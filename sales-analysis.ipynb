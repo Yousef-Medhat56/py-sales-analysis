{
 "cells": [
  {
   "cell_type": "code",
   "execution_count": 1,
   "id": "f8ef6821",
   "metadata": {},
   "outputs": [],
   "source": [
    "import pandas as pd\n",
    "import matplotlib.pyplot as plt\n",
    "%matplotlib inline\n",
    "import seaborn as sns"
   ]
  },
  {
   "cell_type": "markdown",
   "id": "d34ac630",
   "metadata": {},
   "source": [
    "## Read data"
   ]
  },
  {
   "cell_type": "code",
   "execution_count": 2,
   "id": "72a805b9",
   "metadata": {},
   "outputs": [],
   "source": [
    "df = pd.read_csv(\"./output/all-data.csv\")"
   ]
  },
  {
   "cell_type": "markdown",
   "id": "3cf03073",
   "metadata": {},
   "source": [
    "### Get concise summary of the dataframe "
   ]
  },
  {
   "cell_type": "code",
   "execution_count": 3,
   "id": "483bf4dd",
   "metadata": {},
   "outputs": [
    {
     "name": "stdout",
     "output_type": "stream",
     "text": [
      "There are 186850 rows and 6 columns\n"
     ]
    }
   ],
   "source": [
    "print(f\"There are {df.shape[0]} rows and {df.shape[1]} columns\")"
   ]
  },
  {
   "cell_type": "code",
   "execution_count": 4,
   "id": "149b58c1",
   "metadata": {},
   "outputs": [
    {
     "name": "stdout",
     "output_type": "stream",
     "text": [
      "<class 'pandas.core.frame.DataFrame'>\n",
      "RangeIndex: 186850 entries, 0 to 186849\n",
      "Data columns (total 6 columns):\n",
      " #   Column            Non-Null Count   Dtype \n",
      "---  ------            --------------   ----- \n",
      " 0   Order ID          186305 non-null  object\n",
      " 1   Product           186305 non-null  object\n",
      " 2   Quantity Ordered  186305 non-null  object\n",
      " 3   Price Each        186305 non-null  object\n",
      " 4   Order Date        186305 non-null  object\n",
      " 5   Purchase Address  186305 non-null  object\n",
      "dtypes: object(6)\n",
      "memory usage: 8.6+ MB\n"
     ]
    }
   ],
   "source": [
    "df.info()"
   ]
  },
  {
   "cell_type": "code",
   "execution_count": 5,
   "id": "919dd349",
   "metadata": {},
   "outputs": [
    {
     "data": {
      "text/html": [
       "<div>\n",
       "<style scoped>\n",
       "    .dataframe tbody tr th:only-of-type {\n",
       "        vertical-align: middle;\n",
       "    }\n",
       "\n",
       "    .dataframe tbody tr th {\n",
       "        vertical-align: top;\n",
       "    }\n",
       "\n",
       "    .dataframe thead th {\n",
       "        text-align: right;\n",
       "    }\n",
       "</style>\n",
       "<table border=\"1\" class=\"dataframe\">\n",
       "  <thead>\n",
       "    <tr style=\"text-align: right;\">\n",
       "      <th></th>\n",
       "      <th>Order ID</th>\n",
       "      <th>Product</th>\n",
       "      <th>Quantity Ordered</th>\n",
       "      <th>Price Each</th>\n",
       "      <th>Order Date</th>\n",
       "      <th>Purchase Address</th>\n",
       "    </tr>\n",
       "  </thead>\n",
       "  <tbody>\n",
       "    <tr>\n",
       "      <th>0</th>\n",
       "      <td>176558</td>\n",
       "      <td>USB-C Charging Cable</td>\n",
       "      <td>2</td>\n",
       "      <td>11.95</td>\n",
       "      <td>04/19/19 08:46</td>\n",
       "      <td>917 1st St, Dallas, TX 75001</td>\n",
       "    </tr>\n",
       "    <tr>\n",
       "      <th>1</th>\n",
       "      <td>NaN</td>\n",
       "      <td>NaN</td>\n",
       "      <td>NaN</td>\n",
       "      <td>NaN</td>\n",
       "      <td>NaN</td>\n",
       "      <td>NaN</td>\n",
       "    </tr>\n",
       "    <tr>\n",
       "      <th>2</th>\n",
       "      <td>176559</td>\n",
       "      <td>Bose SoundSport Headphones</td>\n",
       "      <td>1</td>\n",
       "      <td>99.99</td>\n",
       "      <td>04/07/19 22:30</td>\n",
       "      <td>682 Chestnut St, Boston, MA 02215</td>\n",
       "    </tr>\n",
       "    <tr>\n",
       "      <th>3</th>\n",
       "      <td>176560</td>\n",
       "      <td>Google Phone</td>\n",
       "      <td>1</td>\n",
       "      <td>600</td>\n",
       "      <td>04/12/19 14:38</td>\n",
       "      <td>669 Spruce St, Los Angeles, CA 90001</td>\n",
       "    </tr>\n",
       "    <tr>\n",
       "      <th>4</th>\n",
       "      <td>176560</td>\n",
       "      <td>Wired Headphones</td>\n",
       "      <td>1</td>\n",
       "      <td>11.99</td>\n",
       "      <td>04/12/19 14:38</td>\n",
       "      <td>669 Spruce St, Los Angeles, CA 90001</td>\n",
       "    </tr>\n",
       "  </tbody>\n",
       "</table>\n",
       "</div>"
      ],
      "text/plain": [
       "  Order ID                     Product Quantity Ordered Price Each  \\\n",
       "0   176558        USB-C Charging Cable                2      11.95   \n",
       "1      NaN                         NaN              NaN        NaN   \n",
       "2   176559  Bose SoundSport Headphones                1      99.99   \n",
       "3   176560                Google Phone                1        600   \n",
       "4   176560            Wired Headphones                1      11.99   \n",
       "\n",
       "       Order Date                      Purchase Address  \n",
       "0  04/19/19 08:46          917 1st St, Dallas, TX 75001  \n",
       "1             NaN                                   NaN  \n",
       "2  04/07/19 22:30     682 Chestnut St, Boston, MA 02215  \n",
       "3  04/12/19 14:38  669 Spruce St, Los Angeles, CA 90001  \n",
       "4  04/12/19 14:38  669 Spruce St, Los Angeles, CA 90001  "
      ]
     },
     "execution_count": 5,
     "metadata": {},
     "output_type": "execute_result"
    }
   ],
   "source": [
    "df.head()"
   ]
  },
  {
   "cell_type": "markdown",
   "id": "e4f9004f",
   "metadata": {},
   "source": [
    "## Data Cleaning"
   ]
  },
  {
   "cell_type": "markdown",
   "id": "f744e33e",
   "metadata": {},
   "source": [
    "### First: Column labels"
   ]
  },
  {
   "cell_type": "code",
   "execution_count": 6,
   "id": "152807c0",
   "metadata": {},
   "outputs": [
    {
     "data": {
      "text/plain": [
       "Index(['Order ID', 'Product', 'Quantity Ordered', 'Price Each', 'Order Date',\n",
       "       'Purchase Address'],\n",
       "      dtype='object')"
      ]
     },
     "execution_count": 6,
     "metadata": {},
     "output_type": "execute_result"
    }
   ],
   "source": [
    "df.columns"
   ]
  },
  {
   "cell_type": "markdown",
   "id": "94d3837a",
   "metadata": {},
   "source": [
    "##### We notice two problems with column labels:\n",
    "1. They are long.\n",
    "2. There is a space in some labels."
   ]
  },
  {
   "cell_type": "markdown",
   "id": "933870ff",
   "metadata": {},
   "source": [
    "#### Rename"
   ]
  },
  {
   "cell_type": "code",
   "execution_count": 7,
   "id": "8a76e708",
   "metadata": {},
   "outputs": [],
   "source": [
    "df.rename(columns={\"Quantity Ordered\":\"Quantity\",\n",
    "                   \"Price Each\":\"unit price\",\"Order Date\":\"Date\",\n",
    "                   \"Purchase Address\":\"Address\"},inplace=True)"
   ]
  },
  {
   "cell_type": "markdown",
   "id": "6d9f3d00",
   "metadata": {},
   "source": [
    "#### Capitalize"
   ]
  },
  {
   "cell_type": "code",
   "execution_count": 8,
   "id": "4e65aad5",
   "metadata": {},
   "outputs": [],
   "source": [
    "df.rename(str.title, axis='columns',inplace=True)"
   ]
  },
  {
   "cell_type": "markdown",
   "id": "c8183a33",
   "metadata": {},
   "source": [
    "#### Remove spaces "
   ]
  },
  {
   "cell_type": "code",
   "execution_count": 9,
   "id": "4e575ef9",
   "metadata": {},
   "outputs": [],
   "source": [
    "df.columns=df.columns.str.replace(\" \",\"\")"
   ]
  },
  {
   "cell_type": "markdown",
   "id": "209f381e",
   "metadata": {},
   "source": [
    "##### Let's look at them now"
   ]
  },
  {
   "cell_type": "code",
   "execution_count": 10,
   "id": "f998960d",
   "metadata": {},
   "outputs": [
    {
     "data": {
      "text/plain": [
       "Index(['OrderId', 'Product', 'Quantity', 'UnitPrice', 'Date', 'Address'], dtype='object')"
      ]
     },
     "execution_count": 10,
     "metadata": {},
     "output_type": "execute_result"
    }
   ],
   "source": [
    "df.columns"
   ]
  },
  {
   "cell_type": "markdown",
   "id": "f71358f7",
   "metadata": {},
   "source": [
    "### Second: Cast data types"
   ]
  },
  {
   "cell_type": "markdown",
   "id": "9a865505",
   "metadata": {},
   "source": [
    "#### Convert ```\"OrderId\",\"Quantity\",\"Price\"``` columns to numeric values"
   ]
  },
  {
   "cell_type": "code",
   "execution_count": 11,
   "id": "d4202809",
   "metadata": {},
   "outputs": [],
   "source": [
    "df[[\"OrderId\",\"Quantity\",\"UnitPrice\"]]=df[[\"OrderId\",\"Quantity\",\"UnitPrice\"]].apply(pd.to_numeric,errors=\"coerce\",downcast ='integer')"
   ]
  },
  {
   "cell_type": "markdown",
   "id": "4c2506bc",
   "metadata": {},
   "source": [
    "#### Convert ```\"Date\"``` column to datetime object"
   ]
  },
  {
   "cell_type": "code",
   "execution_count": 12,
   "id": "bd7b7ce3",
   "metadata": {},
   "outputs": [],
   "source": [
    "df[\"Date\"] = pd.to_datetime(df[\"Date\"],format = \"%d/%m/%y %H:%M\",errors=\"coerce\")"
   ]
  },
  {
   "cell_type": "markdown",
   "id": "fd8e3d2b",
   "metadata": {},
   "source": [
    "#### Drop NaN values"
   ]
  },
  {
   "cell_type": "code",
   "execution_count": 13,
   "id": "fb6e4301",
   "metadata": {},
   "outputs": [],
   "source": [
    "df.dropna(inplace=True)"
   ]
  },
  {
   "cell_type": "markdown",
   "id": "db9ed2bc",
   "metadata": {},
   "source": [
    "#### Convert ```\"OrderId\",\"Quantity\"``` columns to integer\n",
    "The data type of these columns is **float** because there were **NaN values** at them, but after dropping them in the last step, we can now convert the columns into **integer**."
   ]
  },
  {
   "cell_type": "code",
   "execution_count": 14,
   "id": "c31d962e",
   "metadata": {},
   "outputs": [
    {
     "data": {
      "text/plain": [
       "OrderId     float64\n",
       "Quantity    float64\n",
       "dtype: object"
      ]
     },
     "execution_count": 14,
     "metadata": {},
     "output_type": "execute_result"
    }
   ],
   "source": [
    "df[[\"OrderId\",\"Quantity\"]].dtypes"
   ]
  },
  {
   "cell_type": "code",
   "execution_count": 15,
   "id": "3109a42e",
   "metadata": {},
   "outputs": [],
   "source": [
    "convert_dict = {'OrderId': int,\n",
    "                'Quantity': int\n",
    "               }\n",
    "  \n",
    "df = df.astype(convert_dict)"
   ]
  },
  {
   "cell_type": "markdown",
   "id": "cfaf35be",
   "metadata": {},
   "source": [
    "### Third: Set the ```\"Date\"``` column as index"
   ]
  },
  {
   "cell_type": "code",
   "execution_count": 16,
   "id": "a7bd438b",
   "metadata": {},
   "outputs": [],
   "source": [
    "df.set_index(\"Date\",inplace=True)\n",
    "df.sort_index(inplace=True) #sort rows by their date"
   ]
  },
  {
   "cell_type": "code",
   "execution_count": 17,
   "id": "957b4c46",
   "metadata": {},
   "outputs": [
    {
     "data": {
      "text/html": [
       "<div>\n",
       "<style scoped>\n",
       "    .dataframe tbody tr th:only-of-type {\n",
       "        vertical-align: middle;\n",
       "    }\n",
       "\n",
       "    .dataframe tbody tr th {\n",
       "        vertical-align: top;\n",
       "    }\n",
       "\n",
       "    .dataframe thead th {\n",
       "        text-align: right;\n",
       "    }\n",
       "</style>\n",
       "<table border=\"1\" class=\"dataframe\">\n",
       "  <thead>\n",
       "    <tr style=\"text-align: right;\">\n",
       "      <th></th>\n",
       "      <th>OrderId</th>\n",
       "      <th>Product</th>\n",
       "      <th>Quantity</th>\n",
       "      <th>UnitPrice</th>\n",
       "      <th>Address</th>\n",
       "    </tr>\n",
       "    <tr>\n",
       "      <th>Date</th>\n",
       "      <th></th>\n",
       "      <th></th>\n",
       "      <th></th>\n",
       "      <th></th>\n",
       "      <th></th>\n",
       "    </tr>\n",
       "  </thead>\n",
       "  <tbody>\n",
       "    <tr>\n",
       "      <th>2019-01-01 03:07:00</th>\n",
       "      <td>147268</td>\n",
       "      <td>Wired Headphones</td>\n",
       "      <td>1</td>\n",
       "      <td>11.99</td>\n",
       "      <td>9 Lake St, New York City, NY 10001</td>\n",
       "    </tr>\n",
       "    <tr>\n",
       "      <th>2019-01-01 03:40:00</th>\n",
       "      <td>148041</td>\n",
       "      <td>USB-C Charging Cable</td>\n",
       "      <td>1</td>\n",
       "      <td>11.95</td>\n",
       "      <td>760 Church St, San Francisco, CA 94016</td>\n",
       "    </tr>\n",
       "    <tr>\n",
       "      <th>2019-01-01 04:56:00</th>\n",
       "      <td>149343</td>\n",
       "      <td>Apple Airpods Headphones</td>\n",
       "      <td>1</td>\n",
       "      <td>150.00</td>\n",
       "      <td>735 5th St, New York City, NY 10001</td>\n",
       "    </tr>\n",
       "    <tr>\n",
       "      <th>2019-01-01 05:53:00</th>\n",
       "      <td>149964</td>\n",
       "      <td>AAA Batteries (4-pack)</td>\n",
       "      <td>1</td>\n",
       "      <td>2.99</td>\n",
       "      <td>75 Jackson St, Dallas, TX 75001</td>\n",
       "    </tr>\n",
       "    <tr>\n",
       "      <th>2019-01-01 06:03:00</th>\n",
       "      <td>149350</td>\n",
       "      <td>USB-C Charging Cable</td>\n",
       "      <td>2</td>\n",
       "      <td>11.95</td>\n",
       "      <td>943 2nd St, Atlanta, GA 30301</td>\n",
       "    </tr>\n",
       "  </tbody>\n",
       "</table>\n",
       "</div>"
      ],
      "text/plain": [
       "                     OrderId                   Product  Quantity  UnitPrice  \\\n",
       "Date                                                                          \n",
       "2019-01-01 03:07:00   147268          Wired Headphones         1      11.99   \n",
       "2019-01-01 03:40:00   148041      USB-C Charging Cable         1      11.95   \n",
       "2019-01-01 04:56:00   149343  Apple Airpods Headphones         1     150.00   \n",
       "2019-01-01 05:53:00   149964    AAA Batteries (4-pack)         1       2.99   \n",
       "2019-01-01 06:03:00   149350      USB-C Charging Cable         2      11.95   \n",
       "\n",
       "                                                    Address  \n",
       "Date                                                         \n",
       "2019-01-01 03:07:00      9 Lake St, New York City, NY 10001  \n",
       "2019-01-01 03:40:00  760 Church St, San Francisco, CA 94016  \n",
       "2019-01-01 04:56:00     735 5th St, New York City, NY 10001  \n",
       "2019-01-01 05:53:00         75 Jackson St, Dallas, TX 75001  \n",
       "2019-01-01 06:03:00           943 2nd St, Atlanta, GA 30301  "
      ]
     },
     "execution_count": 17,
     "metadata": {},
     "output_type": "execute_result"
    }
   ],
   "source": [
    "df.head()"
   ]
  },
  {
   "cell_type": "markdown",
   "id": "0bf00690",
   "metadata": {},
   "source": [
    "### Fourth: Add new columns"
   ]
  },
  {
   "cell_type": "markdown",
   "id": "60696e73",
   "metadata": {},
   "source": [
    "#### Add ```\"Month\"``` column"
   ]
  },
  {
   "cell_type": "code",
   "execution_count": 18,
   "id": "0d3b10e9",
   "metadata": {},
   "outputs": [],
   "source": [
    "df[\"Month\"]=df.index.month_name()"
   ]
  },
  {
   "cell_type": "markdown",
   "id": "bff2e023",
   "metadata": {},
   "source": [
    "#### Add ```\"DayOrder\"``` column"
   ]
  },
  {
   "cell_type": "code",
   "execution_count": 19,
   "id": "47a3fce4",
   "metadata": {},
   "outputs": [],
   "source": [
    "df[\"DayOrder\"]=df.index.day"
   ]
  },
  {
   "cell_type": "markdown",
   "id": "a65b43fe",
   "metadata": {},
   "source": [
    "#### Add ```\"DayName\"``` column"
   ]
  },
  {
   "cell_type": "code",
   "execution_count": 20,
   "id": "9ed5a3ca",
   "metadata": {},
   "outputs": [],
   "source": [
    "df[\"DayName\"]=df.index.day_name()"
   ]
  },
  {
   "cell_type": "markdown",
   "id": "d6d42a30",
   "metadata": {},
   "source": [
    "#### Add ```\"TotalCost\"``` column "
   ]
  },
  {
   "cell_type": "code",
   "execution_count": 21,
   "id": "fe440e75",
   "metadata": {},
   "outputs": [],
   "source": [
    "df[\"TotalCost\"] = df[\"Quantity\"] * df[\"UnitPrice\"]"
   ]
  },
  {
   "cell_type": "markdown",
   "id": "59a6a303",
   "metadata": {},
   "source": [
    "#### Add ```\"City\"``` column"
   ]
  },
  {
   "cell_type": "code",
   "execution_count": 22,
   "id": "3744f35e",
   "metadata": {},
   "outputs": [
    {
     "data": {
      "text/plain": [
       "Date\n",
       "2019-01-01 03:07:00        9 Lake St, New York City, NY 10001\n",
       "2019-01-01 03:40:00    760 Church St, San Francisco, CA 94016\n",
       "2019-01-01 04:56:00       735 5th St, New York City, NY 10001\n",
       "Name: Address, dtype: object"
      ]
     },
     "execution_count": 22,
     "metadata": {},
     "output_type": "execute_result"
    }
   ],
   "source": [
    "df[\"Address\"].head(3)"
   ]
  },
  {
   "cell_type": "markdown",
   "id": "fbdb101b",
   "metadata": {},
   "source": [
    "##### 1. Split the address column"
   ]
  },
  {
   "cell_type": "code",
   "execution_count": 23,
   "id": "b47d0a09",
   "metadata": {},
   "outputs": [
    {
     "data": {
      "text/html": [
       "<div>\n",
       "<style scoped>\n",
       "    .dataframe tbody tr th:only-of-type {\n",
       "        vertical-align: middle;\n",
       "    }\n",
       "\n",
       "    .dataframe tbody tr th {\n",
       "        vertical-align: top;\n",
       "    }\n",
       "\n",
       "    .dataframe thead th {\n",
       "        text-align: right;\n",
       "    }\n",
       "</style>\n",
       "<table border=\"1\" class=\"dataframe\">\n",
       "  <thead>\n",
       "    <tr style=\"text-align: right;\">\n",
       "      <th></th>\n",
       "      <th>0</th>\n",
       "      <th>1</th>\n",
       "      <th>2</th>\n",
       "    </tr>\n",
       "    <tr>\n",
       "      <th>Date</th>\n",
       "      <th></th>\n",
       "      <th></th>\n",
       "      <th></th>\n",
       "    </tr>\n",
       "  </thead>\n",
       "  <tbody>\n",
       "    <tr>\n",
       "      <th>2019-01-01 03:07:00</th>\n",
       "      <td>9 Lake St</td>\n",
       "      <td>New York City</td>\n",
       "      <td>NY 10001</td>\n",
       "    </tr>\n",
       "    <tr>\n",
       "      <th>2019-01-01 03:40:00</th>\n",
       "      <td>760 Church St</td>\n",
       "      <td>San Francisco</td>\n",
       "      <td>CA 94016</td>\n",
       "    </tr>\n",
       "    <tr>\n",
       "      <th>2019-01-01 04:56:00</th>\n",
       "      <td>735 5th St</td>\n",
       "      <td>New York City</td>\n",
       "      <td>NY 10001</td>\n",
       "    </tr>\n",
       "  </tbody>\n",
       "</table>\n",
       "</div>"
      ],
      "text/plain": [
       "                                 0              1         2\n",
       "Date                                                       \n",
       "2019-01-01 03:07:00      9 Lake St  New York City  NY 10001\n",
       "2019-01-01 03:40:00  760 Church St  San Francisco  CA 94016\n",
       "2019-01-01 04:56:00     735 5th St  New York City  NY 10001"
      ]
     },
     "execution_count": 23,
     "metadata": {},
     "output_type": "execute_result"
    }
   ],
   "source": [
    "splited_address = df[\"Address\"].str.split(\", \",expand=True)\n",
    "splited_address.head(3)"
   ]
  },
  {
   "cell_type": "markdown",
   "id": "e62a9f42",
   "metadata": {},
   "source": [
    "##### 2. Split the  (state and postal code) column"
   ]
  },
  {
   "cell_type": "code",
   "execution_count": 24,
   "id": "4be4ce2a",
   "metadata": {},
   "outputs": [
    {
     "data": {
      "text/html": [
       "<div>\n",
       "<style scoped>\n",
       "    .dataframe tbody tr th:only-of-type {\n",
       "        vertical-align: middle;\n",
       "    }\n",
       "\n",
       "    .dataframe tbody tr th {\n",
       "        vertical-align: top;\n",
       "    }\n",
       "\n",
       "    .dataframe thead th {\n",
       "        text-align: right;\n",
       "    }\n",
       "</style>\n",
       "<table border=\"1\" class=\"dataframe\">\n",
       "  <thead>\n",
       "    <tr style=\"text-align: right;\">\n",
       "      <th></th>\n",
       "      <th>0</th>\n",
       "      <th>1</th>\n",
       "    </tr>\n",
       "    <tr>\n",
       "      <th>Date</th>\n",
       "      <th></th>\n",
       "      <th></th>\n",
       "    </tr>\n",
       "  </thead>\n",
       "  <tbody>\n",
       "    <tr>\n",
       "      <th>2019-01-01 03:07:00</th>\n",
       "      <td>NY</td>\n",
       "      <td>10001</td>\n",
       "    </tr>\n",
       "    <tr>\n",
       "      <th>2019-01-01 03:40:00</th>\n",
       "      <td>CA</td>\n",
       "      <td>94016</td>\n",
       "    </tr>\n",
       "    <tr>\n",
       "      <th>2019-01-01 04:56:00</th>\n",
       "      <td>NY</td>\n",
       "      <td>10001</td>\n",
       "    </tr>\n",
       "  </tbody>\n",
       "</table>\n",
       "</div>"
      ],
      "text/plain": [
       "                      0      1\n",
       "Date                          \n",
       "2019-01-01 03:07:00  NY  10001\n",
       "2019-01-01 03:40:00  CA  94016\n",
       "2019-01-01 04:56:00  NY  10001"
      ]
     },
     "execution_count": 24,
     "metadata": {},
     "output_type": "execute_result"
    }
   ],
   "source": [
    "splited_state_postalcode = splited_address[2].str.split(expand=True)\n",
    "splited_state_postalcode.head(3)"
   ]
  },
  {
   "cell_type": "markdown",
   "id": "27018bfe",
   "metadata": {},
   "source": [
    "##### 3. Merge states and cities in one column"
   ]
  },
  {
   "cell_type": "code",
   "execution_count": 25,
   "id": "7a0b74a0",
   "metadata": {},
   "outputs": [
    {
     "data": {
      "text/plain": [
       "Date\n",
       "2019-01-01 03:07:00    New York City, NY\n",
       "2019-01-01 03:40:00    San Francisco, CA\n",
       "2019-01-01 04:56:00    New York City, NY\n",
       "Name: 1, dtype: object"
      ]
     },
     "execution_count": 25,
     "metadata": {},
     "output_type": "execute_result"
    }
   ],
   "source": [
    "cities = splited_address[1]\n",
    "states = splited_state_postalcode[0]\n",
    "\n",
    "merged_city_state = cities.str.cat(states,sep=\", \")\n",
    "merged_city_state.head(3)"
   ]
  },
  {
   "cell_type": "markdown",
   "id": "a1756c59",
   "metadata": {},
   "source": [
    "##### 4. Add the ```\"City\"``` column"
   ]
  },
  {
   "cell_type": "code",
   "execution_count": 26,
   "id": "41b233e9",
   "metadata": {},
   "outputs": [],
   "source": [
    "df[\"City\"] = merged_city_state"
   ]
  },
  {
   "cell_type": "markdown",
   "id": "0275c284",
   "metadata": {},
   "source": [
    "<hr>"
   ]
  },
  {
   "cell_type": "code",
   "execution_count": 27,
   "id": "2e3e979e",
   "metadata": {
    "scrolled": true
   },
   "outputs": [
    {
     "name": "stdout",
     "output_type": "stream",
     "text": [
      "After cleaning the data up,There are 72871 rows and 10 columns\n"
     ]
    }
   ],
   "source": [
    "print(f\"After cleaning the data up,There are {df.shape[0]} rows and {df.shape[1]} columns\")"
   ]
  },
  {
   "cell_type": "code",
   "execution_count": 28,
   "id": "12fd1685",
   "metadata": {},
   "outputs": [
    {
     "data": {
      "text/html": [
       "<div>\n",
       "<style scoped>\n",
       "    .dataframe tbody tr th:only-of-type {\n",
       "        vertical-align: middle;\n",
       "    }\n",
       "\n",
       "    .dataframe tbody tr th {\n",
       "        vertical-align: top;\n",
       "    }\n",
       "\n",
       "    .dataframe thead th {\n",
       "        text-align: right;\n",
       "    }\n",
       "</style>\n",
       "<table border=\"1\" class=\"dataframe\">\n",
       "  <thead>\n",
       "    <tr style=\"text-align: right;\">\n",
       "      <th></th>\n",
       "      <th>OrderId</th>\n",
       "      <th>Product</th>\n",
       "      <th>Quantity</th>\n",
       "      <th>UnitPrice</th>\n",
       "      <th>Address</th>\n",
       "      <th>Month</th>\n",
       "      <th>DayOrder</th>\n",
       "      <th>DayName</th>\n",
       "      <th>TotalCost</th>\n",
       "      <th>City</th>\n",
       "    </tr>\n",
       "    <tr>\n",
       "      <th>Date</th>\n",
       "      <th></th>\n",
       "      <th></th>\n",
       "      <th></th>\n",
       "      <th></th>\n",
       "      <th></th>\n",
       "      <th></th>\n",
       "      <th></th>\n",
       "      <th></th>\n",
       "      <th></th>\n",
       "      <th></th>\n",
       "    </tr>\n",
       "  </thead>\n",
       "  <tbody>\n",
       "    <tr>\n",
       "      <th>2019-01-01 03:07:00</th>\n",
       "      <td>147268</td>\n",
       "      <td>Wired Headphones</td>\n",
       "      <td>1</td>\n",
       "      <td>11.99</td>\n",
       "      <td>9 Lake St, New York City, NY 10001</td>\n",
       "      <td>January</td>\n",
       "      <td>1</td>\n",
       "      <td>Tuesday</td>\n",
       "      <td>11.99</td>\n",
       "      <td>New York City, NY</td>\n",
       "    </tr>\n",
       "    <tr>\n",
       "      <th>2019-01-01 03:40:00</th>\n",
       "      <td>148041</td>\n",
       "      <td>USB-C Charging Cable</td>\n",
       "      <td>1</td>\n",
       "      <td>11.95</td>\n",
       "      <td>760 Church St, San Francisco, CA 94016</td>\n",
       "      <td>January</td>\n",
       "      <td>1</td>\n",
       "      <td>Tuesday</td>\n",
       "      <td>11.95</td>\n",
       "      <td>San Francisco, CA</td>\n",
       "    </tr>\n",
       "    <tr>\n",
       "      <th>2019-01-01 04:56:00</th>\n",
       "      <td>149343</td>\n",
       "      <td>Apple Airpods Headphones</td>\n",
       "      <td>1</td>\n",
       "      <td>150.00</td>\n",
       "      <td>735 5th St, New York City, NY 10001</td>\n",
       "      <td>January</td>\n",
       "      <td>1</td>\n",
       "      <td>Tuesday</td>\n",
       "      <td>150.00</td>\n",
       "      <td>New York City, NY</td>\n",
       "    </tr>\n",
       "    <tr>\n",
       "      <th>2019-01-01 05:53:00</th>\n",
       "      <td>149964</td>\n",
       "      <td>AAA Batteries (4-pack)</td>\n",
       "      <td>1</td>\n",
       "      <td>2.99</td>\n",
       "      <td>75 Jackson St, Dallas, TX 75001</td>\n",
       "      <td>January</td>\n",
       "      <td>1</td>\n",
       "      <td>Tuesday</td>\n",
       "      <td>2.99</td>\n",
       "      <td>Dallas, TX</td>\n",
       "    </tr>\n",
       "    <tr>\n",
       "      <th>2019-01-01 06:03:00</th>\n",
       "      <td>149350</td>\n",
       "      <td>USB-C Charging Cable</td>\n",
       "      <td>2</td>\n",
       "      <td>11.95</td>\n",
       "      <td>943 2nd St, Atlanta, GA 30301</td>\n",
       "      <td>January</td>\n",
       "      <td>1</td>\n",
       "      <td>Tuesday</td>\n",
       "      <td>23.90</td>\n",
       "      <td>Atlanta, GA</td>\n",
       "    </tr>\n",
       "  </tbody>\n",
       "</table>\n",
       "</div>"
      ],
      "text/plain": [
       "                     OrderId                   Product  Quantity  UnitPrice  \\\n",
       "Date                                                                          \n",
       "2019-01-01 03:07:00   147268          Wired Headphones         1      11.99   \n",
       "2019-01-01 03:40:00   148041      USB-C Charging Cable         1      11.95   \n",
       "2019-01-01 04:56:00   149343  Apple Airpods Headphones         1     150.00   \n",
       "2019-01-01 05:53:00   149964    AAA Batteries (4-pack)         1       2.99   \n",
       "2019-01-01 06:03:00   149350      USB-C Charging Cable         2      11.95   \n",
       "\n",
       "                                                    Address    Month  \\\n",
       "Date                                                                   \n",
       "2019-01-01 03:07:00      9 Lake St, New York City, NY 10001  January   \n",
       "2019-01-01 03:40:00  760 Church St, San Francisco, CA 94016  January   \n",
       "2019-01-01 04:56:00     735 5th St, New York City, NY 10001  January   \n",
       "2019-01-01 05:53:00         75 Jackson St, Dallas, TX 75001  January   \n",
       "2019-01-01 06:03:00           943 2nd St, Atlanta, GA 30301  January   \n",
       "\n",
       "                     DayOrder  DayName  TotalCost               City  \n",
       "Date                                                                  \n",
       "2019-01-01 03:07:00         1  Tuesday      11.99  New York City, NY  \n",
       "2019-01-01 03:40:00         1  Tuesday      11.95  San Francisco, CA  \n",
       "2019-01-01 04:56:00         1  Tuesday     150.00  New York City, NY  \n",
       "2019-01-01 05:53:00         1  Tuesday       2.99         Dallas, TX  \n",
       "2019-01-01 06:03:00         1  Tuesday      23.90        Atlanta, GA  "
      ]
     },
     "execution_count": 28,
     "metadata": {},
     "output_type": "execute_result"
    }
   ],
   "source": [
    "df.head()"
   ]
  },
  {
   "cell_type": "markdown",
   "id": "36767b38",
   "metadata": {},
   "source": [
    " ## Exploring the data"
   ]
  },
  {
   "cell_type": "markdown",
   "id": "4efb58fa",
   "metadata": {},
   "source": [
    "#### Change the style of the figure to the \"dark\" theme"
   ]
  },
  {
   "cell_type": "code",
   "execution_count": 29,
   "id": "c65c0a54",
   "metadata": {},
   "outputs": [],
   "source": [
    "sns.set_style(\"whitegrid\")"
   ]
  },
  {
   "cell_type": "markdown",
   "id": "fd572c21",
   "metadata": {},
   "source": [
    "### Q #1: Which months acheived higher product sales and which acheived higher profit?"
   ]
  },
  {
   "cell_type": "markdown",
   "id": "46f2435e",
   "metadata": {},
   "source": [
    "#### Step #1: Group data by ```\"Month\"``` column"
   ]
  },
  {
   "cell_type": "code",
   "execution_count": 30,
   "id": "22393e0d",
   "metadata": {},
   "outputs": [],
   "source": [
    "month_group=df.loc[\"2019\"].groupby(\"Month\" ,sort = False)"
   ]
  },
  {
   "cell_type": "markdown",
   "id": "65943179",
   "metadata": {},
   "source": [
    "#### Step #2: Get the monthly product sales"
   ]
  },
  {
   "cell_type": "code",
   "execution_count": 31,
   "id": "ca6e7d96",
   "metadata": {},
   "outputs": [
    {
     "data": {
      "text/plain": [
       "Month\n",
       "January     6826\n",
       "February    6962\n",
       "March       6534\n",
       "April       6813\n",
       "May         6816\n",
       "Name: Quantity, dtype: int32"
      ]
     },
     "execution_count": 31,
     "metadata": {},
     "output_type": "execute_result"
    }
   ],
   "source": [
    "monthly_product_sales= month_group[\"Quantity\"].sum()\n",
    "monthly_product_sales.head()"
   ]
  },
  {
   "cell_type": "markdown",
   "id": "667c205e",
   "metadata": {},
   "source": [
    "#### Step #3: Get the monthly profit"
   ]
  },
  {
   "cell_type": "code",
   "execution_count": 32,
   "id": "ee2606a2",
   "metadata": {},
   "outputs": [
    {
     "data": {
      "text/plain": [
       "Month\n",
       "January     1157648.96\n",
       "February    1137457.04\n",
       "March       1074432.90\n",
       "April       1163857.72\n",
       "May         1135284.73\n",
       "Name: TotalCost, dtype: float64"
      ]
     },
     "execution_count": 32,
     "metadata": {},
     "output_type": "execute_result"
    }
   ],
   "source": [
    "monthly_profit= month_group[\"TotalCost\"].sum()\n",
    "monthly_profit.head()"
   ]
  },
  {
   "cell_type": "markdown",
   "id": "fa652d60",
   "metadata": {},
   "source": [
    "#### Step #4: Data visualization"
   ]
  },
  {
   "cell_type": "code",
   "execution_count": 33,
   "id": "65fdc50d",
   "metadata": {
    "scrolled": true
   },
   "outputs": [
    {
     "data": {
      "text/plain": [
       "Text(0.5, 1.0, 'Monthly product sales')"
      ]
     },
     "execution_count": 33,
     "metadata": {},
     "output_type": "execute_result"
    },
    {
     "data": {
      "image/png": "[encoded data removed]",
      "text/plain": [
       "<Figure size 1008x432 with 2 Axes>"
      ]
     },
     "metadata": {},
     "output_type": "display_data"
    }
   ],
   "source": [
    "# Create subplot\n",
    "fig,axes=plt.subplots(1,2,figsize=(14,6),sharey=True)\n",
    "fig.suptitle(\"Business performance (2019)\",fontweight=\"bold\")\n",
    "\n",
    "# months names list\n",
    "months = df[\"Month\"].unique()\n",
    "\n",
    "#The monthly profit plot\n",
    "sns.barplot(x=monthly_profit, y=months,ax=axes[0])\n",
    "axes[0].set_xlabel(\"Profits\") #x label\n",
    "axes[0].set_ylabel(\"Month\") #y label\n",
    "axes[0].set_title(\"Monthly profit\") #title\n",
    "\n",
    "#The monthly product sales plot\n",
    "sns.barplot(x=monthly_product_sales, y=months,ax=axes[1])\n",
    "axes[1].set_xlabel(\"Product sales\") #x label\n",
    "axes[1].set_title(\"Monthly product sales\")#title\n"
   ]
  },
  {
   "cell_type": "markdown",
   "id": "85dede86",
   "metadata": {},
   "source": [
    "#### Results:\n",
    "1. **October and February** acheived the highest product sales\n",
    "2. **September, October, November and April** acheived the highest profits "
   ]
  },
  {
   "cell_type": "markdown",
   "id": "5e0cabdd",
   "metadata": {},
   "source": [
    "### Q #2: Which products were highly sold each month?"
   ]
  },
  {
   "cell_type": "markdown",
   "id": "c18a1239",
   "metadata": {},
   "source": [
    "#### Step #1: Group the data by ```\"Month\"``` and ```\"Product\"``` columns "
   ]
  },
  {
   "cell_type": "code",
   "execution_count": 37,
   "id": "76732779",
   "metadata": {},
   "outputs": [
    {
     "data": {
      "text/html": [
       "<div>\n",
       "<style scoped>\n",
       "    .dataframe tbody tr th:only-of-type {\n",
       "        vertical-align: middle;\n",
       "    }\n",
       "\n",
       "    .dataframe tbody tr th {\n",
       "        vertical-align: top;\n",
       "    }\n",
       "\n",
       "    .dataframe thead th {\n",
       "        text-align: right;\n",
       "    }\n",
       "</style>\n",
       "<table border=\"1\" class=\"dataframe\">\n",
       "  <thead>\n",
       "    <tr style=\"text-align: right;\">\n",
       "      <th></th>\n",
       "      <th></th>\n",
       "      <th>OrderId</th>\n",
       "      <th>Quantity</th>\n",
       "      <th>UnitPrice</th>\n",
       "      <th>Address</th>\n",
       "      <th>DayOrder</th>\n",
       "      <th>DayName</th>\n",
       "      <th>TotalCost</th>\n",
       "      <th>City</th>\n",
       "    </tr>\n",
       "    <tr>\n",
       "      <th>Month</th>\n",
       "      <th>Product</th>\n",
       "      <th></th>\n",
       "      <th></th>\n",
       "      <th></th>\n",
       "      <th></th>\n",
       "      <th></th>\n",
       "      <th></th>\n",
       "      <th></th>\n",
       "      <th></th>\n",
       "    </tr>\n",
       "  </thead>\n",
       "  <tbody>\n",
       "    <tr>\n",
       "      <th rowspan=\"5\" valign=\"top\">January</th>\n",
       "      <th>Wired Headphones</th>\n",
       "      <td>147268</td>\n",
       "      <td>1</td>\n",
       "      <td>11.99</td>\n",
       "      <td>9 Lake St, New York City, NY 10001</td>\n",
       "      <td>1</td>\n",
       "      <td>Tuesday</td>\n",
       "      <td>11.99</td>\n",
       "      <td>New York City, NY</td>\n",
       "    </tr>\n",
       "    <tr>\n",
       "      <th>USB-C Charging Cable</th>\n",
       "      <td>148041</td>\n",
       "      <td>1</td>\n",
       "      <td>11.95</td>\n",
       "      <td>760 Church St, San Francisco, CA 94016</td>\n",
       "      <td>1</td>\n",
       "      <td>Tuesday</td>\n",
       "      <td>11.95</td>\n",
       "      <td>San Francisco, CA</td>\n",
       "    </tr>\n",
       "    <tr>\n",
       "      <th>Apple Airpods Headphones</th>\n",
       "      <td>149343</td>\n",
       "      <td>1</td>\n",
       "      <td>150.00</td>\n",
       "      <td>735 5th St, New York City, NY 10001</td>\n",
       "      <td>1</td>\n",
       "      <td>Tuesday</td>\n",
       "      <td>150.00</td>\n",
       "      <td>New York City, NY</td>\n",
       "    </tr>\n",
       "    <tr>\n",
       "      <th>AAA Batteries (4-pack)</th>\n",
       "      <td>149964</td>\n",
       "      <td>1</td>\n",
       "      <td>2.99</td>\n",
       "      <td>75 Jackson St, Dallas, TX 75001</td>\n",
       "      <td>1</td>\n",
       "      <td>Tuesday</td>\n",
       "      <td>2.99</td>\n",
       "      <td>Dallas, TX</td>\n",
       "    </tr>\n",
       "    <tr>\n",
       "      <th>iPhone</th>\n",
       "      <td>141732</td>\n",
       "      <td>1</td>\n",
       "      <td>700.00</td>\n",
       "      <td>446 Pine St, Atlanta, GA 30301</td>\n",
       "      <td>1</td>\n",
       "      <td>Tuesday</td>\n",
       "      <td>700.00</td>\n",
       "      <td>Atlanta, GA</td>\n",
       "    </tr>\n",
       "  </tbody>\n",
       "</table>\n",
       "</div>"
      ],
      "text/plain": [
       "                                  OrderId  Quantity  UnitPrice  \\\n",
       "Month   Product                                                  \n",
       "January Wired Headphones           147268         1      11.99   \n",
       "        USB-C Charging Cable       148041         1      11.95   \n",
       "        Apple Airpods Headphones   149343         1     150.00   \n",
       "        AAA Batteries (4-pack)     149964         1       2.99   \n",
       "        iPhone                     141732         1     700.00   \n",
       "\n",
       "                                                                 Address  \\\n",
       "Month   Product                                                            \n",
       "January Wired Headphones              9 Lake St, New York City, NY 10001   \n",
       "        USB-C Charging Cable      760 Church St, San Francisco, CA 94016   \n",
       "        Apple Airpods Headphones     735 5th St, New York City, NY 10001   \n",
       "        AAA Batteries (4-pack)           75 Jackson St, Dallas, TX 75001   \n",
       "        iPhone                            446 Pine St, Atlanta, GA 30301   \n",
       "\n",
       "                                  DayOrder  DayName  TotalCost  \\\n",
       "Month   Product                                                  \n",
       "January Wired Headphones                 1  Tuesday      11.99   \n",
       "        USB-C Charging Cable             1  Tuesday      11.95   \n",
       "        Apple Airpods Headphones         1  Tuesday     150.00   \n",
       "        AAA Batteries (4-pack)           1  Tuesday       2.99   \n",
       "        iPhone                           1  Tuesday     700.00   \n",
       "\n",
       "                                               City  \n",
       "Month   Product                                      \n",
       "January Wired Headphones          New York City, NY  \n",
       "        USB-C Charging Cable      San Francisco, CA  \n",
       "        Apple Airpods Headphones  New York City, NY  \n",
       "        AAA Batteries (4-pack)           Dallas, TX  \n",
       "        iPhone                          Atlanta, GA  "
      ]
     },
     "execution_count": 37,
     "metadata": {},
     "output_type": "execute_result"
    }
   ],
   "source": [
    "month_product_group = df.groupby([\"Month\",\"Product\"],sort=False)\n",
    "month_product_group.first().head()"
   ]
  },
  {
   "cell_type": "markdown",
   "id": "f60ec12a",
   "metadata": {},
   "source": [
    "#### Step #2: Get the count of sold items for each product during every month"
   ]
  },
  {
   "cell_type": "code",
   "execution_count": 43,
   "id": "1b007b15",
   "metadata": {},
   "outputs": [
    {
     "data": {
      "text/plain": [
       "Month    Product                 \n",
       "January  Wired Headphones             677\n",
       "         USB-C Charging Cable         850\n",
       "         Apple Airpods Headphones     486\n",
       "         AAA Batteries (4-pack)      1003\n",
       "         iPhone                       241\n",
       "Name: Quantity, dtype: int32"
      ]
     },
     "execution_count": 43,
     "metadata": {},
     "output_type": "execute_result"
    }
   ],
   "source": [
    "sold_items_count = month_product_group[\"Quantity\"].sum()\n",
    "sold_items_count.head()"
   ]
  },
  {
   "cell_type": "markdown",
   "id": "13faaa65",
   "metadata": {},
   "source": [
    "#### Step #3: Create new data frame"
   ]
  },
  {
   "cell_type": "code",
   "execution_count": 39,
   "id": "49bfabb0",
   "metadata": {},
   "outputs": [
    {
     "data": {
      "text/html": [
       "<div>\n",
       "<style scoped>\n",
       "    .dataframe tbody tr th:only-of-type {\n",
       "        vertical-align: middle;\n",
       "    }\n",
       "\n",
       "    .dataframe tbody tr th {\n",
       "        vertical-align: top;\n",
       "    }\n",
       "\n",
       "    .dataframe thead th {\n",
       "        text-align: right;\n",
       "    }\n",
       "</style>\n",
       "<table border=\"1\" class=\"dataframe\">\n",
       "  <thead>\n",
       "    <tr style=\"text-align: right;\">\n",
       "      <th></th>\n",
       "      <th>Wired Headphones</th>\n",
       "      <th>USB-C Charging Cable</th>\n",
       "      <th>Apple Airpods Headphones</th>\n",
       "      <th>AAA Batteries (4-pack)</th>\n",
       "      <th>iPhone</th>\n",
       "      <th>Lightning Charging Cable</th>\n",
       "      <th>34in Ultrawide Monitor</th>\n",
       "      <th>AA Batteries (4-pack)</th>\n",
       "      <th>Google Phone</th>\n",
       "      <th>Macbook Pro Laptop</th>\n",
       "      <th>ThinkPad Laptop</th>\n",
       "      <th>27in FHD Monitor</th>\n",
       "      <th>Bose SoundSport Headphones</th>\n",
       "      <th>Flatscreen TV</th>\n",
       "      <th>27in 4K Gaming Monitor</th>\n",
       "      <th>LG Dryer</th>\n",
       "      <th>20in Monitor</th>\n",
       "      <th>LG Washing Machine</th>\n",
       "      <th>Vareebadd Phone</th>\n",
       "    </tr>\n",
       "  </thead>\n",
       "  <tbody>\n",
       "    <tr>\n",
       "      <th>January</th>\n",
       "      <td>NaN</td>\n",
       "      <td>NaN</td>\n",
       "      <td>NaN</td>\n",
       "      <td>NaN</td>\n",
       "      <td>NaN</td>\n",
       "      <td>NaN</td>\n",
       "      <td>NaN</td>\n",
       "      <td>NaN</td>\n",
       "      <td>NaN</td>\n",
       "      <td>NaN</td>\n",
       "      <td>NaN</td>\n",
       "      <td>NaN</td>\n",
       "      <td>NaN</td>\n",
       "      <td>NaN</td>\n",
       "      <td>NaN</td>\n",
       "      <td>NaN</td>\n",
       "      <td>NaN</td>\n",
       "      <td>NaN</td>\n",
       "      <td>NaN</td>\n",
       "    </tr>\n",
       "    <tr>\n",
       "      <th>February</th>\n",
       "      <td>NaN</td>\n",
       "      <td>NaN</td>\n",
       "      <td>NaN</td>\n",
       "      <td>NaN</td>\n",
       "      <td>NaN</td>\n",
       "      <td>NaN</td>\n",
       "      <td>NaN</td>\n",
       "      <td>NaN</td>\n",
       "      <td>NaN</td>\n",
       "      <td>NaN</td>\n",
       "      <td>NaN</td>\n",
       "      <td>NaN</td>\n",
       "      <td>NaN</td>\n",
       "      <td>NaN</td>\n",
       "      <td>NaN</td>\n",
       "      <td>NaN</td>\n",
       "      <td>NaN</td>\n",
       "      <td>NaN</td>\n",
       "      <td>NaN</td>\n",
       "    </tr>\n",
       "    <tr>\n",
       "      <th>March</th>\n",
       "      <td>NaN</td>\n",
       "      <td>NaN</td>\n",
       "      <td>NaN</td>\n",
       "      <td>NaN</td>\n",
       "      <td>NaN</td>\n",
       "      <td>NaN</td>\n",
       "      <td>NaN</td>\n",
       "      <td>NaN</td>\n",
       "      <td>NaN</td>\n",
       "      <td>NaN</td>\n",
       "      <td>NaN</td>\n",
       "      <td>NaN</td>\n",
       "      <td>NaN</td>\n",
       "      <td>NaN</td>\n",
       "      <td>NaN</td>\n",
       "      <td>NaN</td>\n",
       "      <td>NaN</td>\n",
       "      <td>NaN</td>\n",
       "      <td>NaN</td>\n",
       "    </tr>\n",
       "    <tr>\n",
       "      <th>April</th>\n",
       "      <td>NaN</td>\n",
       "      <td>NaN</td>\n",
       "      <td>NaN</td>\n",
       "      <td>NaN</td>\n",
       "      <td>NaN</td>\n",
       "      <td>NaN</td>\n",
       "      <td>NaN</td>\n",
       "      <td>NaN</td>\n",
       "      <td>NaN</td>\n",
       "      <td>NaN</td>\n",
       "      <td>NaN</td>\n",
       "      <td>NaN</td>\n",
       "      <td>NaN</td>\n",
       "      <td>NaN</td>\n",
       "      <td>NaN</td>\n",
       "      <td>NaN</td>\n",
       "      <td>NaN</td>\n",
       "      <td>NaN</td>\n",
       "      <td>NaN</td>\n",
       "    </tr>\n",
       "    <tr>\n",
       "      <th>May</th>\n",
       "      <td>NaN</td>\n",
       "      <td>NaN</td>\n",
       "      <td>NaN</td>\n",
       "      <td>NaN</td>\n",
       "      <td>NaN</td>\n",
       "      <td>NaN</td>\n",
       "      <td>NaN</td>\n",
       "      <td>NaN</td>\n",
       "      <td>NaN</td>\n",
       "      <td>NaN</td>\n",
       "      <td>NaN</td>\n",
       "      <td>NaN</td>\n",
       "      <td>NaN</td>\n",
       "      <td>NaN</td>\n",
       "      <td>NaN</td>\n",
       "      <td>NaN</td>\n",
       "      <td>NaN</td>\n",
       "      <td>NaN</td>\n",
       "      <td>NaN</td>\n",
       "    </tr>\n",
       "  </tbody>\n",
       "</table>\n",
       "</div>"
      ],
      "text/plain": [
       "         Wired Headphones USB-C Charging Cable Apple Airpods Headphones  \\\n",
       "January               NaN                  NaN                      NaN   \n",
       "February              NaN                  NaN                      NaN   \n",
       "March                 NaN                  NaN                      NaN   \n",
       "April                 NaN                  NaN                      NaN   \n",
       "May                   NaN                  NaN                      NaN   \n",
       "\n",
       "         AAA Batteries (4-pack) iPhone Lightning Charging Cable  \\\n",
       "January                     NaN    NaN                      NaN   \n",
       "February                    NaN    NaN                      NaN   \n",
       "March                       NaN    NaN                      NaN   \n",
       "April                       NaN    NaN                      NaN   \n",
       "May                         NaN    NaN                      NaN   \n",
       "\n",
       "         34in Ultrawide Monitor AA Batteries (4-pack) Google Phone  \\\n",
       "January                     NaN                   NaN          NaN   \n",
       "February                    NaN                   NaN          NaN   \n",
       "March                       NaN                   NaN          NaN   \n",
       "April                       NaN                   NaN          NaN   \n",
       "May                         NaN                   NaN          NaN   \n",
       "\n",
       "         Macbook Pro Laptop ThinkPad Laptop 27in FHD Monitor  \\\n",
       "January                 NaN             NaN              NaN   \n",
       "February                NaN             NaN              NaN   \n",
       "March                   NaN             NaN              NaN   \n",
       "April                   NaN             NaN              NaN   \n",
       "May                     NaN             NaN              NaN   \n",
       "\n",
       "         Bose SoundSport Headphones Flatscreen TV 27in 4K Gaming Monitor  \\\n",
       "January                         NaN           NaN                    NaN   \n",
       "February                        NaN           NaN                    NaN   \n",
       "March                           NaN           NaN                    NaN   \n",
       "April                           NaN           NaN                    NaN   \n",
       "May                             NaN           NaN                    NaN   \n",
       "\n",
       "         LG Dryer 20in Monitor LG Washing Machine Vareebadd Phone  \n",
       "January       NaN          NaN                NaN             NaN  \n",
       "February      NaN          NaN                NaN             NaN  \n",
       "March         NaN          NaN                NaN             NaN  \n",
       "April         NaN          NaN                NaN             NaN  \n",
       "May           NaN          NaN                NaN             NaN  "
      ]
     },
     "execution_count": 39,
     "metadata": {},
     "output_type": "execute_result"
    }
   ],
   "source": [
    "month_product_df= pd.DataFrame(index=df[\"Month\"].unique(),columns=df[\"Product\"].unique())\n",
    "month_product_df.head()"
   ]
  },
  {
   "cell_type": "markdown",
   "id": "1df8f2a4",
   "metadata": {},
   "source": [
    "#### Step #4: Assign the value of each cell in the new data frame"
   ]
  },
  {
   "cell_type": "code",
   "execution_count": 48,
   "id": "0ea90f8f",
   "metadata": {},
   "outputs": [],
   "source": [
    "for month in month_product_df.index : #iterate over each month\n",
    "    for product in month_product_df.columns: #iterate over each month\n",
    "        month_product_df.loc[month,product] = sold_items_count.loc[month, product] #assign the cell value"
   ]
  },
  {
   "cell_type": "code",
   "execution_count": 50,
   "id": "89e1f086",
   "metadata": {},
   "outputs": [],
   "source": [
    "month_product_df=month_product_df.apply(pd.to_numeric) #convert the data frame to numeric values"
   ]
  },
  {
   "cell_type": "code",
   "execution_count": 49,
   "id": "039e3fc0",
   "metadata": {
    "scrolled": true
   },
   "outputs": [
    {
     "data": {
      "text/html": [
       "<div>\n",
       "<style scoped>\n",
       "    .dataframe tbody tr th:only-of-type {\n",
       "        vertical-align: middle;\n",
       "    }\n",
       "\n",
       "    .dataframe tbody tr th {\n",
       "        vertical-align: top;\n",
       "    }\n",
       "\n",
       "    .dataframe thead th {\n",
       "        text-align: right;\n",
       "    }\n",
       "</style>\n",
       "<table border=\"1\" class=\"dataframe\">\n",
       "  <thead>\n",
       "    <tr style=\"text-align: right;\">\n",
       "      <th></th>\n",
       "      <th>Wired Headphones</th>\n",
       "      <th>USB-C Charging Cable</th>\n",
       "      <th>Apple Airpods Headphones</th>\n",
       "      <th>AAA Batteries (4-pack)</th>\n",
       "      <th>iPhone</th>\n",
       "      <th>Lightning Charging Cable</th>\n",
       "      <th>34in Ultrawide Monitor</th>\n",
       "      <th>AA Batteries (4-pack)</th>\n",
       "      <th>Google Phone</th>\n",
       "      <th>Macbook Pro Laptop</th>\n",
       "      <th>ThinkPad Laptop</th>\n",
       "      <th>27in FHD Monitor</th>\n",
       "      <th>Bose SoundSport Headphones</th>\n",
       "      <th>Flatscreen TV</th>\n",
       "      <th>27in 4K Gaming Monitor</th>\n",
       "      <th>LG Dryer</th>\n",
       "      <th>20in Monitor</th>\n",
       "      <th>LG Washing Machine</th>\n",
       "      <th>Vareebadd Phone</th>\n",
       "    </tr>\n",
       "  </thead>\n",
       "  <tbody>\n",
       "    <tr>\n",
       "      <th>January</th>\n",
       "      <td>677</td>\n",
       "      <td>850</td>\n",
       "      <td>486</td>\n",
       "      <td>1003</td>\n",
       "      <td>241</td>\n",
       "      <td>734</td>\n",
       "      <td>202</td>\n",
       "      <td>874</td>\n",
       "      <td>190</td>\n",
       "      <td>163</td>\n",
       "      <td>151</td>\n",
       "      <td>252</td>\n",
       "      <td>441</td>\n",
       "      <td>153</td>\n",
       "      <td>199</td>\n",
       "      <td>19</td>\n",
       "      <td>146</td>\n",
       "      <td>15</td>\n",
       "      <td>71</td>\n",
       "    </tr>\n",
       "    <tr>\n",
       "      <th>February</th>\n",
       "      <td>715</td>\n",
       "      <td>766</td>\n",
       "      <td>548</td>\n",
       "      <td>1014</td>\n",
       "      <td>233</td>\n",
       "      <td>775</td>\n",
       "      <td>195</td>\n",
       "      <td>939</td>\n",
       "      <td>202</td>\n",
       "      <td>142</td>\n",
       "      <td>137</td>\n",
       "      <td>222</td>\n",
       "      <td>428</td>\n",
       "      <td>173</td>\n",
       "      <td>207</td>\n",
       "      <td>27</td>\n",
       "      <td>149</td>\n",
       "      <td>26</td>\n",
       "      <td>64</td>\n",
       "    </tr>\n",
       "    <tr>\n",
       "      <th>March</th>\n",
       "      <td>663</td>\n",
       "      <td>762</td>\n",
       "      <td>519</td>\n",
       "      <td>909</td>\n",
       "      <td>213</td>\n",
       "      <td>753</td>\n",
       "      <td>196</td>\n",
       "      <td>827</td>\n",
       "      <td>175</td>\n",
       "      <td>140</td>\n",
       "      <td>137</td>\n",
       "      <td>250</td>\n",
       "      <td>427</td>\n",
       "      <td>141</td>\n",
       "      <td>190</td>\n",
       "      <td>15</td>\n",
       "      <td>131</td>\n",
       "      <td>22</td>\n",
       "      <td>64</td>\n",
       "    </tr>\n",
       "    <tr>\n",
       "      <th>April</th>\n",
       "      <td>668</td>\n",
       "      <td>729</td>\n",
       "      <td>534</td>\n",
       "      <td>979</td>\n",
       "      <td>239</td>\n",
       "      <td>744</td>\n",
       "      <td>198</td>\n",
       "      <td>909</td>\n",
       "      <td>201</td>\n",
       "      <td>155</td>\n",
       "      <td>135</td>\n",
       "      <td>259</td>\n",
       "      <td>428</td>\n",
       "      <td>153</td>\n",
       "      <td>210</td>\n",
       "      <td>24</td>\n",
       "      <td>142</td>\n",
       "      <td>30</td>\n",
       "      <td>76</td>\n",
       "    </tr>\n",
       "    <tr>\n",
       "      <th>May</th>\n",
       "      <td>692</td>\n",
       "      <td>711</td>\n",
       "      <td>467</td>\n",
       "      <td>1093</td>\n",
       "      <td>216</td>\n",
       "      <td>770</td>\n",
       "      <td>178</td>\n",
       "      <td>866</td>\n",
       "      <td>191</td>\n",
       "      <td>174</td>\n",
       "      <td>122</td>\n",
       "      <td>251</td>\n",
       "      <td>466</td>\n",
       "      <td>169</td>\n",
       "      <td>224</td>\n",
       "      <td>12</td>\n",
       "      <td>140</td>\n",
       "      <td>23</td>\n",
       "      <td>51</td>\n",
       "    </tr>\n",
       "  </tbody>\n",
       "</table>\n",
       "</div>"
      ],
      "text/plain": [
       "         Wired Headphones USB-C Charging Cable Apple Airpods Headphones  \\\n",
       "January               677                  850                      486   \n",
       "February              715                  766                      548   \n",
       "March                 663                  762                      519   \n",
       "April                 668                  729                      534   \n",
       "May                   692                  711                      467   \n",
       "\n",
       "         AAA Batteries (4-pack) iPhone Lightning Charging Cable  \\\n",
       "January                    1003    241                      734   \n",
       "February                   1014    233                      775   \n",
       "March                       909    213                      753   \n",
       "April                       979    239                      744   \n",
       "May                        1093    216                      770   \n",
       "\n",
       "         34in Ultrawide Monitor AA Batteries (4-pack) Google Phone  \\\n",
       "January                     202                   874          190   \n",
       "February                    195                   939          202   \n",
       "March                       196                   827          175   \n",
       "April                       198                   909          201   \n",
       "May                         178                   866          191   \n",
       "\n",
       "         Macbook Pro Laptop ThinkPad Laptop 27in FHD Monitor  \\\n",
       "January                 163             151              252   \n",
       "February                142             137              222   \n",
       "March                   140             137              250   \n",
       "April                   155             135              259   \n",
       "May                     174             122              251   \n",
       "\n",
       "         Bose SoundSport Headphones Flatscreen TV 27in 4K Gaming Monitor  \\\n",
       "January                         441           153                    199   \n",
       "February                        428           173                    207   \n",
       "March                           427           141                    190   \n",
       "April                           428           153                    210   \n",
       "May                             466           169                    224   \n",
       "\n",
       "         LG Dryer 20in Monitor LG Washing Machine Vareebadd Phone  \n",
       "January        19          146                 15              71  \n",
       "February       27          149                 26              64  \n",
       "March          15          131                 22              64  \n",
       "April          24          142                 30              76  \n",
       "May            12          140                 23              51  "
      ]
     },
     "execution_count": 49,
     "metadata": {},
     "output_type": "execute_result"
    }
   ],
   "source": [
    "month_product_df.head()"
   ]
  },
  {
   "cell_type": "markdown",
   "id": "4910b314",
   "metadata": {},
   "source": [
    "#### Step #5: Visualize the data"
   ]
  },
  {
   "cell_type": "code",
   "execution_count": 53,
   "id": "cb0bfad5",
   "metadata": {
    "scrolled": true
   },
   "outputs": [
    {
     "data": {
      "text/plain": [
       "<AxesSubplot:>"
      ]
     },
     "execution_count": 53,
     "metadata": {},
     "output_type": "execute_result"
    },
    {
     "data": {
      "image/png": "[encoded data removed]",
      "text/plain": [
       "<Figure size 1368x720 with 2 Axes>"
      ]
     },
     "metadata": {},
     "output_type": "display_data"
    }
   ],
   "source": [
    "fig,ax = plt.subplots(figsize=(19,10))\n",
    "sns.heatmap(data=month_product_df.transpose(),ax=ax,linewidths=1,annot=True)"
   ]
  },
  {
   "cell_type": "markdown",
   "id": "68749d07",
   "metadata": {},
   "source": [
    "#### Results:\n",
    "1. **AAA Batteries (4-pack) and AA Batteries (4-pack)** were the highest sold products each month.\n",
    "2. **LG Dryer, LG Washing Machine and Vareebadd Phone** were the least sold products.\n"
   ]
  },
  {
   "cell_type": "code",
   "execution_count": null,
   "id": "67851b9d",
   "metadata": {},
   "outputs": [],
   "source": []
  }
 ],
 "metadata": {
  "kernelspec": {
   "display_name": "Python 3 (ipykernel)",
   "language": "python",
   "name": "python3"
  },
  "language_info": {
   "codemirror_mode": {
    "name": "ipython",
    "version": 3
   },
   "file_extension": ".py",
   "mimetype": "text/x-python",
   "name": "python",
   "nbconvert_exporter": "python",
   "pygments_lexer": "ipython3",
   "version": "3.9.9"
  }
 },
 "nbformat": 4,
 "nbformat_minor": 5
}
