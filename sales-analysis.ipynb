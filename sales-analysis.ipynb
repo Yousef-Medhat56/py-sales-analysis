{
 "cells": [
  {
   "cell_type": "code",
   "execution_count": 1,
   "id": "5a809f11",
   "metadata": {},
   "outputs": [],
   "source": [
    "import pandas as pd\n",
    "import matplotlib.pyplot as plt\n",
    "%matplotlib notebook\n",
    "import seaborn as sns"
   ]
  },
  {
   "cell_type": "markdown",
   "id": "a2f0707a",
   "metadata": {},
   "source": [
    "## Read data"
   ]
  },
  {
   "cell_type": "code",
   "execution_count": 2,
   "id": "7e04112d",
   "metadata": {},
   "outputs": [],
   "source": [
    "df = pd.read_csv(\"./output/all-data.csv\")"
   ]
  },
  {
   "cell_type": "markdown",
   "id": "d4ce6996",
   "metadata": {},
   "source": [
    "### Get concise summary of the dataframe "
   ]
  },
  {
   "cell_type": "code",
   "execution_count": 3,
   "id": "2c5911f6",
   "metadata": {},
   "outputs": [
    {
     "name": "stdout",
     "output_type": "stream",
     "text": [
      "<class 'pandas.core.frame.DataFrame'>\n",
      "RangeIndex: 186850 entries, 0 to 186849\n",
      "Data columns (total 6 columns):\n",
      " #   Column            Non-Null Count   Dtype \n",
      "---  ------            --------------   ----- \n",
      " 0   Order ID          186305 non-null  object\n",
      " 1   Product           186305 non-null  object\n",
      " 2   Quantity Ordered  186305 non-null  object\n",
      " 3   Price Each        186305 non-null  object\n",
      " 4   Order Date        186305 non-null  object\n",
      " 5   Purchase Address  186305 non-null  object\n",
      "dtypes: object(6)\n",
      "memory usage: 8.6+ MB\n"
     ]
    }
   ],
   "source": [
    "df.info()"
   ]
  },
  {
   "cell_type": "code",
   "execution_count": 4,
   "id": "cbac1258",
   "metadata": {},
   "outputs": [
    {
     "data": {
      "text/html": [
       "<div>\n",
       "<style scoped>\n",
       "    .dataframe tbody tr th:only-of-type {\n",
       "        vertical-align: middle;\n",
       "    }\n",
       "\n",
       "    .dataframe tbody tr th {\n",
       "        vertical-align: top;\n",
       "    }\n",
       "\n",
       "    .dataframe thead th {\n",
       "        text-align: right;\n",
       "    }\n",
       "</style>\n",
       "<table border=\"1\" class=\"dataframe\">\n",
       "  <thead>\n",
       "    <tr style=\"text-align: right;\">\n",
       "      <th></th>\n",
       "      <th>Order ID</th>\n",
       "      <th>Product</th>\n",
       "      <th>Quantity Ordered</th>\n",
       "      <th>Price Each</th>\n",
       "      <th>Order Date</th>\n",
       "      <th>Purchase Address</th>\n",
       "    </tr>\n",
       "  </thead>\n",
       "  <tbody>\n",
       "    <tr>\n",
       "      <th>0</th>\n",
       "      <td>176558</td>\n",
       "      <td>USB-C Charging Cable</td>\n",
       "      <td>2</td>\n",
       "      <td>11.95</td>\n",
       "      <td>04/19/19 08:46</td>\n",
       "      <td>917 1st St, Dallas, TX 75001</td>\n",
       "    </tr>\n",
       "    <tr>\n",
       "      <th>1</th>\n",
       "      <td>NaN</td>\n",
       "      <td>NaN</td>\n",
       "      <td>NaN</td>\n",
       "      <td>NaN</td>\n",
       "      <td>NaN</td>\n",
       "      <td>NaN</td>\n",
       "    </tr>\n",
       "    <tr>\n",
       "      <th>2</th>\n",
       "      <td>176559</td>\n",
       "      <td>Bose SoundSport Headphones</td>\n",
       "      <td>1</td>\n",
       "      <td>99.99</td>\n",
       "      <td>04/07/19 22:30</td>\n",
       "      <td>682 Chestnut St, Boston, MA 02215</td>\n",
       "    </tr>\n",
       "    <tr>\n",
       "      <th>3</th>\n",
       "      <td>176560</td>\n",
       "      <td>Google Phone</td>\n",
       "      <td>1</td>\n",
       "      <td>600</td>\n",
       "      <td>04/12/19 14:38</td>\n",
       "      <td>669 Spruce St, Los Angeles, CA 90001</td>\n",
       "    </tr>\n",
       "    <tr>\n",
       "      <th>4</th>\n",
       "      <td>176560</td>\n",
       "      <td>Wired Headphones</td>\n",
       "      <td>1</td>\n",
       "      <td>11.99</td>\n",
       "      <td>04/12/19 14:38</td>\n",
       "      <td>669 Spruce St, Los Angeles, CA 90001</td>\n",
       "    </tr>\n",
       "  </tbody>\n",
       "</table>\n",
       "</div>"
      ],
      "text/plain": [
       "  Order ID                     Product Quantity Ordered Price Each  \\\n",
       "0   176558        USB-C Charging Cable                2      11.95   \n",
       "1      NaN                         NaN              NaN        NaN   \n",
       "2   176559  Bose SoundSport Headphones                1      99.99   \n",
       "3   176560                Google Phone                1        600   \n",
       "4   176560            Wired Headphones                1      11.99   \n",
       "\n",
       "       Order Date                      Purchase Address  \n",
       "0  04/19/19 08:46          917 1st St, Dallas, TX 75001  \n",
       "1             NaN                                   NaN  \n",
       "2  04/07/19 22:30     682 Chestnut St, Boston, MA 02215  \n",
       "3  04/12/19 14:38  669 Spruce St, Los Angeles, CA 90001  \n",
       "4  04/12/19 14:38  669 Spruce St, Los Angeles, CA 90001  "
      ]
     },
     "execution_count": 4,
     "metadata": {},
     "output_type": "execute_result"
    }
   ],
   "source": [
    "df.head()"
   ]
  },
  {
   "cell_type": "markdown",
   "id": "5aae31c8",
   "metadata": {},
   "source": [
    "## Data Cleaning"
   ]
  },
  {
   "cell_type": "markdown",
   "id": "1f0e26cc",
   "metadata": {},
   "source": [
    "### First: Column labels"
   ]
  },
  {
   "cell_type": "code",
   "execution_count": 5,
   "id": "e8e8a77e",
   "metadata": {},
   "outputs": [
    {
     "data": {
      "text/plain": [
       "Index(['Order ID', 'Product', 'Quantity Ordered', 'Price Each', 'Order Date',\n",
       "       'Purchase Address'],\n",
       "      dtype='object')"
      ]
     },
     "execution_count": 5,
     "metadata": {},
     "output_type": "execute_result"
    }
   ],
   "source": [
    "df.columns"
   ]
  },
  {
   "cell_type": "markdown",
   "id": "30d92c61",
   "metadata": {},
   "source": [
    "##### We notice two problems with column labels:\n",
    "1. They are long.\n",
    "2. There is a space in each label."
   ]
  },
  {
   "cell_type": "markdown",
   "id": "74cc71eb",
   "metadata": {},
   "source": [
    "#### Rename"
   ]
  },
  {
   "cell_type": "code",
   "execution_count": 6,
   "id": "d4a41355",
   "metadata": {},
   "outputs": [],
   "source": [
    "df.rename(columns={\"Quantity Ordered\":\"Quantity\",\n",
    "                   \"Price Each\":\"unit price\",\"Order Date\":\"Date\",\n",
    "                   \"Purchase Address\":\"Address\"},inplace=True)"
   ]
  },
  {
   "cell_type": "markdown",
   "id": "71a782ba",
   "metadata": {},
   "source": [
    "#### Capitalize"
   ]
  },
  {
   "cell_type": "code",
   "execution_count": 7,
   "id": "c626230f",
   "metadata": {},
   "outputs": [],
   "source": [
    "df.rename(str.title, axis='columns',inplace=True)"
   ]
  },
  {
   "cell_type": "markdown",
   "id": "115beb2c",
   "metadata": {},
   "source": [
    "#### Remove spaces "
   ]
  },
  {
   "cell_type": "code",
   "execution_count": 8,
   "id": "3c810f95",
   "metadata": {},
   "outputs": [],
   "source": [
    "df.columns=df.columns.str.replace(\" \",\"\")"
   ]
  },
  {
   "cell_type": "markdown",
   "id": "aad28794",
   "metadata": {},
   "source": [
    "##### Let's look at them now"
   ]
  },
  {
   "cell_type": "code",
   "execution_count": 9,
   "id": "26330703",
   "metadata": {},
   "outputs": [
    {
     "data": {
      "text/plain": [
       "Index(['OrderId', 'Product', 'Quantity', 'UnitPrice', 'Date', 'Address'], dtype='object')"
      ]
     },
     "execution_count": 9,
     "metadata": {},
     "output_type": "execute_result"
    }
   ],
   "source": [
    "df.columns"
   ]
  },
  {
   "cell_type": "markdown",
   "id": "5198979c",
   "metadata": {},
   "source": [
    "### Second: Cast data types"
   ]
  },
  {
   "cell_type": "markdown",
   "id": "099c2f87",
   "metadata": {},
   "source": [
    "#### Convert ```\"OrderId\",\"Quantity\",\"Price\"``` columns to numeric values"
   ]
  },
  {
   "cell_type": "code",
   "execution_count": 10,
   "id": "8b6a86cc",
   "metadata": {},
   "outputs": [],
   "source": [
    "df[[\"OrderId\",\"Quantity\",\"UnitPrice\"]]=df[[\"OrderId\",\"Quantity\",\"UnitPrice\"]].apply(pd.to_numeric,errors=\"coerce\",downcast ='integer')"
   ]
  },
  {
   "cell_type": "markdown",
   "id": "1499386a",
   "metadata": {},
   "source": [
    "#### Convert ```\"Date\"``` column to datetime object"
   ]
  },
  {
   "cell_type": "code",
   "execution_count": 11,
   "id": "050a4319",
   "metadata": {},
   "outputs": [],
   "source": [
    "df[\"Date\"] = pd.to_datetime(df[\"Date\"],format = \"%d/%m/%y %H:%M\",errors=\"coerce\")"
   ]
  },
  {
   "cell_type": "markdown",
   "id": "a85358a3",
   "metadata": {},
   "source": [
    "#### Drop NaN values"
   ]
  },
  {
   "cell_type": "code",
   "execution_count": 12,
   "id": "e5fc8b47",
   "metadata": {},
   "outputs": [],
   "source": [
    "df.dropna(inplace=True)"
   ]
  },
  {
   "cell_type": "markdown",
   "id": "20a2dcc0",
   "metadata": {},
   "source": [
    "#### Convert ```\"OrderId\",\"Quantity\"``` columns to integer\n",
    "The data type of these columns is **float** because there were **NaN values** at them, but after dropping them in the last step, we can now convert the columns into **integer**."
   ]
  },
  {
   "cell_type": "code",
   "execution_count": 13,
   "id": "dd1476ea",
   "metadata": {},
   "outputs": [
    {
     "data": {
      "text/plain": [
       "OrderId     float64\n",
       "Quantity    float64\n",
       "dtype: object"
      ]
     },
     "execution_count": 13,
     "metadata": {},
     "output_type": "execute_result"
    }
   ],
   "source": [
    "df[[\"OrderId\",\"Quantity\"]].dtypes"
   ]
  },
  {
   "cell_type": "code",
   "execution_count": 14,
   "id": "e3fd451a",
   "metadata": {},
   "outputs": [],
   "source": [
    "convert_dict = {'OrderId': int,\n",
    "                'Quantity': int\n",
    "               }\n",
    "  \n",
    "df = df.astype(convert_dict)"
   ]
  },
  {
   "cell_type": "markdown",
   "id": "b9f9e197",
   "metadata": {},
   "source": [
    "### Third: Set the ```\"Date\"``` column as index"
   ]
  },
  {
   "cell_type": "code",
   "execution_count": 15,
   "id": "19cf0ed5",
   "metadata": {},
   "outputs": [],
   "source": [
    "df.set_index(\"Date\",inplace=True)\n",
    "df.sort_index(inplace=True) #sort rows by their date"
   ]
  },
  {
   "cell_type": "code",
   "execution_count": 16,
   "id": "5990deb3",
   "metadata": {},
   "outputs": [
    {
     "data": {
      "text/html": [
       "<div>\n",
       "<style scoped>\n",
       "    .dataframe tbody tr th:only-of-type {\n",
       "        vertical-align: middle;\n",
       "    }\n",
       "\n",
       "    .dataframe tbody tr th {\n",
       "        vertical-align: top;\n",
       "    }\n",
       "\n",
       "    .dataframe thead th {\n",
       "        text-align: right;\n",
       "    }\n",
       "</style>\n",
       "<table border=\"1\" class=\"dataframe\">\n",
       "  <thead>\n",
       "    <tr style=\"text-align: right;\">\n",
       "      <th></th>\n",
       "      <th>OrderId</th>\n",
       "      <th>Product</th>\n",
       "      <th>Quantity</th>\n",
       "      <th>UnitPrice</th>\n",
       "      <th>Address</th>\n",
       "    </tr>\n",
       "    <tr>\n",
       "      <th>Date</th>\n",
       "      <th></th>\n",
       "      <th></th>\n",
       "      <th></th>\n",
       "      <th></th>\n",
       "      <th></th>\n",
       "    </tr>\n",
       "  </thead>\n",
       "  <tbody>\n",
       "    <tr>\n",
       "      <th>2019-01-01 03:07:00</th>\n",
       "      <td>147268</td>\n",
       "      <td>Wired Headphones</td>\n",
       "      <td>1</td>\n",
       "      <td>11.99</td>\n",
       "      <td>9 Lake St, New York City, NY 10001</td>\n",
       "    </tr>\n",
       "    <tr>\n",
       "      <th>2019-01-01 03:40:00</th>\n",
       "      <td>148041</td>\n",
       "      <td>USB-C Charging Cable</td>\n",
       "      <td>1</td>\n",
       "      <td>11.95</td>\n",
       "      <td>760 Church St, San Francisco, CA 94016</td>\n",
       "    </tr>\n",
       "    <tr>\n",
       "      <th>2019-01-01 04:56:00</th>\n",
       "      <td>149343</td>\n",
       "      <td>Apple Airpods Headphones</td>\n",
       "      <td>1</td>\n",
       "      <td>150.00</td>\n",
       "      <td>735 5th St, New York City, NY 10001</td>\n",
       "    </tr>\n",
       "    <tr>\n",
       "      <th>2019-01-01 05:53:00</th>\n",
       "      <td>149964</td>\n",
       "      <td>AAA Batteries (4-pack)</td>\n",
       "      <td>1</td>\n",
       "      <td>2.99</td>\n",
       "      <td>75 Jackson St, Dallas, TX 75001</td>\n",
       "    </tr>\n",
       "    <tr>\n",
       "      <th>2019-01-01 06:03:00</th>\n",
       "      <td>149350</td>\n",
       "      <td>USB-C Charging Cable</td>\n",
       "      <td>2</td>\n",
       "      <td>11.95</td>\n",
       "      <td>943 2nd St, Atlanta, GA 30301</td>\n",
       "    </tr>\n",
       "  </tbody>\n",
       "</table>\n",
       "</div>"
      ],
      "text/plain": [
       "                     OrderId                   Product  Quantity  UnitPrice  \\\n",
       "Date                                                                          \n",
       "2019-01-01 03:07:00   147268          Wired Headphones         1      11.99   \n",
       "2019-01-01 03:40:00   148041      USB-C Charging Cable         1      11.95   \n",
       "2019-01-01 04:56:00   149343  Apple Airpods Headphones         1     150.00   \n",
       "2019-01-01 05:53:00   149964    AAA Batteries (4-pack)         1       2.99   \n",
       "2019-01-01 06:03:00   149350      USB-C Charging Cable         2      11.95   \n",
       "\n",
       "                                                    Address  \n",
       "Date                                                         \n",
       "2019-01-01 03:07:00      9 Lake St, New York City, NY 10001  \n",
       "2019-01-01 03:40:00  760 Church St, San Francisco, CA 94016  \n",
       "2019-01-01 04:56:00     735 5th St, New York City, NY 10001  \n",
       "2019-01-01 05:53:00         75 Jackson St, Dallas, TX 75001  \n",
       "2019-01-01 06:03:00           943 2nd St, Atlanta, GA 30301  "
      ]
     },
     "execution_count": 16,
     "metadata": {},
     "output_type": "execute_result"
    }
   ],
   "source": [
    "df.head()"
   ]
  },
  {
   "cell_type": "markdown",
   "id": "fe71122b",
   "metadata": {},
   "source": [
    "### Fourth: Add new columns"
   ]
  },
  {
   "cell_type": "markdown",
   "id": "c66f2ab8",
   "metadata": {},
   "source": [
    "#### Add ```\"Month\"``` column"
   ]
  },
  {
   "cell_type": "code",
   "execution_count": 17,
   "id": "ca49a75a",
   "metadata": {},
   "outputs": [],
   "source": [
    "df[\"Month\"]=df.index.month_name()"
   ]
  },
  {
   "cell_type": "markdown",
   "id": "ddd1592a",
   "metadata": {},
   "source": [
    "#### Add ```\"DayOrder\"``` column"
   ]
  },
  {
   "cell_type": "code",
   "execution_count": 18,
   "id": "ead4197d",
   "metadata": {},
   "outputs": [],
   "source": [
    "df[\"DayOrder\"]=df.index.day"
   ]
  },
  {
   "cell_type": "markdown",
   "id": "2c185fa2",
   "metadata": {},
   "source": [
    "#### Add ```\"DayName\"``` column"
   ]
  },
  {
   "cell_type": "code",
   "execution_count": 19,
   "id": "87074f69",
   "metadata": {},
   "outputs": [],
   "source": [
    "df[\"DayName\"]=df.index.day_name()"
   ]
  },
  {
   "cell_type": "markdown",
   "id": "054738ae",
   "metadata": {},
   "source": [
    "#### Add ```\"TotalCost\"``` column "
   ]
  },
  {
   "cell_type": "code",
   "execution_count": 20,
   "id": "832d05ff",
   "metadata": {},
   "outputs": [],
   "source": [
    "df[\"TotalCost\"] = df[\"Quantity\"] * df[\"UnitPrice\"]"
   ]
  },
  {
   "cell_type": "markdown",
   "id": "73eb4ee8",
   "metadata": {},
   "source": [
    "#### Add ```\"City\"``` column"
   ]
  },
  {
   "cell_type": "code",
   "execution_count": 21,
   "id": "cf45b42c",
   "metadata": {},
   "outputs": [
    {
     "data": {
      "text/plain": [
       "Date\n",
       "2019-01-01 03:07:00        9 Lake St, New York City, NY 10001\n",
       "2019-01-01 03:40:00    760 Church St, San Francisco, CA 94016\n",
       "2019-01-01 04:56:00       735 5th St, New York City, NY 10001\n",
       "Name: Address, dtype: object"
      ]
     },
     "execution_count": 21,
     "metadata": {},
     "output_type": "execute_result"
    }
   ],
   "source": [
    "df[\"Address\"].head(3)"
   ]
  },
  {
   "cell_type": "markdown",
   "id": "373ec463",
   "metadata": {},
   "source": [
    "##### 1. Split the address column"
   ]
  },
  {
   "cell_type": "code",
   "execution_count": 22,
   "id": "00f20717",
   "metadata": {},
   "outputs": [
    {
     "data": {
      "text/html": [
       "<div>\n",
       "<style scoped>\n",
       "    .dataframe tbody tr th:only-of-type {\n",
       "        vertical-align: middle;\n",
       "    }\n",
       "\n",
       "    .dataframe tbody tr th {\n",
       "        vertical-align: top;\n",
       "    }\n",
       "\n",
       "    .dataframe thead th {\n",
       "        text-align: right;\n",
       "    }\n",
       "</style>\n",
       "<table border=\"1\" class=\"dataframe\">\n",
       "  <thead>\n",
       "    <tr style=\"text-align: right;\">\n",
       "      <th></th>\n",
       "      <th>0</th>\n",
       "      <th>1</th>\n",
       "      <th>2</th>\n",
       "    </tr>\n",
       "    <tr>\n",
       "      <th>Date</th>\n",
       "      <th></th>\n",
       "      <th></th>\n",
       "      <th></th>\n",
       "    </tr>\n",
       "  </thead>\n",
       "  <tbody>\n",
       "    <tr>\n",
       "      <th>2019-01-01 03:07:00</th>\n",
       "      <td>9 Lake St</td>\n",
       "      <td>New York City</td>\n",
       "      <td>NY 10001</td>\n",
       "    </tr>\n",
       "    <tr>\n",
       "      <th>2019-01-01 03:40:00</th>\n",
       "      <td>760 Church St</td>\n",
       "      <td>San Francisco</td>\n",
       "      <td>CA 94016</td>\n",
       "    </tr>\n",
       "    <tr>\n",
       "      <th>2019-01-01 04:56:00</th>\n",
       "      <td>735 5th St</td>\n",
       "      <td>New York City</td>\n",
       "      <td>NY 10001</td>\n",
       "    </tr>\n",
       "  </tbody>\n",
       "</table>\n",
       "</div>"
      ],
      "text/plain": [
       "                                 0              1         2\n",
       "Date                                                       \n",
       "2019-01-01 03:07:00      9 Lake St  New York City  NY 10001\n",
       "2019-01-01 03:40:00  760 Church St  San Francisco  CA 94016\n",
       "2019-01-01 04:56:00     735 5th St  New York City  NY 10001"
      ]
     },
     "execution_count": 22,
     "metadata": {},
     "output_type": "execute_result"
    }
   ],
   "source": [
    "splited_address = df[\"Address\"].str.split(\", \",expand=True)\n",
    "splited_address.head(3)"
   ]
  },
  {
   "cell_type": "markdown",
   "id": "0aec8dce",
   "metadata": {},
   "source": [
    "##### 2. Split the  (state and postal code) column"
   ]
  },
  {
   "cell_type": "code",
   "execution_count": 23,
   "id": "87a3f2a9",
   "metadata": {},
   "outputs": [
    {
     "data": {
      "text/html": [
       "<div>\n",
       "<style scoped>\n",
       "    .dataframe tbody tr th:only-of-type {\n",
       "        vertical-align: middle;\n",
       "    }\n",
       "\n",
       "    .dataframe tbody tr th {\n",
       "        vertical-align: top;\n",
       "    }\n",
       "\n",
       "    .dataframe thead th {\n",
       "        text-align: right;\n",
       "    }\n",
       "</style>\n",
       "<table border=\"1\" class=\"dataframe\">\n",
       "  <thead>\n",
       "    <tr style=\"text-align: right;\">\n",
       "      <th></th>\n",
       "      <th>0</th>\n",
       "      <th>1</th>\n",
       "    </tr>\n",
       "    <tr>\n",
       "      <th>Date</th>\n",
       "      <th></th>\n",
       "      <th></th>\n",
       "    </tr>\n",
       "  </thead>\n",
       "  <tbody>\n",
       "    <tr>\n",
       "      <th>2019-01-01 03:07:00</th>\n",
       "      <td>NY</td>\n",
       "      <td>10001</td>\n",
       "    </tr>\n",
       "    <tr>\n",
       "      <th>2019-01-01 03:40:00</th>\n",
       "      <td>CA</td>\n",
       "      <td>94016</td>\n",
       "    </tr>\n",
       "    <tr>\n",
       "      <th>2019-01-01 04:56:00</th>\n",
       "      <td>NY</td>\n",
       "      <td>10001</td>\n",
       "    </tr>\n",
       "  </tbody>\n",
       "</table>\n",
       "</div>"
      ],
      "text/plain": [
       "                      0      1\n",
       "Date                          \n",
       "2019-01-01 03:07:00  NY  10001\n",
       "2019-01-01 03:40:00  CA  94016\n",
       "2019-01-01 04:56:00  NY  10001"
      ]
     },
     "execution_count": 23,
     "metadata": {},
     "output_type": "execute_result"
    }
   ],
   "source": [
    "splited_state_postalcode = splited_address[2].str.split(expand=True)\n",
    "splited_state_postalcode.head(3)"
   ]
  },
  {
   "cell_type": "markdown",
   "id": "e625ad99",
   "metadata": {},
   "source": [
    "##### 3. Merge states and cities in one column"
   ]
  },
  {
   "cell_type": "code",
   "execution_count": 24,
   "id": "0deecc54",
   "metadata": {},
   "outputs": [
    {
     "data": {
      "text/plain": [
       "Date\n",
       "2019-01-01 03:07:00    New York City, NY\n",
       "2019-01-01 03:40:00    San Francisco, CA\n",
       "2019-01-01 04:56:00    New York City, NY\n",
       "Name: 1, dtype: object"
      ]
     },
     "execution_count": 24,
     "metadata": {},
     "output_type": "execute_result"
    }
   ],
   "source": [
    "cities = splited_address[1]\n",
    "states = splited_state_postalcode[0]\n",
    "\n",
    "merged_city_state = cities.str.cat(states,sep=\", \")\n",
    "merged_city_state.head(3)"
   ]
  },
  {
   "cell_type": "markdown",
   "id": "d65cb627",
   "metadata": {},
   "source": [
    "##### 4. Add the ```\"City\"``` column"
   ]
  },
  {
   "cell_type": "code",
   "execution_count": 25,
   "id": "44fd744f",
   "metadata": {},
   "outputs": [],
   "source": [
    "df[\"City\"] = merged_city_state"
   ]
  },
  {
   "cell_type": "code",
   "execution_count": 26,
   "id": "8402d451",
   "metadata": {
    "scrolled": true
   },
   "outputs": [
    {
     "data": {
      "text/html": [
       "<div>\n",
       "<style scoped>\n",
       "    .dataframe tbody tr th:only-of-type {\n",
       "        vertical-align: middle;\n",
       "    }\n",
       "\n",
       "    .dataframe tbody tr th {\n",
       "        vertical-align: top;\n",
       "    }\n",
       "\n",
       "    .dataframe thead th {\n",
       "        text-align: right;\n",
       "    }\n",
       "</style>\n",
       "<table border=\"1\" class=\"dataframe\">\n",
       "  <thead>\n",
       "    <tr style=\"text-align: right;\">\n",
       "      <th></th>\n",
       "      <th>OrderId</th>\n",
       "      <th>Product</th>\n",
       "      <th>Quantity</th>\n",
       "      <th>UnitPrice</th>\n",
       "      <th>Address</th>\n",
       "      <th>Month</th>\n",
       "      <th>DayOrder</th>\n",
       "      <th>DayName</th>\n",
       "      <th>TotalCost</th>\n",
       "      <th>City</th>\n",
       "    </tr>\n",
       "    <tr>\n",
       "      <th>Date</th>\n",
       "      <th></th>\n",
       "      <th></th>\n",
       "      <th></th>\n",
       "      <th></th>\n",
       "      <th></th>\n",
       "      <th></th>\n",
       "      <th></th>\n",
       "      <th></th>\n",
       "      <th></th>\n",
       "      <th></th>\n",
       "    </tr>\n",
       "  </thead>\n",
       "  <tbody>\n",
       "    <tr>\n",
       "      <th>2019-01-01 03:07:00</th>\n",
       "      <td>147268</td>\n",
       "      <td>Wired Headphones</td>\n",
       "      <td>1</td>\n",
       "      <td>11.99</td>\n",
       "      <td>9 Lake St, New York City, NY 10001</td>\n",
       "      <td>January</td>\n",
       "      <td>1</td>\n",
       "      <td>Tuesday</td>\n",
       "      <td>11.99</td>\n",
       "      <td>New York City, NY</td>\n",
       "    </tr>\n",
       "    <tr>\n",
       "      <th>2019-01-01 03:40:00</th>\n",
       "      <td>148041</td>\n",
       "      <td>USB-C Charging Cable</td>\n",
       "      <td>1</td>\n",
       "      <td>11.95</td>\n",
       "      <td>760 Church St, San Francisco, CA 94016</td>\n",
       "      <td>January</td>\n",
       "      <td>1</td>\n",
       "      <td>Tuesday</td>\n",
       "      <td>11.95</td>\n",
       "      <td>San Francisco, CA</td>\n",
       "    </tr>\n",
       "    <tr>\n",
       "      <th>2019-01-01 04:56:00</th>\n",
       "      <td>149343</td>\n",
       "      <td>Apple Airpods Headphones</td>\n",
       "      <td>1</td>\n",
       "      <td>150.00</td>\n",
       "      <td>735 5th St, New York City, NY 10001</td>\n",
       "      <td>January</td>\n",
       "      <td>1</td>\n",
       "      <td>Tuesday</td>\n",
       "      <td>150.00</td>\n",
       "      <td>New York City, NY</td>\n",
       "    </tr>\n",
       "    <tr>\n",
       "      <th>2019-01-01 05:53:00</th>\n",
       "      <td>149964</td>\n",
       "      <td>AAA Batteries (4-pack)</td>\n",
       "      <td>1</td>\n",
       "      <td>2.99</td>\n",
       "      <td>75 Jackson St, Dallas, TX 75001</td>\n",
       "      <td>January</td>\n",
       "      <td>1</td>\n",
       "      <td>Tuesday</td>\n",
       "      <td>2.99</td>\n",
       "      <td>Dallas, TX</td>\n",
       "    </tr>\n",
       "    <tr>\n",
       "      <th>2019-01-01 06:03:00</th>\n",
       "      <td>149350</td>\n",
       "      <td>USB-C Charging Cable</td>\n",
       "      <td>2</td>\n",
       "      <td>11.95</td>\n",
       "      <td>943 2nd St, Atlanta, GA 30301</td>\n",
       "      <td>January</td>\n",
       "      <td>1</td>\n",
       "      <td>Tuesday</td>\n",
       "      <td>23.90</td>\n",
       "      <td>Atlanta, GA</td>\n",
       "    </tr>\n",
       "  </tbody>\n",
       "</table>\n",
       "</div>"
      ],
      "text/plain": [
       "                     OrderId                   Product  Quantity  UnitPrice  \\\n",
       "Date                                                                          \n",
       "2019-01-01 03:07:00   147268          Wired Headphones         1      11.99   \n",
       "2019-01-01 03:40:00   148041      USB-C Charging Cable         1      11.95   \n",
       "2019-01-01 04:56:00   149343  Apple Airpods Headphones         1     150.00   \n",
       "2019-01-01 05:53:00   149964    AAA Batteries (4-pack)         1       2.99   \n",
       "2019-01-01 06:03:00   149350      USB-C Charging Cable         2      11.95   \n",
       "\n",
       "                                                    Address    Month  \\\n",
       "Date                                                                   \n",
       "2019-01-01 03:07:00      9 Lake St, New York City, NY 10001  January   \n",
       "2019-01-01 03:40:00  760 Church St, San Francisco, CA 94016  January   \n",
       "2019-01-01 04:56:00     735 5th St, New York City, NY 10001  January   \n",
       "2019-01-01 05:53:00         75 Jackson St, Dallas, TX 75001  January   \n",
       "2019-01-01 06:03:00           943 2nd St, Atlanta, GA 30301  January   \n",
       "\n",
       "                     DayOrder  DayName  TotalCost               City  \n",
       "Date                                                                  \n",
       "2019-01-01 03:07:00         1  Tuesday      11.99  New York City, NY  \n",
       "2019-01-01 03:40:00         1  Tuesday      11.95  San Francisco, CA  \n",
       "2019-01-01 04:56:00         1  Tuesday     150.00  New York City, NY  \n",
       "2019-01-01 05:53:00         1  Tuesday       2.99         Dallas, TX  \n",
       "2019-01-01 06:03:00         1  Tuesday      23.90        Atlanta, GA  "
      ]
     },
     "execution_count": 26,
     "metadata": {},
     "output_type": "execute_result"
    }
   ],
   "source": [
    "df.head()"
   ]
  },
  {
   "cell_type": "code",
   "execution_count": null,
   "id": "2b09b44c",
   "metadata": {},
   "outputs": [],
   "source": []
  }
 ],
 "metadata": {
  "kernelspec": {
   "display_name": "Python 3 (ipykernel)",
   "language": "python",
   "name": "python3"
  },
  "language_info": {
   "codemirror_mode": {
    "name": "ipython",
    "version": 3
   },
   "file_extension": ".py",
   "mimetype": "text/x-python",
   "name": "python",
   "nbconvert_exporter": "python",
   "pygments_lexer": "ipython3",
   "version": "3.9.9"
  }
 },
 "nbformat": 4,
 "nbformat_minor": 5
}
