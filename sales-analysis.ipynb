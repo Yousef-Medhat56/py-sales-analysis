{
 "cells": [
  {
   "cell_type": "code",
   "execution_count": 1,
   "id": "42917be1",
   "metadata": {},
   "outputs": [],
   "source": [
    "import pandas as pd\n",
    "import matplotlib.pyplot as plt\n",
    "%matplotlib notebook\n",
    "import seaborn as sns"
   ]
  },
  {
   "cell_type": "markdown",
   "id": "1a7d9497",
   "metadata": {},
   "source": [
    "## Read data"
   ]
  },
  {
   "cell_type": "code",
   "execution_count": 2,
   "id": "b1a9a8a9",
   "metadata": {},
   "outputs": [],
   "source": [
    "df = pd.read_csv(\"./output/all-data.csv\")"
   ]
  },
  {
   "cell_type": "markdown",
   "id": "541cdb12",
   "metadata": {},
   "source": [
    "## Data Cleaning"
   ]
  },
  {
   "cell_type": "markdown",
   "id": "2c71e589",
   "metadata": {},
   "source": [
    "#### Get concise summary of the dataframe "
   ]
  },
  {
   "cell_type": "code",
   "execution_count": 3,
   "id": "81cefa4c",
   "metadata": {},
   "outputs": [
    {
     "name": "stdout",
     "output_type": "stream",
     "text": [
      "<class 'pandas.core.frame.DataFrame'>\n",
      "RangeIndex: 186850 entries, 0 to 186849\n",
      "Data columns (total 6 columns):\n",
      " #   Column            Non-Null Count   Dtype \n",
      "---  ------            --------------   ----- \n",
      " 0   Order ID          186305 non-null  object\n",
      " 1   Product           186305 non-null  object\n",
      " 2   Quantity Ordered  186305 non-null  object\n",
      " 3   Price Each        186305 non-null  object\n",
      " 4   Order Date        186305 non-null  object\n",
      " 5   Purchase Address  186305 non-null  object\n",
      "dtypes: object(6)\n",
      "memory usage: 8.6+ MB\n"
     ]
    }
   ],
   "source": [
    "df.info()"
   ]
  },
  {
   "cell_type": "markdown",
   "id": "7d54546a",
   "metadata": {},
   "source": [
    "### First: Column labels"
   ]
  },
  {
   "cell_type": "code",
   "execution_count": 4,
   "id": "a3ccff51",
   "metadata": {},
   "outputs": [
    {
     "data": {
      "text/plain": [
       "Index(['Order ID', 'Product', 'Quantity Ordered', 'Price Each', 'Order Date',\n",
       "       'Purchase Address'],\n",
       "      dtype='object')"
      ]
     },
     "execution_count": 4,
     "metadata": {},
     "output_type": "execute_result"
    }
   ],
   "source": [
    "df.columns"
   ]
  },
  {
   "cell_type": "markdown",
   "id": "a4961ddb",
   "metadata": {},
   "source": [
    "##### We notice many problems with column labels:\n",
    "1. They are long.\n",
    "2. There are spaces in each label."
   ]
  },
  {
   "cell_type": "markdown",
   "id": "58b3dbfe",
   "metadata": {},
   "source": [
    "#### Rename"
   ]
  },
  {
   "cell_type": "code",
   "execution_count": 5,
   "id": "8a5a0e5e",
   "metadata": {},
   "outputs": [],
   "source": [
    "df.rename(columns={\"Quantity Ordered\":\"Quantity\",\n",
    "                   \"Price Each\":\"unit price\",\"Order Date\":\"Date\",\n",
    "                   \"Purchase Address\":\"Address\"},inplace=True)"
   ]
  },
  {
   "cell_type": "markdown",
   "id": "c49873a3",
   "metadata": {},
   "source": [
    "#### Capitalize"
   ]
  },
  {
   "cell_type": "code",
   "execution_count": 6,
   "id": "6da05b6e",
   "metadata": {},
   "outputs": [],
   "source": [
    "df.rename(str.title, axis='columns',inplace=True)"
   ]
  },
  {
   "cell_type": "markdown",
   "id": "9d453458",
   "metadata": {},
   "source": [
    "#### Remove spaces "
   ]
  },
  {
   "cell_type": "code",
   "execution_count": 7,
   "id": "66202607",
   "metadata": {},
   "outputs": [],
   "source": [
    "df.columns=df.columns.str.replace(\" \",\"\")"
   ]
  },
  {
   "cell_type": "markdown",
   "id": "3cadd816",
   "metadata": {},
   "source": [
    "##### Let's look at them now"
   ]
  },
  {
   "cell_type": "code",
   "execution_count": 8,
   "id": "4bb59c91",
   "metadata": {},
   "outputs": [
    {
     "data": {
      "text/plain": [
       "Index(['OrderId', 'Product', 'Quantity', 'UnitPrice', 'Date', 'Address'], dtype='object')"
      ]
     },
     "execution_count": 8,
     "metadata": {},
     "output_type": "execute_result"
    }
   ],
   "source": [
    "df.columns"
   ]
  },
  {
   "cell_type": "markdown",
   "id": "a95204f3",
   "metadata": {},
   "source": [
    "### Second: Cast data types"
   ]
  },
  {
   "cell_type": "markdown",
   "id": "be43394f",
   "metadata": {},
   "source": [
    "#### Convert ```\"OrderId\",\"Quantity\",\"Price\"``` columns to numeric values"
   ]
  },
  {
   "cell_type": "code",
   "execution_count": 9,
   "id": "d46e3637",
   "metadata": {},
   "outputs": [],
   "source": [
    "df[[\"OrderId\",\"Quantity\",\"UnitPrice\"]]=df[[\"OrderId\",\"Quantity\",\"UnitPrice\"]].apply(pd.to_numeric,errors=\"coerce\",downcast ='integer')"
   ]
  },
  {
   "cell_type": "markdown",
   "id": "bb170d37",
   "metadata": {},
   "source": [
    "#### Convert ```\"Date\"``` column to datetime object"
   ]
  },
  {
   "cell_type": "code",
   "execution_count": 10,
   "id": "34cd5df7",
   "metadata": {},
   "outputs": [],
   "source": [
    "df[\"Date\"] = pd.to_datetime(df[\"Date\"],format = \"%d/%m/%y %H:%M\",errors=\"coerce\")"
   ]
  },
  {
   "cell_type": "markdown",
   "id": "6b89427b",
   "metadata": {},
   "source": [
    "#### Drop NaN values"
   ]
  },
  {
   "cell_type": "code",
   "execution_count": 11,
   "id": "d548c394",
   "metadata": {},
   "outputs": [],
   "source": [
    "df.dropna(inplace=True)"
   ]
  },
  {
   "cell_type": "markdown",
   "id": "71795539",
   "metadata": {},
   "source": [
    "#### Convert ```\"OrderId\",\"Quantity\"``` columns to integer\n",
    "The data type of these columns is **float** because there were **NaN values** at them, but after dropping them in the last step, we can now convert the columns into **integer**."
   ]
  },
  {
   "cell_type": "code",
   "execution_count": 12,
   "id": "072fbe09",
   "metadata": {},
   "outputs": [
    {
     "data": {
      "text/plain": [
       "OrderId     float64\n",
       "Quantity    float64\n",
       "dtype: object"
      ]
     },
     "execution_count": 12,
     "metadata": {},
     "output_type": "execute_result"
    }
   ],
   "source": [
    "df[[\"OrderId\",\"Quantity\"]].dtypes"
   ]
  },
  {
   "cell_type": "code",
   "execution_count": 13,
   "id": "c5a2375c",
   "metadata": {},
   "outputs": [],
   "source": [
    "convert_dict = {'OrderId': int,\n",
    "                'Quantity': int\n",
    "               }\n",
    "  \n",
    "df = df.astype(convert_dict)"
   ]
  },
  {
   "cell_type": "markdown",
   "id": "2dece108",
   "metadata": {},
   "source": [
    "### Third: Set the ```\"Date\"``` column as index"
   ]
  },
  {
   "cell_type": "code",
   "execution_count": 14,
   "id": "4667e1ac",
   "metadata": {},
   "outputs": [],
   "source": [
    "df.set_index(\"Date\",inplace=True)\n",
    "df.sort_index(inplace=True) #sort rows by their date"
   ]
  },
  {
   "cell_type": "code",
   "execution_count": 15,
   "id": "8726e5b9",
   "metadata": {},
   "outputs": [
    {
     "data": {
      "text/html": [
       "<div>\n",
       "<style scoped>\n",
       "    .dataframe tbody tr th:only-of-type {\n",
       "        vertical-align: middle;\n",
       "    }\n",
       "\n",
       "    .dataframe tbody tr th {\n",
       "        vertical-align: top;\n",
       "    }\n",
       "\n",
       "    .dataframe thead th {\n",
       "        text-align: right;\n",
       "    }\n",
       "</style>\n",
       "<table border=\"1\" class=\"dataframe\">\n",
       "  <thead>\n",
       "    <tr style=\"text-align: right;\">\n",
       "      <th></th>\n",
       "      <th>OrderId</th>\n",
       "      <th>Product</th>\n",
       "      <th>Quantity</th>\n",
       "      <th>UnitPrice</th>\n",
       "      <th>Address</th>\n",
       "    </tr>\n",
       "    <tr>\n",
       "      <th>Date</th>\n",
       "      <th></th>\n",
       "      <th></th>\n",
       "      <th></th>\n",
       "      <th></th>\n",
       "      <th></th>\n",
       "    </tr>\n",
       "  </thead>\n",
       "  <tbody>\n",
       "    <tr>\n",
       "      <th>2019-01-01 03:07:00</th>\n",
       "      <td>147268</td>\n",
       "      <td>Wired Headphones</td>\n",
       "      <td>1</td>\n",
       "      <td>11.99</td>\n",
       "      <td>9 Lake St, New York City, NY 10001</td>\n",
       "    </tr>\n",
       "    <tr>\n",
       "      <th>2019-01-01 03:40:00</th>\n",
       "      <td>148041</td>\n",
       "      <td>USB-C Charging Cable</td>\n",
       "      <td>1</td>\n",
       "      <td>11.95</td>\n",
       "      <td>760 Church St, San Francisco, CA 94016</td>\n",
       "    </tr>\n",
       "    <tr>\n",
       "      <th>2019-01-01 04:56:00</th>\n",
       "      <td>149343</td>\n",
       "      <td>Apple Airpods Headphones</td>\n",
       "      <td>1</td>\n",
       "      <td>150.00</td>\n",
       "      <td>735 5th St, New York City, NY 10001</td>\n",
       "    </tr>\n",
       "    <tr>\n",
       "      <th>2019-01-01 05:53:00</th>\n",
       "      <td>149964</td>\n",
       "      <td>AAA Batteries (4-pack)</td>\n",
       "      <td>1</td>\n",
       "      <td>2.99</td>\n",
       "      <td>75 Jackson St, Dallas, TX 75001</td>\n",
       "    </tr>\n",
       "    <tr>\n",
       "      <th>2019-01-01 06:03:00</th>\n",
       "      <td>149350</td>\n",
       "      <td>USB-C Charging Cable</td>\n",
       "      <td>2</td>\n",
       "      <td>11.95</td>\n",
       "      <td>943 2nd St, Atlanta, GA 30301</td>\n",
       "    </tr>\n",
       "  </tbody>\n",
       "</table>\n",
       "</div>"
      ],
      "text/plain": [
       "                     OrderId                   Product  Quantity  UnitPrice  \\\n",
       "Date                                                                          \n",
       "2019-01-01 03:07:00   147268          Wired Headphones         1      11.99   \n",
       "2019-01-01 03:40:00   148041      USB-C Charging Cable         1      11.95   \n",
       "2019-01-01 04:56:00   149343  Apple Airpods Headphones         1     150.00   \n",
       "2019-01-01 05:53:00   149964    AAA Batteries (4-pack)         1       2.99   \n",
       "2019-01-01 06:03:00   149350      USB-C Charging Cable         2      11.95   \n",
       "\n",
       "                                                    Address  \n",
       "Date                                                         \n",
       "2019-01-01 03:07:00      9 Lake St, New York City, NY 10001  \n",
       "2019-01-01 03:40:00  760 Church St, San Francisco, CA 94016  \n",
       "2019-01-01 04:56:00     735 5th St, New York City, NY 10001  \n",
       "2019-01-01 05:53:00         75 Jackson St, Dallas, TX 75001  \n",
       "2019-01-01 06:03:00           943 2nd St, Atlanta, GA 30301  "
      ]
     },
     "execution_count": 15,
     "metadata": {},
     "output_type": "execute_result"
    }
   ],
   "source": [
    "df.head()"
   ]
  },
  {
   "cell_type": "code",
   "execution_count": null,
   "id": "8f3e4659",
   "metadata": {},
   "outputs": [],
   "source": []
  }
 ],
 "metadata": {
  "kernelspec": {
   "display_name": "Python 3 (ipykernel)",
   "language": "python",
   "name": "python3"
  },
  "language_info": {
   "codemirror_mode": {
    "name": "ipython",
    "version": 3
   },
   "file_extension": ".py",
   "mimetype": "text/x-python",
   "name": "python",
   "nbconvert_exporter": "python",
   "pygments_lexer": "ipython3",
   "version": "3.9.9"
  }
 },
 "nbformat": 4,
 "nbformat_minor": 5
}
