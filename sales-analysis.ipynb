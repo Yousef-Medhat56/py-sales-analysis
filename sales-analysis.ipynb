{
 "cells": [
  {
   "cell_type": "code",
   "execution_count": 1,
   "id": "f8ef6821",
   "metadata": {},
   "outputs": [],
   "source": [
    "import pandas as pd\n",
    "import matplotlib.pyplot as plt\n",
    "%matplotlib inline\n",
    "import seaborn as sns"
   ]
  },
  {
   "cell_type": "markdown",
   "id": "d34ac630",
   "metadata": {},
   "source": [
    "## Read data"
   ]
  },
  {
   "cell_type": "code",
   "execution_count": 2,
   "id": "72a805b9",
   "metadata": {},
   "outputs": [],
   "source": [
    "df = pd.read_csv(\"./output/all-data.csv\")"
   ]
  },
  {
   "cell_type": "markdown",
   "id": "3cf03073",
   "metadata": {},
   "source": [
    "### Get concise summary of the dataframe "
   ]
  },
  {
   "cell_type": "code",
   "execution_count": 3,
   "id": "483bf4dd",
   "metadata": {},
   "outputs": [
    {
     "name": "stdout",
     "output_type": "stream",
     "text": [
      "There are 186850 rows and 6 columns\n"
     ]
    }
   ],
   "source": [
    "print(f\"There are {df.shape[0]} rows and {df.shape[1]} columns\")"
   ]
  },
  {
   "cell_type": "code",
   "execution_count": 4,
   "id": "149b58c1",
   "metadata": {},
   "outputs": [
    {
     "name": "stdout",
     "output_type": "stream",
     "text": [
      "<class 'pandas.core.frame.DataFrame'>\n",
      "RangeIndex: 186850 entries, 0 to 186849\n",
      "Data columns (total 6 columns):\n",
      " #   Column            Non-Null Count   Dtype \n",
      "---  ------            --------------   ----- \n",
      " 0   Order ID          186305 non-null  object\n",
      " 1   Product           186305 non-null  object\n",
      " 2   Quantity Ordered  186305 non-null  object\n",
      " 3   Price Each        186305 non-null  object\n",
      " 4   Order Date        186305 non-null  object\n",
      " 5   Purchase Address  186305 non-null  object\n",
      "dtypes: object(6)\n",
      "memory usage: 8.6+ MB\n"
     ]
    }
   ],
   "source": [
    "df.info()"
   ]
  },
  {
   "cell_type": "code",
   "execution_count": 5,
   "id": "919dd349",
   "metadata": {},
   "outputs": [
    {
     "data": {
      "text/html": [
       "<div>\n",
       "<style scoped>\n",
       "    .dataframe tbody tr th:only-of-type {\n",
       "        vertical-align: middle;\n",
       "    }\n",
       "\n",
       "    .dataframe tbody tr th {\n",
       "        vertical-align: top;\n",
       "    }\n",
       "\n",
       "    .dataframe thead th {\n",
       "        text-align: right;\n",
       "    }\n",
       "</style>\n",
       "<table border=\"1\" class=\"dataframe\">\n",
       "  <thead>\n",
       "    <tr style=\"text-align: right;\">\n",
       "      <th></th>\n",
       "      <th>Order ID</th>\n",
       "      <th>Product</th>\n",
       "      <th>Quantity Ordered</th>\n",
       "      <th>Price Each</th>\n",
       "      <th>Order Date</th>\n",
       "      <th>Purchase Address</th>\n",
       "    </tr>\n",
       "  </thead>\n",
       "  <tbody>\n",
       "    <tr>\n",
       "      <th>0</th>\n",
       "      <td>176558</td>\n",
       "      <td>USB-C Charging Cable</td>\n",
       "      <td>2</td>\n",
       "      <td>11.95</td>\n",
       "      <td>04/19/19 08:46</td>\n",
       "      <td>917 1st St, Dallas, TX 75001</td>\n",
       "    </tr>\n",
       "    <tr>\n",
       "      <th>1</th>\n",
       "      <td>NaN</td>\n",
       "      <td>NaN</td>\n",
       "      <td>NaN</td>\n",
       "      <td>NaN</td>\n",
       "      <td>NaN</td>\n",
       "      <td>NaN</td>\n",
       "    </tr>\n",
       "    <tr>\n",
       "      <th>2</th>\n",
       "      <td>176559</td>\n",
       "      <td>Bose SoundSport Headphones</td>\n",
       "      <td>1</td>\n",
       "      <td>99.99</td>\n",
       "      <td>04/07/19 22:30</td>\n",
       "      <td>682 Chestnut St, Boston, MA 02215</td>\n",
       "    </tr>\n",
       "    <tr>\n",
       "      <th>3</th>\n",
       "      <td>176560</td>\n",
       "      <td>Google Phone</td>\n",
       "      <td>1</td>\n",
       "      <td>600</td>\n",
       "      <td>04/12/19 14:38</td>\n",
       "      <td>669 Spruce St, Los Angeles, CA 90001</td>\n",
       "    </tr>\n",
       "    <tr>\n",
       "      <th>4</th>\n",
       "      <td>176560</td>\n",
       "      <td>Wired Headphones</td>\n",
       "      <td>1</td>\n",
       "      <td>11.99</td>\n",
       "      <td>04/12/19 14:38</td>\n",
       "      <td>669 Spruce St, Los Angeles, CA 90001</td>\n",
       "    </tr>\n",
       "  </tbody>\n",
       "</table>\n",
       "</div>"
      ],
      "text/plain": [
       "  Order ID                     Product Quantity Ordered Price Each  \\\n",
       "0   176558        USB-C Charging Cable                2      11.95   \n",
       "1      NaN                         NaN              NaN        NaN   \n",
       "2   176559  Bose SoundSport Headphones                1      99.99   \n",
       "3   176560                Google Phone                1        600   \n",
       "4   176560            Wired Headphones                1      11.99   \n",
       "\n",
       "       Order Date                      Purchase Address  \n",
       "0  04/19/19 08:46          917 1st St, Dallas, TX 75001  \n",
       "1             NaN                                   NaN  \n",
       "2  04/07/19 22:30     682 Chestnut St, Boston, MA 02215  \n",
       "3  04/12/19 14:38  669 Spruce St, Los Angeles, CA 90001  \n",
       "4  04/12/19 14:38  669 Spruce St, Los Angeles, CA 90001  "
      ]
     },
     "execution_count": 5,
     "metadata": {},
     "output_type": "execute_result"
    }
   ],
   "source": [
    "df.head()"
   ]
  },
  {
   "cell_type": "markdown",
   "id": "e4f9004f",
   "metadata": {},
   "source": [
    "## Data Cleaning"
   ]
  },
  {
   "cell_type": "markdown",
   "id": "f744e33e",
   "metadata": {},
   "source": [
    "### First: Column labels"
   ]
  },
  {
   "cell_type": "code",
   "execution_count": 6,
   "id": "152807c0",
   "metadata": {},
   "outputs": [
    {
     "data": {
      "text/plain": [
       "Index(['Order ID', 'Product', 'Quantity Ordered', 'Price Each', 'Order Date',\n",
       "       'Purchase Address'],\n",
       "      dtype='object')"
      ]
     },
     "execution_count": 6,
     "metadata": {},
     "output_type": "execute_result"
    }
   ],
   "source": [
    "df.columns"
   ]
  },
  {
   "cell_type": "markdown",
   "id": "94d3837a",
   "metadata": {},
   "source": [
    "##### We notice two problems with column labels:\n",
    "1. They are long.\n",
    "2. There is a space in some labels."
   ]
  },
  {
   "cell_type": "markdown",
   "id": "933870ff",
   "metadata": {},
   "source": [
    "#### Rename"
   ]
  },
  {
   "cell_type": "code",
   "execution_count": 7,
   "id": "8a76e708",
   "metadata": {},
   "outputs": [],
   "source": [
    "df.rename(columns={\"Quantity Ordered\":\"Quantity\",\n",
    "                   \"Price Each\":\"unit price\",\"Order Date\":\"Date\",\n",
    "                   \"Purchase Address\":\"Address\"},inplace=True)"
   ]
  },
  {
   "cell_type": "markdown",
   "id": "6d9f3d00",
   "metadata": {},
   "source": [
    "#### Capitalize"
   ]
  },
  {
   "cell_type": "code",
   "execution_count": 8,
   "id": "4e65aad5",
   "metadata": {},
   "outputs": [],
   "source": [
    "df.rename(str.title, axis='columns',inplace=True)"
   ]
  },
  {
   "cell_type": "markdown",
   "id": "c8183a33",
   "metadata": {},
   "source": [
    "#### Remove spaces "
   ]
  },
  {
   "cell_type": "code",
   "execution_count": 9,
   "id": "4e575ef9",
   "metadata": {},
   "outputs": [],
   "source": [
    "df.columns=df.columns.str.replace(\" \",\"\")"
   ]
  },
  {
   "cell_type": "markdown",
   "id": "209f381e",
   "metadata": {},
   "source": [
    "##### Let's look at them now"
   ]
  },
  {
   "cell_type": "code",
   "execution_count": 10,
   "id": "f998960d",
   "metadata": {},
   "outputs": [
    {
     "data": {
      "text/plain": [
       "Index(['OrderId', 'Product', 'Quantity', 'UnitPrice', 'Date', 'Address'], dtype='object')"
      ]
     },
     "execution_count": 10,
     "metadata": {},
     "output_type": "execute_result"
    }
   ],
   "source": [
    "df.columns"
   ]
  },
  {
   "cell_type": "markdown",
   "id": "f71358f7",
   "metadata": {},
   "source": [
    "### Second: Cast data types"
   ]
  },
  {
   "cell_type": "markdown",
   "id": "9a865505",
   "metadata": {},
   "source": [
    "#### Convert ```\"OrderId\",\"Quantity\",\"Price\"``` columns to numeric values"
   ]
  },
  {
   "cell_type": "code",
   "execution_count": 11,
   "id": "d4202809",
   "metadata": {},
   "outputs": [],
   "source": [
    "df[[\"OrderId\",\"Quantity\",\"UnitPrice\"]]=df[[\"OrderId\",\"Quantity\",\"UnitPrice\"]].apply(pd.to_numeric,errors=\"coerce\",downcast ='integer')"
   ]
  },
  {
   "cell_type": "markdown",
   "id": "4c2506bc",
   "metadata": {},
   "source": [
    "#### Convert ```\"Date\"``` column to datetime object"
   ]
  },
  {
   "cell_type": "code",
   "execution_count": 12,
   "id": "bd7b7ce3",
   "metadata": {},
   "outputs": [],
   "source": [
    "df[\"Date\"] = pd.to_datetime(df[\"Date\"],format = \"%d/%m/%y %H:%M\",errors=\"coerce\")"
   ]
  },
  {
   "cell_type": "markdown",
   "id": "fd8e3d2b",
   "metadata": {},
   "source": [
    "#### Drop NaN values"
   ]
  },
  {
   "cell_type": "code",
   "execution_count": 13,
   "id": "fb6e4301",
   "metadata": {},
   "outputs": [],
   "source": [
    "df.dropna(inplace=True)"
   ]
  },
  {
   "cell_type": "markdown",
   "id": "db9ed2bc",
   "metadata": {},
   "source": [
    "#### Convert ```\"OrderId\",\"Quantity\"``` columns to integer\n",
    "The data type of these columns is **float** because there were **NaN values** at them, but after dropping them in the last step, we can now convert the columns into **integer**."
   ]
  },
  {
   "cell_type": "code",
   "execution_count": 14,
   "id": "c31d962e",
   "metadata": {},
   "outputs": [
    {
     "data": {
      "text/plain": [
       "OrderId     float64\n",
       "Quantity    float64\n",
       "dtype: object"
      ]
     },
     "execution_count": 14,
     "metadata": {},
     "output_type": "execute_result"
    }
   ],
   "source": [
    "df[[\"OrderId\",\"Quantity\"]].dtypes"
   ]
  },
  {
   "cell_type": "code",
   "execution_count": 15,
   "id": "3109a42e",
   "metadata": {},
   "outputs": [],
   "source": [
    "convert_dict = {'OrderId': int,\n",
    "                'Quantity': int\n",
    "               }\n",
    "  \n",
    "df = df.astype(convert_dict)"
   ]
  },
  {
   "cell_type": "markdown",
   "id": "cfaf35be",
   "metadata": {},
   "source": [
    "### Third: Set the ```\"Date\"``` column as index"
   ]
  },
  {
   "cell_type": "code",
   "execution_count": 16,
   "id": "a7bd438b",
   "metadata": {},
   "outputs": [],
   "source": [
    "df.set_index(\"Date\",inplace=True)\n",
    "df.sort_index(inplace=True) #sort rows by their date"
   ]
  },
  {
   "cell_type": "code",
   "execution_count": 17,
   "id": "957b4c46",
   "metadata": {},
   "outputs": [
    {
     "data": {
      "text/html": [
       "<div>\n",
       "<style scoped>\n",
       "    .dataframe tbody tr th:only-of-type {\n",
       "        vertical-align: middle;\n",
       "    }\n",
       "\n",
       "    .dataframe tbody tr th {\n",
       "        vertical-align: top;\n",
       "    }\n",
       "\n",
       "    .dataframe thead th {\n",
       "        text-align: right;\n",
       "    }\n",
       "</style>\n",
       "<table border=\"1\" class=\"dataframe\">\n",
       "  <thead>\n",
       "    <tr style=\"text-align: right;\">\n",
       "      <th></th>\n",
       "      <th>OrderId</th>\n",
       "      <th>Product</th>\n",
       "      <th>Quantity</th>\n",
       "      <th>UnitPrice</th>\n",
       "      <th>Address</th>\n",
       "    </tr>\n",
       "    <tr>\n",
       "      <th>Date</th>\n",
       "      <th></th>\n",
       "      <th></th>\n",
       "      <th></th>\n",
       "      <th></th>\n",
       "      <th></th>\n",
       "    </tr>\n",
       "  </thead>\n",
       "  <tbody>\n",
       "    <tr>\n",
       "      <th>2019-01-01 03:07:00</th>\n",
       "      <td>147268</td>\n",
       "      <td>Wired Headphones</td>\n",
       "      <td>1</td>\n",
       "      <td>11.99</td>\n",
       "      <td>9 Lake St, New York City, NY 10001</td>\n",
       "    </tr>\n",
       "    <tr>\n",
       "      <th>2019-01-01 03:40:00</th>\n",
       "      <td>148041</td>\n",
       "      <td>USB-C Charging Cable</td>\n",
       "      <td>1</td>\n",
       "      <td>11.95</td>\n",
       "      <td>760 Church St, San Francisco, CA 94016</td>\n",
       "    </tr>\n",
       "    <tr>\n",
       "      <th>2019-01-01 04:56:00</th>\n",
       "      <td>149343</td>\n",
       "      <td>Apple Airpods Headphones</td>\n",
       "      <td>1</td>\n",
       "      <td>150.00</td>\n",
       "      <td>735 5th St, New York City, NY 10001</td>\n",
       "    </tr>\n",
       "    <tr>\n",
       "      <th>2019-01-01 05:53:00</th>\n",
       "      <td>149964</td>\n",
       "      <td>AAA Batteries (4-pack)</td>\n",
       "      <td>1</td>\n",
       "      <td>2.99</td>\n",
       "      <td>75 Jackson St, Dallas, TX 75001</td>\n",
       "    </tr>\n",
       "    <tr>\n",
       "      <th>2019-01-01 06:03:00</th>\n",
       "      <td>149350</td>\n",
       "      <td>USB-C Charging Cable</td>\n",
       "      <td>2</td>\n",
       "      <td>11.95</td>\n",
       "      <td>943 2nd St, Atlanta, GA 30301</td>\n",
       "    </tr>\n",
       "  </tbody>\n",
       "</table>\n",
       "</div>"
      ],
      "text/plain": [
       "                     OrderId                   Product  Quantity  UnitPrice  \\\n",
       "Date                                                                          \n",
       "2019-01-01 03:07:00   147268          Wired Headphones         1      11.99   \n",
       "2019-01-01 03:40:00   148041      USB-C Charging Cable         1      11.95   \n",
       "2019-01-01 04:56:00   149343  Apple Airpods Headphones         1     150.00   \n",
       "2019-01-01 05:53:00   149964    AAA Batteries (4-pack)         1       2.99   \n",
       "2019-01-01 06:03:00   149350      USB-C Charging Cable         2      11.95   \n",
       "\n",
       "                                                    Address  \n",
       "Date                                                         \n",
       "2019-01-01 03:07:00      9 Lake St, New York City, NY 10001  \n",
       "2019-01-01 03:40:00  760 Church St, San Francisco, CA 94016  \n",
       "2019-01-01 04:56:00     735 5th St, New York City, NY 10001  \n",
       "2019-01-01 05:53:00         75 Jackson St, Dallas, TX 75001  \n",
       "2019-01-01 06:03:00           943 2nd St, Atlanta, GA 30301  "
      ]
     },
     "execution_count": 17,
     "metadata": {},
     "output_type": "execute_result"
    }
   ],
   "source": [
    "df.head()"
   ]
  },
  {
   "cell_type": "markdown",
   "id": "0bf00690",
   "metadata": {},
   "source": [
    "### Fourth: Add new columns"
   ]
  },
  {
   "cell_type": "markdown",
   "id": "60696e73",
   "metadata": {},
   "source": [
    "#### Add ```\"Month\"``` column"
   ]
  },
  {
   "cell_type": "code",
   "execution_count": 18,
   "id": "0d3b10e9",
   "metadata": {},
   "outputs": [],
   "source": [
    "df[\"Month\"]=df.index.month_name()"
   ]
  },
  {
   "cell_type": "markdown",
   "id": "bff2e023",
   "metadata": {},
   "source": [
    "#### Add ```\"DayOrder\"``` column"
   ]
  },
  {
   "cell_type": "code",
   "execution_count": 19,
   "id": "47a3fce4",
   "metadata": {},
   "outputs": [],
   "source": [
    "df[\"DayOrder\"]=df.index.day"
   ]
  },
  {
   "cell_type": "markdown",
   "id": "a65b43fe",
   "metadata": {},
   "source": [
    "#### Add ```\"DayName\"``` column"
   ]
  },
  {
   "cell_type": "code",
   "execution_count": 20,
   "id": "9ed5a3ca",
   "metadata": {},
   "outputs": [],
   "source": [
    "df[\"DayName\"]=df.index.day_name()"
   ]
  },
  {
   "cell_type": "markdown",
   "id": "d6d42a30",
   "metadata": {},
   "source": [
    "#### Add ```\"TotalCost\"``` column "
   ]
  },
  {
   "cell_type": "code",
   "execution_count": 21,
   "id": "fe440e75",
   "metadata": {},
   "outputs": [],
   "source": [
    "df[\"TotalCost\"] = df[\"Quantity\"] * df[\"UnitPrice\"]"
   ]
  },
  {
   "cell_type": "markdown",
   "id": "59a6a303",
   "metadata": {},
   "source": [
    "#### Add ```\"City\"``` column"
   ]
  },
  {
   "cell_type": "code",
   "execution_count": 22,
   "id": "3744f35e",
   "metadata": {},
   "outputs": [
    {
     "data": {
      "text/plain": [
       "Date\n",
       "2019-01-01 03:07:00        9 Lake St, New York City, NY 10001\n",
       "2019-01-01 03:40:00    760 Church St, San Francisco, CA 94016\n",
       "2019-01-01 04:56:00       735 5th St, New York City, NY 10001\n",
       "Name: Address, dtype: object"
      ]
     },
     "execution_count": 22,
     "metadata": {},
     "output_type": "execute_result"
    }
   ],
   "source": [
    "df[\"Address\"].head(3)"
   ]
  },
  {
   "cell_type": "markdown",
   "id": "fbdb101b",
   "metadata": {},
   "source": [
    "##### 1. Split the address column"
   ]
  },
  {
   "cell_type": "code",
   "execution_count": 23,
   "id": "b47d0a09",
   "metadata": {},
   "outputs": [
    {
     "data": {
      "text/html": [
       "<div>\n",
       "<style scoped>\n",
       "    .dataframe tbody tr th:only-of-type {\n",
       "        vertical-align: middle;\n",
       "    }\n",
       "\n",
       "    .dataframe tbody tr th {\n",
       "        vertical-align: top;\n",
       "    }\n",
       "\n",
       "    .dataframe thead th {\n",
       "        text-align: right;\n",
       "    }\n",
       "</style>\n",
       "<table border=\"1\" class=\"dataframe\">\n",
       "  <thead>\n",
       "    <tr style=\"text-align: right;\">\n",
       "      <th></th>\n",
       "      <th>0</th>\n",
       "      <th>1</th>\n",
       "      <th>2</th>\n",
       "    </tr>\n",
       "    <tr>\n",
       "      <th>Date</th>\n",
       "      <th></th>\n",
       "      <th></th>\n",
       "      <th></th>\n",
       "    </tr>\n",
       "  </thead>\n",
       "  <tbody>\n",
       "    <tr>\n",
       "      <th>2019-01-01 03:07:00</th>\n",
       "      <td>9 Lake St</td>\n",
       "      <td>New York City</td>\n",
       "      <td>NY 10001</td>\n",
       "    </tr>\n",
       "    <tr>\n",
       "      <th>2019-01-01 03:40:00</th>\n",
       "      <td>760 Church St</td>\n",
       "      <td>San Francisco</td>\n",
       "      <td>CA 94016</td>\n",
       "    </tr>\n",
       "    <tr>\n",
       "      <th>2019-01-01 04:56:00</th>\n",
       "      <td>735 5th St</td>\n",
       "      <td>New York City</td>\n",
       "      <td>NY 10001</td>\n",
       "    </tr>\n",
       "  </tbody>\n",
       "</table>\n",
       "</div>"
      ],
      "text/plain": [
       "                                 0              1         2\n",
       "Date                                                       \n",
       "2019-01-01 03:07:00      9 Lake St  New York City  NY 10001\n",
       "2019-01-01 03:40:00  760 Church St  San Francisco  CA 94016\n",
       "2019-01-01 04:56:00     735 5th St  New York City  NY 10001"
      ]
     },
     "execution_count": 23,
     "metadata": {},
     "output_type": "execute_result"
    }
   ],
   "source": [
    "splited_address = df[\"Address\"].str.split(\", \",expand=True)\n",
    "splited_address.head(3)"
   ]
  },
  {
   "cell_type": "markdown",
   "id": "e62a9f42",
   "metadata": {},
   "source": [
    "##### 2. Split the  (state and postal code) column"
   ]
  },
  {
   "cell_type": "code",
   "execution_count": 24,
   "id": "4be4ce2a",
   "metadata": {},
   "outputs": [
    {
     "data": {
      "text/html": [
       "<div>\n",
       "<style scoped>\n",
       "    .dataframe tbody tr th:only-of-type {\n",
       "        vertical-align: middle;\n",
       "    }\n",
       "\n",
       "    .dataframe tbody tr th {\n",
       "        vertical-align: top;\n",
       "    }\n",
       "\n",
       "    .dataframe thead th {\n",
       "        text-align: right;\n",
       "    }\n",
       "</style>\n",
       "<table border=\"1\" class=\"dataframe\">\n",
       "  <thead>\n",
       "    <tr style=\"text-align: right;\">\n",
       "      <th></th>\n",
       "      <th>0</th>\n",
       "      <th>1</th>\n",
       "    </tr>\n",
       "    <tr>\n",
       "      <th>Date</th>\n",
       "      <th></th>\n",
       "      <th></th>\n",
       "    </tr>\n",
       "  </thead>\n",
       "  <tbody>\n",
       "    <tr>\n",
       "      <th>2019-01-01 03:07:00</th>\n",
       "      <td>NY</td>\n",
       "      <td>10001</td>\n",
       "    </tr>\n",
       "    <tr>\n",
       "      <th>2019-01-01 03:40:00</th>\n",
       "      <td>CA</td>\n",
       "      <td>94016</td>\n",
       "    </tr>\n",
       "    <tr>\n",
       "      <th>2019-01-01 04:56:00</th>\n",
       "      <td>NY</td>\n",
       "      <td>10001</td>\n",
       "    </tr>\n",
       "  </tbody>\n",
       "</table>\n",
       "</div>"
      ],
      "text/plain": [
       "                      0      1\n",
       "Date                          \n",
       "2019-01-01 03:07:00  NY  10001\n",
       "2019-01-01 03:40:00  CA  94016\n",
       "2019-01-01 04:56:00  NY  10001"
      ]
     },
     "execution_count": 24,
     "metadata": {},
     "output_type": "execute_result"
    }
   ],
   "source": [
    "splited_state_postalcode = splited_address[2].str.split(expand=True)\n",
    "splited_state_postalcode.head(3)"
   ]
  },
  {
   "cell_type": "markdown",
   "id": "27018bfe",
   "metadata": {},
   "source": [
    "##### 3. Merge states and cities in one column"
   ]
  },
  {
   "cell_type": "code",
   "execution_count": 25,
   "id": "7a0b74a0",
   "metadata": {},
   "outputs": [
    {
     "data": {
      "text/plain": [
       "Date\n",
       "2019-01-01 03:07:00    New York City, NY\n",
       "2019-01-01 03:40:00    San Francisco, CA\n",
       "2019-01-01 04:56:00    New York City, NY\n",
       "Name: 1, dtype: object"
      ]
     },
     "execution_count": 25,
     "metadata": {},
     "output_type": "execute_result"
    }
   ],
   "source": [
    "cities = splited_address[1]\n",
    "states = splited_state_postalcode[0]\n",
    "\n",
    "merged_city_state = cities.str.cat(states,sep=\", \")\n",
    "merged_city_state.head(3)"
   ]
  },
  {
   "cell_type": "markdown",
   "id": "a1756c59",
   "metadata": {},
   "source": [
    "##### 4. Add the ```\"City\"``` column"
   ]
  },
  {
   "cell_type": "code",
   "execution_count": 26,
   "id": "41b233e9",
   "metadata": {},
   "outputs": [],
   "source": [
    "df[\"City\"] = merged_city_state"
   ]
  },
  {
   "cell_type": "markdown",
   "id": "0275c284",
   "metadata": {},
   "source": [
    "<hr>"
   ]
  },
  {
   "cell_type": "code",
   "execution_count": 27,
   "id": "2e3e979e",
   "metadata": {
    "scrolled": true
   },
   "outputs": [
    {
     "name": "stdout",
     "output_type": "stream",
     "text": [
      "After cleaning the data up,There are 72871 rows and 10 columns\n"
     ]
    }
   ],
   "source": [
    "print(f\"After cleaning the data up,There are {df.shape[0]} rows and {df.shape[1]} columns\")"
   ]
  },
  {
   "cell_type": "code",
   "execution_count": 28,
   "id": "12fd1685",
   "metadata": {},
   "outputs": [
    {
     "data": {
      "text/html": [
       "<div>\n",
       "<style scoped>\n",
       "    .dataframe tbody tr th:only-of-type {\n",
       "        vertical-align: middle;\n",
       "    }\n",
       "\n",
       "    .dataframe tbody tr th {\n",
       "        vertical-align: top;\n",
       "    }\n",
       "\n",
       "    .dataframe thead th {\n",
       "        text-align: right;\n",
       "    }\n",
       "</style>\n",
       "<table border=\"1\" class=\"dataframe\">\n",
       "  <thead>\n",
       "    <tr style=\"text-align: right;\">\n",
       "      <th></th>\n",
       "      <th>OrderId</th>\n",
       "      <th>Product</th>\n",
       "      <th>Quantity</th>\n",
       "      <th>UnitPrice</th>\n",
       "      <th>Address</th>\n",
       "      <th>Month</th>\n",
       "      <th>DayOrder</th>\n",
       "      <th>DayName</th>\n",
       "      <th>TotalCost</th>\n",
       "      <th>City</th>\n",
       "    </tr>\n",
       "    <tr>\n",
       "      <th>Date</th>\n",
       "      <th></th>\n",
       "      <th></th>\n",
       "      <th></th>\n",
       "      <th></th>\n",
       "      <th></th>\n",
       "      <th></th>\n",
       "      <th></th>\n",
       "      <th></th>\n",
       "      <th></th>\n",
       "      <th></th>\n",
       "    </tr>\n",
       "  </thead>\n",
       "  <tbody>\n",
       "    <tr>\n",
       "      <th>2019-01-01 03:07:00</th>\n",
       "      <td>147268</td>\n",
       "      <td>Wired Headphones</td>\n",
       "      <td>1</td>\n",
       "      <td>11.99</td>\n",
       "      <td>9 Lake St, New York City, NY 10001</td>\n",
       "      <td>January</td>\n",
       "      <td>1</td>\n",
       "      <td>Tuesday</td>\n",
       "      <td>11.99</td>\n",
       "      <td>New York City, NY</td>\n",
       "    </tr>\n",
       "    <tr>\n",
       "      <th>2019-01-01 03:40:00</th>\n",
       "      <td>148041</td>\n",
       "      <td>USB-C Charging Cable</td>\n",
       "      <td>1</td>\n",
       "      <td>11.95</td>\n",
       "      <td>760 Church St, San Francisco, CA 94016</td>\n",
       "      <td>January</td>\n",
       "      <td>1</td>\n",
       "      <td>Tuesday</td>\n",
       "      <td>11.95</td>\n",
       "      <td>San Francisco, CA</td>\n",
       "    </tr>\n",
       "    <tr>\n",
       "      <th>2019-01-01 04:56:00</th>\n",
       "      <td>149343</td>\n",
       "      <td>Apple Airpods Headphones</td>\n",
       "      <td>1</td>\n",
       "      <td>150.00</td>\n",
       "      <td>735 5th St, New York City, NY 10001</td>\n",
       "      <td>January</td>\n",
       "      <td>1</td>\n",
       "      <td>Tuesday</td>\n",
       "      <td>150.00</td>\n",
       "      <td>New York City, NY</td>\n",
       "    </tr>\n",
       "    <tr>\n",
       "      <th>2019-01-01 05:53:00</th>\n",
       "      <td>149964</td>\n",
       "      <td>AAA Batteries (4-pack)</td>\n",
       "      <td>1</td>\n",
       "      <td>2.99</td>\n",
       "      <td>75 Jackson St, Dallas, TX 75001</td>\n",
       "      <td>January</td>\n",
       "      <td>1</td>\n",
       "      <td>Tuesday</td>\n",
       "      <td>2.99</td>\n",
       "      <td>Dallas, TX</td>\n",
       "    </tr>\n",
       "    <tr>\n",
       "      <th>2019-01-01 06:03:00</th>\n",
       "      <td>149350</td>\n",
       "      <td>USB-C Charging Cable</td>\n",
       "      <td>2</td>\n",
       "      <td>11.95</td>\n",
       "      <td>943 2nd St, Atlanta, GA 30301</td>\n",
       "      <td>January</td>\n",
       "      <td>1</td>\n",
       "      <td>Tuesday</td>\n",
       "      <td>23.90</td>\n",
       "      <td>Atlanta, GA</td>\n",
       "    </tr>\n",
       "  </tbody>\n",
       "</table>\n",
       "</div>"
      ],
      "text/plain": [
       "                     OrderId                   Product  Quantity  UnitPrice  \\\n",
       "Date                                                                          \n",
       "2019-01-01 03:07:00   147268          Wired Headphones         1      11.99   \n",
       "2019-01-01 03:40:00   148041      USB-C Charging Cable         1      11.95   \n",
       "2019-01-01 04:56:00   149343  Apple Airpods Headphones         1     150.00   \n",
       "2019-01-01 05:53:00   149964    AAA Batteries (4-pack)         1       2.99   \n",
       "2019-01-01 06:03:00   149350      USB-C Charging Cable         2      11.95   \n",
       "\n",
       "                                                    Address    Month  \\\n",
       "Date                                                                   \n",
       "2019-01-01 03:07:00      9 Lake St, New York City, NY 10001  January   \n",
       "2019-01-01 03:40:00  760 Church St, San Francisco, CA 94016  January   \n",
       "2019-01-01 04:56:00     735 5th St, New York City, NY 10001  January   \n",
       "2019-01-01 05:53:00         75 Jackson St, Dallas, TX 75001  January   \n",
       "2019-01-01 06:03:00           943 2nd St, Atlanta, GA 30301  January   \n",
       "\n",
       "                     DayOrder  DayName  TotalCost               City  \n",
       "Date                                                                  \n",
       "2019-01-01 03:07:00         1  Tuesday      11.99  New York City, NY  \n",
       "2019-01-01 03:40:00         1  Tuesday      11.95  San Francisco, CA  \n",
       "2019-01-01 04:56:00         1  Tuesday     150.00  New York City, NY  \n",
       "2019-01-01 05:53:00         1  Tuesday       2.99         Dallas, TX  \n",
       "2019-01-01 06:03:00         1  Tuesday      23.90        Atlanta, GA  "
      ]
     },
     "execution_count": 28,
     "metadata": {},
     "output_type": "execute_result"
    }
   ],
   "source": [
    "df.head()"
   ]
  },
  {
   "cell_type": "markdown",
   "id": "36767b38",
   "metadata": {},
   "source": [
    " ## Exploring the data"
   ]
  },
  {
   "cell_type": "markdown",
   "id": "4efb58fa",
   "metadata": {},
   "source": [
    "#### Change the style of the figure to the \"dark\" theme"
   ]
  },
  {
   "cell_type": "code",
   "execution_count": 29,
   "id": "c65c0a54",
   "metadata": {},
   "outputs": [],
   "source": [
    "sns.set_style(\"whitegrid\")"
   ]
  },
  {
   "cell_type": "markdown",
   "id": "fd572c21",
   "metadata": {},
   "source": [
    "### Q #1: Which months acheived higher product sales and which acheived higher profit?"
   ]
  },
  {
   "cell_type": "markdown",
   "id": "46f2435e",
   "metadata": {},
   "source": [
    "#### Step #1: Group data by ```\"Month\"``` column"
   ]
  },
  {
   "cell_type": "code",
   "execution_count": 30,
   "id": "22393e0d",
   "metadata": {},
   "outputs": [],
   "source": [
    "month_group=df.loc[\"2019\"].groupby(\"Month\" ,sort = False)"
   ]
  },
  {
   "cell_type": "markdown",
   "id": "65943179",
   "metadata": {},
   "source": [
    "#### Step #2: Get the monthly product sales"
   ]
  },
  {
   "cell_type": "code",
   "execution_count": 31,
   "id": "ca6e7d96",
   "metadata": {},
   "outputs": [
    {
     "data": {
      "text/plain": [
       "Month\n",
       "January     6826\n",
       "February    6962\n",
       "March       6534\n",
       "April       6813\n",
       "May         6816\n",
       "Name: Quantity, dtype: int32"
      ]
     },
     "execution_count": 31,
     "metadata": {},
     "output_type": "execute_result"
    }
   ],
   "source": [
    "monthly_product_sales= month_group[\"Quantity\"].sum()\n",
    "monthly_product_sales.head()"
   ]
  },
  {
   "cell_type": "markdown",
   "id": "667c205e",
   "metadata": {},
   "source": [
    "#### Step #3: Get the monthly profit"
   ]
  },
  {
   "cell_type": "code",
   "execution_count": 32,
   "id": "ee2606a2",
   "metadata": {},
   "outputs": [
    {
     "data": {
      "text/plain": [
       "Month\n",
       "January     1157648.96\n",
       "February    1137457.04\n",
       "March       1074432.90\n",
       "April       1163857.72\n",
       "May         1135284.73\n",
       "Name: TotalCost, dtype: float64"
      ]
     },
     "execution_count": 32,
     "metadata": {},
     "output_type": "execute_result"
    }
   ],
   "source": [
    "monthly_profit= month_group[\"TotalCost\"].sum()\n",
    "monthly_profit.head()"
   ]
  },
  {
   "cell_type": "markdown",
   "id": "fa652d60",
   "metadata": {},
   "source": [
    "#### Step #4: Data visualization"
   ]
  },
  {
   "cell_type": "code",
   "execution_count": 33,
   "id": "65fdc50d",
   "metadata": {
    "scrolled": true
   },
   "outputs": [
    {
     "data": {
      "text/plain": [
       "Text(0.5, 1.0, 'Monthly product sales')"
      ]
     },
     "execution_count": 33,
     "metadata": {},
     "output_type": "execute_result"
    },
    {
     "data": {
      "image/png": "[encoded data removed]",
      "text/plain": [
       "<Figure size 1008x432 with 2 Axes>"
      ]
     },
     "metadata": {},
     "output_type": "display_data"
    }
   ],
   "source": [
    "# Create subplot\n",
    "fig,axes=plt.subplots(1,2,figsize=(14,6),sharey=True)\n",
    "\n",
    "# months names list\n",
    "months = df[\"Month\"].unique()\n",
    "\n",
    "#The monthly profit plot\n",
    "sns.barplot(x=monthly_profit, y=months,ax=axes[0])\n",
    "axes[0].set_xlabel(\"Profits\") #x label\n",
    "axes[0].set_ylabel(\"Month\") #y label\n",
    "axes[0].set_title(\"Monthly profit\") #title\n",
    "\n",
    "#The monthly product sales plot\n",
    "sns.barplot(x=monthly_product_sales, y=months,ax=axes[1])\n",
    "axes[1].set_xlabel(\"Product sales\") #x label\n",
    "axes[1].set_title(\"Monthly product sales\")#title\n"
   ]
  },
  {
   "cell_type": "markdown",
   "id": "85dede86",
   "metadata": {},
   "source": [
    "#### Results:\n",
    "1. **October and February** acheived the highest product sales\n",
    "2. **September, October, November and April** acheived the highest profits "
   ]
  },
  {
   "cell_type": "markdown",
   "id": "dad1b4c0",
   "metadata": {},
   "source": [
    "### Q #2: Which products were highly sold each month?"
   ]
  },
  {
   "cell_type": "markdown",
   "id": "fb443e83",
   "metadata": {},
   "source": [
    "#### Step #1: Group the data by ```\"Month\"``` and ```\"Product\"``` columns "
   ]
  },
  {
   "cell_type": "code",
   "execution_count": 34,
   "id": "550444c4",
   "metadata": {},
   "outputs": [
    {
     "data": {
      "text/html": [
       "<div>\n",
       "<style scoped>\n",
       "    .dataframe tbody tr th:only-of-type {\n",
       "        vertical-align: middle;\n",
       "    }\n",
       "\n",
       "    .dataframe tbody tr th {\n",
       "        vertical-align: top;\n",
       "    }\n",
       "\n",
       "    .dataframe thead th {\n",
       "        text-align: right;\n",
       "    }\n",
       "</style>\n",
       "<table border=\"1\" class=\"dataframe\">\n",
       "  <thead>\n",
       "    <tr style=\"text-align: right;\">\n",
       "      <th></th>\n",
       "      <th></th>\n",
       "      <th>OrderId</th>\n",
       "      <th>Quantity</th>\n",
       "      <th>UnitPrice</th>\n",
       "      <th>Address</th>\n",
       "      <th>DayOrder</th>\n",
       "      <th>DayName</th>\n",
       "      <th>TotalCost</th>\n",
       "      <th>City</th>\n",
       "    </tr>\n",
       "    <tr>\n",
       "      <th>Month</th>\n",
       "      <th>Product</th>\n",
       "      <th></th>\n",
       "      <th></th>\n",
       "      <th></th>\n",
       "      <th></th>\n",
       "      <th></th>\n",
       "      <th></th>\n",
       "      <th></th>\n",
       "      <th></th>\n",
       "    </tr>\n",
       "  </thead>\n",
       "  <tbody>\n",
       "    <tr>\n",
       "      <th rowspan=\"5\" valign=\"top\">January</th>\n",
       "      <th>Wired Headphones</th>\n",
       "      <td>147268</td>\n",
       "      <td>1</td>\n",
       "      <td>11.99</td>\n",
       "      <td>9 Lake St, New York City, NY 10001</td>\n",
       "      <td>1</td>\n",
       "      <td>Tuesday</td>\n",
       "      <td>11.99</td>\n",
       "      <td>New York City, NY</td>\n",
       "    </tr>\n",
       "    <tr>\n",
       "      <th>USB-C Charging Cable</th>\n",
       "      <td>148041</td>\n",
       "      <td>1</td>\n",
       "      <td>11.95</td>\n",
       "      <td>760 Church St, San Francisco, CA 94016</td>\n",
       "      <td>1</td>\n",
       "      <td>Tuesday</td>\n",
       "      <td>11.95</td>\n",
       "      <td>San Francisco, CA</td>\n",
       "    </tr>\n",
       "    <tr>\n",
       "      <th>Apple Airpods Headphones</th>\n",
       "      <td>149343</td>\n",
       "      <td>1</td>\n",
       "      <td>150.00</td>\n",
       "      <td>735 5th St, New York City, NY 10001</td>\n",
       "      <td>1</td>\n",
       "      <td>Tuesday</td>\n",
       "      <td>150.00</td>\n",
       "      <td>New York City, NY</td>\n",
       "    </tr>\n",
       "    <tr>\n",
       "      <th>AAA Batteries (4-pack)</th>\n",
       "      <td>149964</td>\n",
       "      <td>1</td>\n",
       "      <td>2.99</td>\n",
       "      <td>75 Jackson St, Dallas, TX 75001</td>\n",
       "      <td>1</td>\n",
       "      <td>Tuesday</td>\n",
       "      <td>2.99</td>\n",
       "      <td>Dallas, TX</td>\n",
       "    </tr>\n",
       "    <tr>\n",
       "      <th>iPhone</th>\n",
       "      <td>141732</td>\n",
       "      <td>1</td>\n",
       "      <td>700.00</td>\n",
       "      <td>446 Pine St, Atlanta, GA 30301</td>\n",
       "      <td>1</td>\n",
       "      <td>Tuesday</td>\n",
       "      <td>700.00</td>\n",
       "      <td>Atlanta, GA</td>\n",
       "    </tr>\n",
       "  </tbody>\n",
       "</table>\n",
       "</div>"
      ],
      "text/plain": [
       "                                  OrderId  Quantity  UnitPrice  \\\n",
       "Month   Product                                                  \n",
       "January Wired Headphones           147268         1      11.99   \n",
       "        USB-C Charging Cable       148041         1      11.95   \n",
       "        Apple Airpods Headphones   149343         1     150.00   \n",
       "        AAA Batteries (4-pack)     149964         1       2.99   \n",
       "        iPhone                     141732         1     700.00   \n",
       "\n",
       "                                                                 Address  \\\n",
       "Month   Product                                                            \n",
       "January Wired Headphones              9 Lake St, New York City, NY 10001   \n",
       "        USB-C Charging Cable      760 Church St, San Francisco, CA 94016   \n",
       "        Apple Airpods Headphones     735 5th St, New York City, NY 10001   \n",
       "        AAA Batteries (4-pack)           75 Jackson St, Dallas, TX 75001   \n",
       "        iPhone                            446 Pine St, Atlanta, GA 30301   \n",
       "\n",
       "                                  DayOrder  DayName  TotalCost  \\\n",
       "Month   Product                                                  \n",
       "January Wired Headphones                 1  Tuesday      11.99   \n",
       "        USB-C Charging Cable             1  Tuesday      11.95   \n",
       "        Apple Airpods Headphones         1  Tuesday     150.00   \n",
       "        AAA Batteries (4-pack)           1  Tuesday       2.99   \n",
       "        iPhone                           1  Tuesday     700.00   \n",
       "\n",
       "                                               City  \n",
       "Month   Product                                      \n",
       "January Wired Headphones          New York City, NY  \n",
       "        USB-C Charging Cable      San Francisco, CA  \n",
       "        Apple Airpods Headphones  New York City, NY  \n",
       "        AAA Batteries (4-pack)           Dallas, TX  \n",
       "        iPhone                          Atlanta, GA  "
      ]
     },
     "execution_count": 34,
     "metadata": {},
     "output_type": "execute_result"
    }
   ],
   "source": [
    "month_product_group = df.loc[\"2019\"].groupby([\"Month\",\"Product\"],sort=False)\n",
    "month_product_group.first().head()"
   ]
  },
  {
   "cell_type": "markdown",
   "id": "0eb0aaaa",
   "metadata": {},
   "source": [
    "#### Step #2: Get the count of sold items for each product during every month"
   ]
  },
  {
   "cell_type": "code",
   "execution_count": 35,
   "id": "ace59081",
   "metadata": {},
   "outputs": [
    {
     "data": {
      "text/plain": [
       "Month    Product                 \n",
       "January  Wired Headphones            673\n",
       "         USB-C Charging Cable        846\n",
       "         Apple Airpods Headphones    482\n",
       "         AAA Batteries (4-pack)      998\n",
       "         iPhone                      239\n",
       "Name: Quantity, dtype: int32"
      ]
     },
     "execution_count": 35,
     "metadata": {},
     "output_type": "execute_result"
    }
   ],
   "source": [
    "sold_items_count = month_product_group[\"Quantity\"].sum()\n",
    "sold_items_count.head()"
   ]
  },
  {
   "cell_type": "markdown",
   "id": "4d112c1f",
   "metadata": {},
   "source": [
    "#### Step #3: Create new data frame"
   ]
  },
  {
   "cell_type": "code",
   "execution_count": 36,
   "id": "e95eddb3",
   "metadata": {},
   "outputs": [
    {
     "data": {
      "text/html": [
       "<div>\n",
       "<style scoped>\n",
       "    .dataframe tbody tr th:only-of-type {\n",
       "        vertical-align: middle;\n",
       "    }\n",
       "\n",
       "    .dataframe tbody tr th {\n",
       "        vertical-align: top;\n",
       "    }\n",
       "\n",
       "    .dataframe thead th {\n",
       "        text-align: right;\n",
       "    }\n",
       "</style>\n",
       "<table border=\"1\" class=\"dataframe\">\n",
       "  <thead>\n",
       "    <tr style=\"text-align: right;\">\n",
       "      <th></th>\n",
       "      <th>Wired Headphones</th>\n",
       "      <th>USB-C Charging Cable</th>\n",
       "      <th>Apple Airpods Headphones</th>\n",
       "      <th>AAA Batteries (4-pack)</th>\n",
       "      <th>iPhone</th>\n",
       "      <th>Lightning Charging Cable</th>\n",
       "      <th>34in Ultrawide Monitor</th>\n",
       "      <th>AA Batteries (4-pack)</th>\n",
       "      <th>Google Phone</th>\n",
       "      <th>Macbook Pro Laptop</th>\n",
       "      <th>ThinkPad Laptop</th>\n",
       "      <th>27in FHD Monitor</th>\n",
       "      <th>Bose SoundSport Headphones</th>\n",
       "      <th>Flatscreen TV</th>\n",
       "      <th>27in 4K Gaming Monitor</th>\n",
       "      <th>LG Dryer</th>\n",
       "      <th>20in Monitor</th>\n",
       "      <th>LG Washing Machine</th>\n",
       "      <th>Vareebadd Phone</th>\n",
       "    </tr>\n",
       "  </thead>\n",
       "  <tbody>\n",
       "    <tr>\n",
       "      <th>January</th>\n",
       "      <td>NaN</td>\n",
       "      <td>NaN</td>\n",
       "      <td>NaN</td>\n",
       "      <td>NaN</td>\n",
       "      <td>NaN</td>\n",
       "      <td>NaN</td>\n",
       "      <td>NaN</td>\n",
       "      <td>NaN</td>\n",
       "      <td>NaN</td>\n",
       "      <td>NaN</td>\n",
       "      <td>NaN</td>\n",
       "      <td>NaN</td>\n",
       "      <td>NaN</td>\n",
       "      <td>NaN</td>\n",
       "      <td>NaN</td>\n",
       "      <td>NaN</td>\n",
       "      <td>NaN</td>\n",
       "      <td>NaN</td>\n",
       "      <td>NaN</td>\n",
       "    </tr>\n",
       "    <tr>\n",
       "      <th>February</th>\n",
       "      <td>NaN</td>\n",
       "      <td>NaN</td>\n",
       "      <td>NaN</td>\n",
       "      <td>NaN</td>\n",
       "      <td>NaN</td>\n",
       "      <td>NaN</td>\n",
       "      <td>NaN</td>\n",
       "      <td>NaN</td>\n",
       "      <td>NaN</td>\n",
       "      <td>NaN</td>\n",
       "      <td>NaN</td>\n",
       "      <td>NaN</td>\n",
       "      <td>NaN</td>\n",
       "      <td>NaN</td>\n",
       "      <td>NaN</td>\n",
       "      <td>NaN</td>\n",
       "      <td>NaN</td>\n",
       "      <td>NaN</td>\n",
       "      <td>NaN</td>\n",
       "    </tr>\n",
       "    <tr>\n",
       "      <th>March</th>\n",
       "      <td>NaN</td>\n",
       "      <td>NaN</td>\n",
       "      <td>NaN</td>\n",
       "      <td>NaN</td>\n",
       "      <td>NaN</td>\n",
       "      <td>NaN</td>\n",
       "      <td>NaN</td>\n",
       "      <td>NaN</td>\n",
       "      <td>NaN</td>\n",
       "      <td>NaN</td>\n",
       "      <td>NaN</td>\n",
       "      <td>NaN</td>\n",
       "      <td>NaN</td>\n",
       "      <td>NaN</td>\n",
       "      <td>NaN</td>\n",
       "      <td>NaN</td>\n",
       "      <td>NaN</td>\n",
       "      <td>NaN</td>\n",
       "      <td>NaN</td>\n",
       "    </tr>\n",
       "    <tr>\n",
       "      <th>April</th>\n",
       "      <td>NaN</td>\n",
       "      <td>NaN</td>\n",
       "      <td>NaN</td>\n",
       "      <td>NaN</td>\n",
       "      <td>NaN</td>\n",
       "      <td>NaN</td>\n",
       "      <td>NaN</td>\n",
       "      <td>NaN</td>\n",
       "      <td>NaN</td>\n",
       "      <td>NaN</td>\n",
       "      <td>NaN</td>\n",
       "      <td>NaN</td>\n",
       "      <td>NaN</td>\n",
       "      <td>NaN</td>\n",
       "      <td>NaN</td>\n",
       "      <td>NaN</td>\n",
       "      <td>NaN</td>\n",
       "      <td>NaN</td>\n",
       "      <td>NaN</td>\n",
       "    </tr>\n",
       "    <tr>\n",
       "      <th>May</th>\n",
       "      <td>NaN</td>\n",
       "      <td>NaN</td>\n",
       "      <td>NaN</td>\n",
       "      <td>NaN</td>\n",
       "      <td>NaN</td>\n",
       "      <td>NaN</td>\n",
       "      <td>NaN</td>\n",
       "      <td>NaN</td>\n",
       "      <td>NaN</td>\n",
       "      <td>NaN</td>\n",
       "      <td>NaN</td>\n",
       "      <td>NaN</td>\n",
       "      <td>NaN</td>\n",
       "      <td>NaN</td>\n",
       "      <td>NaN</td>\n",
       "      <td>NaN</td>\n",
       "      <td>NaN</td>\n",
       "      <td>NaN</td>\n",
       "      <td>NaN</td>\n",
       "    </tr>\n",
       "  </tbody>\n",
       "</table>\n",
       "</div>"
      ],
      "text/plain": [
       "         Wired Headphones USB-C Charging Cable Apple Airpods Headphones  \\\n",
       "January               NaN                  NaN                      NaN   \n",
       "February              NaN                  NaN                      NaN   \n",
       "March                 NaN                  NaN                      NaN   \n",
       "April                 NaN                  NaN                      NaN   \n",
       "May                   NaN                  NaN                      NaN   \n",
       "\n",
       "         AAA Batteries (4-pack) iPhone Lightning Charging Cable  \\\n",
       "January                     NaN    NaN                      NaN   \n",
       "February                    NaN    NaN                      NaN   \n",
       "March                       NaN    NaN                      NaN   \n",
       "April                       NaN    NaN                      NaN   \n",
       "May                         NaN    NaN                      NaN   \n",
       "\n",
       "         34in Ultrawide Monitor AA Batteries (4-pack) Google Phone  \\\n",
       "January                     NaN                   NaN          NaN   \n",
       "February                    NaN                   NaN          NaN   \n",
       "March                       NaN                   NaN          NaN   \n",
       "April                       NaN                   NaN          NaN   \n",
       "May                         NaN                   NaN          NaN   \n",
       "\n",
       "         Macbook Pro Laptop ThinkPad Laptop 27in FHD Monitor  \\\n",
       "January                 NaN             NaN              NaN   \n",
       "February                NaN             NaN              NaN   \n",
       "March                   NaN             NaN              NaN   \n",
       "April                   NaN             NaN              NaN   \n",
       "May                     NaN             NaN              NaN   \n",
       "\n",
       "         Bose SoundSport Headphones Flatscreen TV 27in 4K Gaming Monitor  \\\n",
       "January                         NaN           NaN                    NaN   \n",
       "February                        NaN           NaN                    NaN   \n",
       "March                           NaN           NaN                    NaN   \n",
       "April                           NaN           NaN                    NaN   \n",
       "May                             NaN           NaN                    NaN   \n",
       "\n",
       "         LG Dryer 20in Monitor LG Washing Machine Vareebadd Phone  \n",
       "January       NaN          NaN                NaN             NaN  \n",
       "February      NaN          NaN                NaN             NaN  \n",
       "March         NaN          NaN                NaN             NaN  \n",
       "April         NaN          NaN                NaN             NaN  \n",
       "May           NaN          NaN                NaN             NaN  "
      ]
     },
     "execution_count": 36,
     "metadata": {},
     "output_type": "execute_result"
    }
   ],
   "source": [
    "month_product_df= pd.DataFrame(index=df[\"Month\"].unique(),columns=df[\"Product\"].unique())\n",
    "month_product_df.head()"
   ]
  },
  {
   "cell_type": "markdown",
   "id": "3ed7f8a2",
   "metadata": {},
   "source": [
    "#### Step #4: Assign the value of each cell in the new data frame"
   ]
  },
  {
   "cell_type": "code",
   "execution_count": 37,
   "id": "1f2d19fd",
   "metadata": {},
   "outputs": [],
   "source": [
    "for month in month_product_df.index : #iterate over each month\n",
    "    for product in month_product_df.columns: #iterate over each month\n",
    "        month_product_df.loc[month,product] = sold_items_count.loc[month, product] #assign the cell value"
   ]
  },
  {
   "cell_type": "code",
   "execution_count": 38,
   "id": "880065d8",
   "metadata": {},
   "outputs": [],
   "source": [
    "month_product_df=month_product_df.apply(pd.to_numeric) #convert the data frame to numeric values"
   ]
  },
  {
   "cell_type": "code",
   "execution_count": 39,
   "id": "d9aa2966",
   "metadata": {
    "scrolled": true
   },
   "outputs": [
    {
     "data": {
      "text/html": [
       "<div>\n",
       "<style scoped>\n",
       "    .dataframe tbody tr th:only-of-type {\n",
       "        vertical-align: middle;\n",
       "    }\n",
       "\n",
       "    .dataframe tbody tr th {\n",
       "        vertical-align: top;\n",
       "    }\n",
       "\n",
       "    .dataframe thead th {\n",
       "        text-align: right;\n",
       "    }\n",
       "</style>\n",
       "<table border=\"1\" class=\"dataframe\">\n",
       "  <thead>\n",
       "    <tr style=\"text-align: right;\">\n",
       "      <th></th>\n",
       "      <th>Wired Headphones</th>\n",
       "      <th>USB-C Charging Cable</th>\n",
       "      <th>Apple Airpods Headphones</th>\n",
       "      <th>AAA Batteries (4-pack)</th>\n",
       "      <th>iPhone</th>\n",
       "      <th>Lightning Charging Cable</th>\n",
       "      <th>34in Ultrawide Monitor</th>\n",
       "      <th>AA Batteries (4-pack)</th>\n",
       "      <th>Google Phone</th>\n",
       "      <th>Macbook Pro Laptop</th>\n",
       "      <th>ThinkPad Laptop</th>\n",
       "      <th>27in FHD Monitor</th>\n",
       "      <th>Bose SoundSport Headphones</th>\n",
       "      <th>Flatscreen TV</th>\n",
       "      <th>27in 4K Gaming Monitor</th>\n",
       "      <th>LG Dryer</th>\n",
       "      <th>20in Monitor</th>\n",
       "      <th>LG Washing Machine</th>\n",
       "      <th>Vareebadd Phone</th>\n",
       "    </tr>\n",
       "  </thead>\n",
       "  <tbody>\n",
       "    <tr>\n",
       "      <th>January</th>\n",
       "      <td>673</td>\n",
       "      <td>846</td>\n",
       "      <td>482</td>\n",
       "      <td>998</td>\n",
       "      <td>239</td>\n",
       "      <td>728</td>\n",
       "      <td>202</td>\n",
       "      <td>874</td>\n",
       "      <td>189</td>\n",
       "      <td>162</td>\n",
       "      <td>149</td>\n",
       "      <td>249</td>\n",
       "      <td>438</td>\n",
       "      <td>152</td>\n",
       "      <td>198</td>\n",
       "      <td>19</td>\n",
       "      <td>143</td>\n",
       "      <td>15</td>\n",
       "      <td>70</td>\n",
       "    </tr>\n",
       "    <tr>\n",
       "      <th>February</th>\n",
       "      <td>715</td>\n",
       "      <td>766</td>\n",
       "      <td>548</td>\n",
       "      <td>1014</td>\n",
       "      <td>233</td>\n",
       "      <td>775</td>\n",
       "      <td>195</td>\n",
       "      <td>939</td>\n",
       "      <td>202</td>\n",
       "      <td>142</td>\n",
       "      <td>137</td>\n",
       "      <td>222</td>\n",
       "      <td>428</td>\n",
       "      <td>173</td>\n",
       "      <td>207</td>\n",
       "      <td>27</td>\n",
       "      <td>149</td>\n",
       "      <td>26</td>\n",
       "      <td>64</td>\n",
       "    </tr>\n",
       "    <tr>\n",
       "      <th>March</th>\n",
       "      <td>663</td>\n",
       "      <td>762</td>\n",
       "      <td>519</td>\n",
       "      <td>909</td>\n",
       "      <td>213</td>\n",
       "      <td>753</td>\n",
       "      <td>196</td>\n",
       "      <td>827</td>\n",
       "      <td>175</td>\n",
       "      <td>140</td>\n",
       "      <td>137</td>\n",
       "      <td>250</td>\n",
       "      <td>427</td>\n",
       "      <td>141</td>\n",
       "      <td>190</td>\n",
       "      <td>15</td>\n",
       "      <td>131</td>\n",
       "      <td>22</td>\n",
       "      <td>64</td>\n",
       "    </tr>\n",
       "    <tr>\n",
       "      <th>April</th>\n",
       "      <td>668</td>\n",
       "      <td>729</td>\n",
       "      <td>534</td>\n",
       "      <td>979</td>\n",
       "      <td>239</td>\n",
       "      <td>744</td>\n",
       "      <td>198</td>\n",
       "      <td>909</td>\n",
       "      <td>201</td>\n",
       "      <td>155</td>\n",
       "      <td>135</td>\n",
       "      <td>259</td>\n",
       "      <td>428</td>\n",
       "      <td>153</td>\n",
       "      <td>210</td>\n",
       "      <td>24</td>\n",
       "      <td>142</td>\n",
       "      <td>30</td>\n",
       "      <td>76</td>\n",
       "    </tr>\n",
       "    <tr>\n",
       "      <th>May</th>\n",
       "      <td>692</td>\n",
       "      <td>711</td>\n",
       "      <td>467</td>\n",
       "      <td>1093</td>\n",
       "      <td>216</td>\n",
       "      <td>770</td>\n",
       "      <td>178</td>\n",
       "      <td>866</td>\n",
       "      <td>191</td>\n",
       "      <td>174</td>\n",
       "      <td>122</td>\n",
       "      <td>251</td>\n",
       "      <td>466</td>\n",
       "      <td>169</td>\n",
       "      <td>224</td>\n",
       "      <td>12</td>\n",
       "      <td>140</td>\n",
       "      <td>23</td>\n",
       "      <td>51</td>\n",
       "    </tr>\n",
       "  </tbody>\n",
       "</table>\n",
       "</div>"
      ],
      "text/plain": [
       "          Wired Headphones  USB-C Charging Cable  Apple Airpods Headphones  \\\n",
       "January                673                   846                       482   \n",
       "February               715                   766                       548   \n",
       "March                  663                   762                       519   \n",
       "April                  668                   729                       534   \n",
       "May                    692                   711                       467   \n",
       "\n",
       "          AAA Batteries (4-pack)  iPhone  Lightning Charging Cable  \\\n",
       "January                      998     239                       728   \n",
       "February                    1014     233                       775   \n",
       "March                        909     213                       753   \n",
       "April                        979     239                       744   \n",
       "May                         1093     216                       770   \n",
       "\n",
       "          34in Ultrawide Monitor  AA Batteries (4-pack)  Google Phone  \\\n",
       "January                      202                    874           189   \n",
       "February                     195                    939           202   \n",
       "March                        196                    827           175   \n",
       "April                        198                    909           201   \n",
       "May                          178                    866           191   \n",
       "\n",
       "          Macbook Pro Laptop  ThinkPad Laptop  27in FHD Monitor  \\\n",
       "January                  162              149               249   \n",
       "February                 142              137               222   \n",
       "March                    140              137               250   \n",
       "April                    155              135               259   \n",
       "May                      174              122               251   \n",
       "\n",
       "          Bose SoundSport Headphones  Flatscreen TV  27in 4K Gaming Monitor  \\\n",
       "January                          438            152                     198   \n",
       "February                         428            173                     207   \n",
       "March                            427            141                     190   \n",
       "April                            428            153                     210   \n",
       "May                              466            169                     224   \n",
       "\n",
       "          LG Dryer  20in Monitor  LG Washing Machine  Vareebadd Phone  \n",
       "January         19           143                  15               70  \n",
       "February        27           149                  26               64  \n",
       "March           15           131                  22               64  \n",
       "April           24           142                  30               76  \n",
       "May             12           140                  23               51  "
      ]
     },
     "execution_count": 39,
     "metadata": {},
     "output_type": "execute_result"
    }
   ],
   "source": [
    "month_product_df.head()"
   ]
  },
  {
   "cell_type": "markdown",
   "id": "b61acd25",
   "metadata": {},
   "source": [
    "#### Step #5: Visualize the data"
   ]
  },
  {
   "cell_type": "code",
   "execution_count": 40,
   "id": "4de0f5f5",
   "metadata": {
    "scrolled": true
   },
   "outputs": [
    {
     "data": {
      "text/plain": [
       "<AxesSubplot:title={'center':'Count of sold items of each product every month'}>"
      ]
     },
     "execution_count": 40,
     "metadata": {},
     "output_type": "execute_result"
    },
    {
     "data": {
      "image/png": "[encoded data removed]",
      "text/plain": [
       "<Figure size 1368x720 with 2 Axes>"
      ]
     },
     "metadata": {},
     "output_type": "display_data"
    }
   ],
   "source": [
    "fig,ax = plt.subplots(figsize=(19,10))\n",
    "ax.set_title(\"Count of sold items of each product every month\",fontweight=\"bold\")\n",
    "sns.heatmap(data=month_product_df.transpose(),ax=ax,linewidths=1,annot=True)"
   ]
  },
  {
   "cell_type": "markdown",
   "id": "bfa35827",
   "metadata": {},
   "source": [
    "#### Results:\n",
    "1. **AAA Batteries (4-pack) and AA Batteries (4-pack)** were the highest sold products each month.\n",
    "2. **LG Dryer, LG Washing Machine and Vareebadd Phone** were the least sold products.\n"
   ]
  },
  {
   "cell_type": "markdown",
   "id": "2d020e59",
   "metadata": {},
   "source": [
    "### Q #3: Which products were frequently bought together?"
   ]
  },
  {
   "cell_type": "markdown",
   "id": "a7cb62b3",
   "metadata": {},
   "source": [
    "#### Step #1: Create a data frame for duplicated order IDs"
   ]
  },
  {
   "cell_type": "code",
   "execution_count": 41,
   "id": "2fd109fa",
   "metadata": {},
   "outputs": [],
   "source": [
    "# filter duplicated order IDs  \n",
    "order_filt =df[\"OrderId\"].duplicated(keep=False)\n",
    "\n",
    "#assign the data frame\n",
    "duplicated_orders_df = df[order_filt]"
   ]
  },
  {
   "cell_type": "markdown",
   "id": "2fde8e88",
   "metadata": {},
   "source": [
    "#### Step #2: Group data by ```\"OrderId\"``` column"
   ]
  },
  {
   "cell_type": "code",
   "execution_count": 42,
   "id": "572a5274",
   "metadata": {},
   "outputs": [],
   "source": [
    "orders_group = duplicated_orders_df.groupby(\"OrderId\",sort= False)"
   ]
  },
  {
   "cell_type": "markdown",
   "id": "75c14072",
   "metadata": {},
   "source": [
    "#### Step #3: Create a data frame for the count of sold pair of products"
   ]
  },
  {
   "cell_type": "code",
   "execution_count": 43,
   "id": "d54e4b02",
   "metadata": {},
   "outputs": [
    {
     "data": {
      "text/html": [
       "<div>\n",
       "<style scoped>\n",
       "    .dataframe tbody tr th:only-of-type {\n",
       "        vertical-align: middle;\n",
       "    }\n",
       "\n",
       "    .dataframe tbody tr th {\n",
       "        vertical-align: top;\n",
       "    }\n",
       "\n",
       "    .dataframe thead th {\n",
       "        text-align: right;\n",
       "    }\n",
       "</style>\n",
       "<table border=\"1\" class=\"dataframe\">\n",
       "  <thead>\n",
       "    <tr style=\"text-align: right;\">\n",
       "      <th></th>\n",
       "      <th>Count</th>\n",
       "    </tr>\n",
       "  </thead>\n",
       "  <tbody>\n",
       "  </tbody>\n",
       "</table>\n",
       "</div>"
      ],
      "text/plain": [
       "Empty DataFrame\n",
       "Columns: [Count]\n",
       "Index: []"
      ]
     },
     "execution_count": 43,
     "metadata": {},
     "output_type": "execute_result"
    }
   ],
   "source": [
    "products_pairs_count_df= pd.DataFrame(columns=[\"Count\"],dtype=\"int\")\n",
    "products_pairs_count_df"
   ]
  },
  {
   "cell_type": "markdown",
   "id": "4a53c264",
   "metadata": {},
   "source": [
    "#### Step #4: Create a data frame with products names as rows and columns "
   ]
  },
  {
   "cell_type": "code",
   "execution_count": 44,
   "id": "10fb8a30",
   "metadata": {
    "scrolled": true
   },
   "outputs": [
    {
     "data": {
      "text/html": [
       "<div>\n",
       "<style scoped>\n",
       "    .dataframe tbody tr th:only-of-type {\n",
       "        vertical-align: middle;\n",
       "    }\n",
       "\n",
       "    .dataframe tbody tr th {\n",
       "        vertical-align: top;\n",
       "    }\n",
       "\n",
       "    .dataframe thead th {\n",
       "        text-align: right;\n",
       "    }\n",
       "</style>\n",
       "<table border=\"1\" class=\"dataframe\">\n",
       "  <thead>\n",
       "    <tr style=\"text-align: right;\">\n",
       "      <th></th>\n",
       "      <th>Wired Headphones</th>\n",
       "      <th>USB-C Charging Cable</th>\n",
       "      <th>Apple Airpods Headphones</th>\n",
       "      <th>AAA Batteries (4-pack)</th>\n",
       "      <th>iPhone</th>\n",
       "      <th>Lightning Charging Cable</th>\n",
       "      <th>34in Ultrawide Monitor</th>\n",
       "      <th>AA Batteries (4-pack)</th>\n",
       "      <th>Google Phone</th>\n",
       "      <th>Macbook Pro Laptop</th>\n",
       "      <th>ThinkPad Laptop</th>\n",
       "      <th>27in FHD Monitor</th>\n",
       "      <th>Bose SoundSport Headphones</th>\n",
       "      <th>Flatscreen TV</th>\n",
       "      <th>27in 4K Gaming Monitor</th>\n",
       "      <th>LG Dryer</th>\n",
       "      <th>20in Monitor</th>\n",
       "      <th>LG Washing Machine</th>\n",
       "      <th>Vareebadd Phone</th>\n",
       "    </tr>\n",
       "  </thead>\n",
       "  <tbody>\n",
       "    <tr>\n",
       "      <th>Wired Headphones</th>\n",
       "      <td>0</td>\n",
       "      <td>0</td>\n",
       "      <td>0</td>\n",
       "      <td>0</td>\n",
       "      <td>0</td>\n",
       "      <td>0</td>\n",
       "      <td>0</td>\n",
       "      <td>0</td>\n",
       "      <td>0</td>\n",
       "      <td>0</td>\n",
       "      <td>0</td>\n",
       "      <td>0</td>\n",
       "      <td>0</td>\n",
       "      <td>0</td>\n",
       "      <td>0</td>\n",
       "      <td>0</td>\n",
       "      <td>0</td>\n",
       "      <td>0</td>\n",
       "      <td>0</td>\n",
       "    </tr>\n",
       "    <tr>\n",
       "      <th>USB-C Charging Cable</th>\n",
       "      <td>0</td>\n",
       "      <td>0</td>\n",
       "      <td>0</td>\n",
       "      <td>0</td>\n",
       "      <td>0</td>\n",
       "      <td>0</td>\n",
       "      <td>0</td>\n",
       "      <td>0</td>\n",
       "      <td>0</td>\n",
       "      <td>0</td>\n",
       "      <td>0</td>\n",
       "      <td>0</td>\n",
       "      <td>0</td>\n",
       "      <td>0</td>\n",
       "      <td>0</td>\n",
       "      <td>0</td>\n",
       "      <td>0</td>\n",
       "      <td>0</td>\n",
       "      <td>0</td>\n",
       "    </tr>\n",
       "    <tr>\n",
       "      <th>Apple Airpods Headphones</th>\n",
       "      <td>0</td>\n",
       "      <td>0</td>\n",
       "      <td>0</td>\n",
       "      <td>0</td>\n",
       "      <td>0</td>\n",
       "      <td>0</td>\n",
       "      <td>0</td>\n",
       "      <td>0</td>\n",
       "      <td>0</td>\n",
       "      <td>0</td>\n",
       "      <td>0</td>\n",
       "      <td>0</td>\n",
       "      <td>0</td>\n",
       "      <td>0</td>\n",
       "      <td>0</td>\n",
       "      <td>0</td>\n",
       "      <td>0</td>\n",
       "      <td>0</td>\n",
       "      <td>0</td>\n",
       "    </tr>\n",
       "    <tr>\n",
       "      <th>AAA Batteries (4-pack)</th>\n",
       "      <td>0</td>\n",
       "      <td>0</td>\n",
       "      <td>0</td>\n",
       "      <td>0</td>\n",
       "      <td>0</td>\n",
       "      <td>0</td>\n",
       "      <td>0</td>\n",
       "      <td>0</td>\n",
       "      <td>0</td>\n",
       "      <td>0</td>\n",
       "      <td>0</td>\n",
       "      <td>0</td>\n",
       "      <td>0</td>\n",
       "      <td>0</td>\n",
       "      <td>0</td>\n",
       "      <td>0</td>\n",
       "      <td>0</td>\n",
       "      <td>0</td>\n",
       "      <td>0</td>\n",
       "    </tr>\n",
       "    <tr>\n",
       "      <th>iPhone</th>\n",
       "      <td>0</td>\n",
       "      <td>0</td>\n",
       "      <td>0</td>\n",
       "      <td>0</td>\n",
       "      <td>0</td>\n",
       "      <td>0</td>\n",
       "      <td>0</td>\n",
       "      <td>0</td>\n",
       "      <td>0</td>\n",
       "      <td>0</td>\n",
       "      <td>0</td>\n",
       "      <td>0</td>\n",
       "      <td>0</td>\n",
       "      <td>0</td>\n",
       "      <td>0</td>\n",
       "      <td>0</td>\n",
       "      <td>0</td>\n",
       "      <td>0</td>\n",
       "      <td>0</td>\n",
       "    </tr>\n",
       "  </tbody>\n",
       "</table>\n",
       "</div>"
      ],
      "text/plain": [
       "                          Wired Headphones  USB-C Charging Cable  \\\n",
       "Wired Headphones                         0                     0   \n",
       "USB-C Charging Cable                     0                     0   \n",
       "Apple Airpods Headphones                 0                     0   \n",
       "AAA Batteries (4-pack)                   0                     0   \n",
       "iPhone                                   0                     0   \n",
       "\n",
       "                          Apple Airpods Headphones  AAA Batteries (4-pack)  \\\n",
       "Wired Headphones                                 0                       0   \n",
       "USB-C Charging Cable                             0                       0   \n",
       "Apple Airpods Headphones                         0                       0   \n",
       "AAA Batteries (4-pack)                           0                       0   \n",
       "iPhone                                           0                       0   \n",
       "\n",
       "                          iPhone  Lightning Charging Cable  \\\n",
       "Wired Headphones               0                         0   \n",
       "USB-C Charging Cable           0                         0   \n",
       "Apple Airpods Headphones       0                         0   \n",
       "AAA Batteries (4-pack)         0                         0   \n",
       "iPhone                         0                         0   \n",
       "\n",
       "                          34in Ultrawide Monitor  AA Batteries (4-pack)  \\\n",
       "Wired Headphones                               0                      0   \n",
       "USB-C Charging Cable                           0                      0   \n",
       "Apple Airpods Headphones                       0                      0   \n",
       "AAA Batteries (4-pack)                         0                      0   \n",
       "iPhone                                         0                      0   \n",
       "\n",
       "                          Google Phone  Macbook Pro Laptop  ThinkPad Laptop  \\\n",
       "Wired Headphones                     0                   0                0   \n",
       "USB-C Charging Cable                 0                   0                0   \n",
       "Apple Airpods Headphones             0                   0                0   \n",
       "AAA Batteries (4-pack)               0                   0                0   \n",
       "iPhone                               0                   0                0   \n",
       "\n",
       "                          27in FHD Monitor  Bose SoundSport Headphones  \\\n",
       "Wired Headphones                         0                           0   \n",
       "USB-C Charging Cable                     0                           0   \n",
       "Apple Airpods Headphones                 0                           0   \n",
       "AAA Batteries (4-pack)                   0                           0   \n",
       "iPhone                                   0                           0   \n",
       "\n",
       "                          Flatscreen TV  27in 4K Gaming Monitor  LG Dryer  \\\n",
       "Wired Headphones                      0                       0         0   \n",
       "USB-C Charging Cable                  0                       0         0   \n",
       "Apple Airpods Headphones              0                       0         0   \n",
       "AAA Batteries (4-pack)                0                       0         0   \n",
       "iPhone                                0                       0         0   \n",
       "\n",
       "                          20in Monitor  LG Washing Machine  Vareebadd Phone  \n",
       "Wired Headphones                     0                   0                0  \n",
       "USB-C Charging Cable                 0                   0                0  \n",
       "Apple Airpods Headphones             0                   0                0  \n",
       "AAA Batteries (4-pack)               0                   0                0  \n",
       "iPhone                               0                   0                0  "
      ]
     },
     "execution_count": 44,
     "metadata": {},
     "output_type": "execute_result"
    }
   ],
   "source": [
    "products_df= pd.DataFrame(index=df[\"Product\"].unique(),columns=df[\"Product\"].unique())\n",
    "products_df=products_df.fillna(0) # fill all cells with zero\n",
    "products_df.head()"
   ]
  },
  {
   "cell_type": "markdown",
   "id": "e3b801f0",
   "metadata": {},
   "source": [
    "#### Step #5: Assign the value of each cell in the last new data frames  "
   ]
  },
  {
   "cell_type": "code",
   "execution_count": 45,
   "id": "509d5df4",
   "metadata": {},
   "outputs": [],
   "source": [
    "for orderid in duplicated_orders_df[\"OrderId\"]: #get single order ID\n",
    "    products = orders_group.get_group(orderid)[\"Product\"] #list of all the sold products in the order\n",
    "    for product in products : #get each sold product\n",
    "        for x in range(len(products)): \n",
    "            if product==products[x]: #if the column label is the same as the row label \n",
    "                products_df.loc[product,products[x]] = 0 # assign the cell value to zero\n",
    "            else:\n",
    "                products_df.loc[product,products[x]]+=1 \n",
    "                products_pairs_count_df.loc[f\"({product},{products[x]})\"] = products_df.loc[product,products[x]]"
   ]
  },
  {
   "cell_type": "markdown",
   "id": "cd0d8ba3",
   "metadata": {},
   "source": [
    "##### Get a look at the data frames"
   ]
  },
  {
   "cell_type": "code",
   "execution_count": 46,
   "id": "5d937207",
   "metadata": {
    "scrolled": true
   },
   "outputs": [
    {
     "data": {
      "text/html": [
       "<div>\n",
       "<style scoped>\n",
       "    .dataframe tbody tr th:only-of-type {\n",
       "        vertical-align: middle;\n",
       "    }\n",
       "\n",
       "    .dataframe tbody tr th {\n",
       "        vertical-align: top;\n",
       "    }\n",
       "\n",
       "    .dataframe thead th {\n",
       "        text-align: right;\n",
       "    }\n",
       "</style>\n",
       "<table border=\"1\" class=\"dataframe\">\n",
       "  <thead>\n",
       "    <tr style=\"text-align: right;\">\n",
       "      <th></th>\n",
       "      <th>Wired Headphones</th>\n",
       "      <th>USB-C Charging Cable</th>\n",
       "      <th>Apple Airpods Headphones</th>\n",
       "      <th>AAA Batteries (4-pack)</th>\n",
       "      <th>iPhone</th>\n",
       "      <th>Lightning Charging Cable</th>\n",
       "      <th>34in Ultrawide Monitor</th>\n",
       "      <th>AA Batteries (4-pack)</th>\n",
       "      <th>Google Phone</th>\n",
       "      <th>Macbook Pro Laptop</th>\n",
       "      <th>ThinkPad Laptop</th>\n",
       "      <th>27in FHD Monitor</th>\n",
       "      <th>Bose SoundSport Headphones</th>\n",
       "      <th>Flatscreen TV</th>\n",
       "      <th>27in 4K Gaming Monitor</th>\n",
       "      <th>LG Dryer</th>\n",
       "      <th>20in Monitor</th>\n",
       "      <th>LG Washing Machine</th>\n",
       "      <th>Vareebadd Phone</th>\n",
       "    </tr>\n",
       "  </thead>\n",
       "  <tbody>\n",
       "    <tr>\n",
       "      <th>Wired Headphones</th>\n",
       "      <td>0</td>\n",
       "      <td>211</td>\n",
       "      <td>99</td>\n",
       "      <td>68</td>\n",
       "      <td>403</td>\n",
       "      <td>123</td>\n",
       "      <td>6</td>\n",
       "      <td>71</td>\n",
       "      <td>354</td>\n",
       "      <td>12</td>\n",
       "      <td>10</td>\n",
       "      <td>16</td>\n",
       "      <td>57</td>\n",
       "      <td>12</td>\n",
       "      <td>20</td>\n",
       "      <td>2</td>\n",
       "      <td>10</td>\n",
       "      <td>2</td>\n",
       "      <td>130</td>\n",
       "    </tr>\n",
       "    <tr>\n",
       "      <th>USB-C Charging Cable</th>\n",
       "      <td>211</td>\n",
       "      <td>0</td>\n",
       "      <td>35</td>\n",
       "      <td>76</td>\n",
       "      <td>21</td>\n",
       "      <td>77</td>\n",
       "      <td>18</td>\n",
       "      <td>59</td>\n",
       "      <td>919</td>\n",
       "      <td>14</td>\n",
       "      <td>26</td>\n",
       "      <td>40</td>\n",
       "      <td>109</td>\n",
       "      <td>20</td>\n",
       "      <td>24</td>\n",
       "      <td>2</td>\n",
       "      <td>28</td>\n",
       "      <td>0</td>\n",
       "      <td>321</td>\n",
       "    </tr>\n",
       "    <tr>\n",
       "      <th>Apple Airpods Headphones</th>\n",
       "      <td>99</td>\n",
       "      <td>35</td>\n",
       "      <td>0</td>\n",
       "      <td>61</td>\n",
       "      <td>373</td>\n",
       "      <td>123</td>\n",
       "      <td>6</td>\n",
       "      <td>50</td>\n",
       "      <td>22</td>\n",
       "      <td>12</td>\n",
       "      <td>10</td>\n",
       "      <td>30</td>\n",
       "      <td>31</td>\n",
       "      <td>12</td>\n",
       "      <td>6</td>\n",
       "      <td>2</td>\n",
       "      <td>10</td>\n",
       "      <td>0</td>\n",
       "      <td>20</td>\n",
       "    </tr>\n",
       "    <tr>\n",
       "      <th>AAA Batteries (4-pack)</th>\n",
       "      <td>68</td>\n",
       "      <td>76</td>\n",
       "      <td>61</td>\n",
       "      <td>0</td>\n",
       "      <td>27</td>\n",
       "      <td>46</td>\n",
       "      <td>14</td>\n",
       "      <td>64</td>\n",
       "      <td>20</td>\n",
       "      <td>12</td>\n",
       "      <td>24</td>\n",
       "      <td>32</td>\n",
       "      <td>46</td>\n",
       "      <td>14</td>\n",
       "      <td>22</td>\n",
       "      <td>4</td>\n",
       "      <td>8</td>\n",
       "      <td>0</td>\n",
       "      <td>6</td>\n",
       "    </tr>\n",
       "    <tr>\n",
       "      <th>iPhone</th>\n",
       "      <td>403</td>\n",
       "      <td>21</td>\n",
       "      <td>373</td>\n",
       "      <td>27</td>\n",
       "      <td>0</td>\n",
       "      <td>865</td>\n",
       "      <td>6</td>\n",
       "      <td>27</td>\n",
       "      <td>16</td>\n",
       "      <td>4</td>\n",
       "      <td>4</td>\n",
       "      <td>4</td>\n",
       "      <td>10</td>\n",
       "      <td>13</td>\n",
       "      <td>2</td>\n",
       "      <td>0</td>\n",
       "      <td>2</td>\n",
       "      <td>2</td>\n",
       "      <td>15</td>\n",
       "    </tr>\n",
       "  </tbody>\n",
       "</table>\n",
       "</div>"
      ],
      "text/plain": [
       "                          Wired Headphones  USB-C Charging Cable  \\\n",
       "Wired Headphones                         0                   211   \n",
       "USB-C Charging Cable                   211                     0   \n",
       "Apple Airpods Headphones                99                    35   \n",
       "AAA Batteries (4-pack)                  68                    76   \n",
       "iPhone                                 403                    21   \n",
       "\n",
       "                          Apple Airpods Headphones  AAA Batteries (4-pack)  \\\n",
       "Wired Headphones                                99                      68   \n",
       "USB-C Charging Cable                            35                      76   \n",
       "Apple Airpods Headphones                         0                      61   \n",
       "AAA Batteries (4-pack)                          61                       0   \n",
       "iPhone                                         373                      27   \n",
       "\n",
       "                          iPhone  Lightning Charging Cable  \\\n",
       "Wired Headphones             403                       123   \n",
       "USB-C Charging Cable          21                        77   \n",
       "Apple Airpods Headphones     373                       123   \n",
       "AAA Batteries (4-pack)        27                        46   \n",
       "iPhone                         0                       865   \n",
       "\n",
       "                          34in Ultrawide Monitor  AA Batteries (4-pack)  \\\n",
       "Wired Headphones                               6                     71   \n",
       "USB-C Charging Cable                          18                     59   \n",
       "Apple Airpods Headphones                       6                     50   \n",
       "AAA Batteries (4-pack)                        14                     64   \n",
       "iPhone                                         6                     27   \n",
       "\n",
       "                          Google Phone  Macbook Pro Laptop  ThinkPad Laptop  \\\n",
       "Wired Headphones                   354                  12               10   \n",
       "USB-C Charging Cable               919                  14               26   \n",
       "Apple Airpods Headphones            22                  12               10   \n",
       "AAA Batteries (4-pack)              20                  12               24   \n",
       "iPhone                              16                   4                4   \n",
       "\n",
       "                          27in FHD Monitor  Bose SoundSport Headphones  \\\n",
       "Wired Headphones                        16                          57   \n",
       "USB-C Charging Cable                    40                         109   \n",
       "Apple Airpods Headphones                30                          31   \n",
       "AAA Batteries (4-pack)                  32                          46   \n",
       "iPhone                                   4                          10   \n",
       "\n",
       "                          Flatscreen TV  27in 4K Gaming Monitor  LG Dryer  \\\n",
       "Wired Headphones                     12                      20         2   \n",
       "USB-C Charging Cable                 20                      24         2   \n",
       "Apple Airpods Headphones             12                       6         2   \n",
       "AAA Batteries (4-pack)               14                      22         4   \n",
       "iPhone                               13                       2         0   \n",
       "\n",
       "                          20in Monitor  LG Washing Machine  Vareebadd Phone  \n",
       "Wired Headphones                    10                   2              130  \n",
       "USB-C Charging Cable                28                   0              321  \n",
       "Apple Airpods Headphones            10                   0               20  \n",
       "AAA Batteries (4-pack)               8                   0                6  \n",
       "iPhone                               2                   2               15  "
      ]
     },
     "execution_count": 46,
     "metadata": {},
     "output_type": "execute_result"
    }
   ],
   "source": [
    "products_df.head()"
   ]
  },
  {
   "cell_type": "code",
   "execution_count": 47,
   "id": "5c9eb0ea",
   "metadata": {},
   "outputs": [
    {
     "data": {
      "text/html": [
       "<div>\n",
       "<style scoped>\n",
       "    .dataframe tbody tr th:only-of-type {\n",
       "        vertical-align: middle;\n",
       "    }\n",
       "\n",
       "    .dataframe tbody tr th {\n",
       "        vertical-align: top;\n",
       "    }\n",
       "\n",
       "    .dataframe thead th {\n",
       "        text-align: right;\n",
       "    }\n",
       "</style>\n",
       "<table border=\"1\" class=\"dataframe\">\n",
       "  <thead>\n",
       "    <tr style=\"text-align: right;\">\n",
       "      <th></th>\n",
       "      <th>Count</th>\n",
       "    </tr>\n",
       "  </thead>\n",
       "  <tbody>\n",
       "    <tr>\n",
       "      <th>(Wired Headphones,iPhone)</th>\n",
       "      <td>403</td>\n",
       "    </tr>\n",
       "    <tr>\n",
       "      <th>(iPhone,Wired Headphones)</th>\n",
       "      <td>403</td>\n",
       "    </tr>\n",
       "    <tr>\n",
       "      <th>(Google Phone,USB-C Charging Cable)</th>\n",
       "      <td>919</td>\n",
       "    </tr>\n",
       "    <tr>\n",
       "      <th>(USB-C Charging Cable,Google Phone)</th>\n",
       "      <td>919</td>\n",
       "    </tr>\n",
       "    <tr>\n",
       "      <th>(iPhone,Lightning Charging Cable)</th>\n",
       "      <td>865</td>\n",
       "    </tr>\n",
       "  </tbody>\n",
       "</table>\n",
       "</div>"
      ],
      "text/plain": [
       "                                     Count\n",
       "(Wired Headphones,iPhone)              403\n",
       "(iPhone,Wired Headphones)              403\n",
       "(Google Phone,USB-C Charging Cable)    919\n",
       "(USB-C Charging Cable,Google Phone)    919\n",
       "(iPhone,Lightning Charging Cable)      865"
      ]
     },
     "execution_count": 47,
     "metadata": {},
     "output_type": "execute_result"
    }
   ],
   "source": [
    "products_pairs_count_df.head()"
   ]
  },
  {
   "cell_type": "markdown",
   "id": "c236f467",
   "metadata": {},
   "source": [
    "#### Step #6: Visualize the relation between all the products"
   ]
  },
  {
   "cell_type": "code",
   "execution_count": 48,
   "id": "f5b0dafd",
   "metadata": {},
   "outputs": [
    {
     "data": {
      "text/plain": [
       "<AxesSubplot:title={'center':'Count of Bought together products'}>"
      ]
     },
     "execution_count": 48,
     "metadata": {},
     "output_type": "execute_result"
    },
    {
     "data": {
      "image/png": "[encoded data removed]",
      "text/plain": [
       "<Figure size 1368x864 with 2 Axes>"
      ]
     },
     "metadata": {},
     "output_type": "display_data"
    }
   ],
   "source": [
    "fig,ax = plt.subplots(figsize=(19,12))\n",
    "fig.subplots_adjust(bottom = 0.2)\n",
    "ax.set_title(\"Count of Bought together products\", fontweight=\"bold\")\n",
    "sns.heatmap(data = products_df,linewidths=1,annot=True,ax=ax)"
   ]
  },
  {
   "cell_type": "markdown",
   "id": "16451d9d",
   "metadata": {},
   "source": [
    "#### Step #7: Visualize the first 10 frequently bought together products"
   ]
  },
  {
   "cell_type": "markdown",
   "id": "3c3be027",
   "metadata": {},
   "source": [
    "##### All the steps below will be applied on ```products_pairs_count_df``` data frame"
   ]
  },
  {
   "cell_type": "markdown",
   "id": "1963e179",
   "metadata": {},
   "source": [
    "###### Reset the index"
   ]
  },
  {
   "cell_type": "code",
   "execution_count": 49,
   "id": "fce73748",
   "metadata": {},
   "outputs": [
    {
     "data": {
      "text/html": [
       "<div>\n",
       "<style scoped>\n",
       "    .dataframe tbody tr th:only-of-type {\n",
       "        vertical-align: middle;\n",
       "    }\n",
       "\n",
       "    .dataframe tbody tr th {\n",
       "        vertical-align: top;\n",
       "    }\n",
       "\n",
       "    .dataframe thead th {\n",
       "        text-align: right;\n",
       "    }\n",
       "</style>\n",
       "<table border=\"1\" class=\"dataframe\">\n",
       "  <thead>\n",
       "    <tr style=\"text-align: right;\">\n",
       "      <th></th>\n",
       "      <th>index</th>\n",
       "      <th>Count</th>\n",
       "    </tr>\n",
       "  </thead>\n",
       "  <tbody>\n",
       "    <tr>\n",
       "      <th>0</th>\n",
       "      <td>(Wired Headphones,iPhone)</td>\n",
       "      <td>403</td>\n",
       "    </tr>\n",
       "    <tr>\n",
       "      <th>1</th>\n",
       "      <td>(iPhone,Wired Headphones)</td>\n",
       "      <td>403</td>\n",
       "    </tr>\n",
       "    <tr>\n",
       "      <th>2</th>\n",
       "      <td>(Google Phone,USB-C Charging Cable)</td>\n",
       "      <td>919</td>\n",
       "    </tr>\n",
       "    <tr>\n",
       "      <th>3</th>\n",
       "      <td>(USB-C Charging Cable,Google Phone)</td>\n",
       "      <td>919</td>\n",
       "    </tr>\n",
       "    <tr>\n",
       "      <th>4</th>\n",
       "      <td>(iPhone,Lightning Charging Cable)</td>\n",
       "      <td>865</td>\n",
       "    </tr>\n",
       "  </tbody>\n",
       "</table>\n",
       "</div>"
      ],
      "text/plain": [
       "                                 index  Count\n",
       "0            (Wired Headphones,iPhone)    403\n",
       "1            (iPhone,Wired Headphones)    403\n",
       "2  (Google Phone,USB-C Charging Cable)    919\n",
       "3  (USB-C Charging Cable,Google Phone)    919\n",
       "4    (iPhone,Lightning Charging Cable)    865"
      ]
     },
     "execution_count": 49,
     "metadata": {},
     "output_type": "execute_result"
    }
   ],
   "source": [
    "products_pairs_count_df.reset_index(inplace=True)\n",
    "products_pairs_count_df.head()"
   ]
  },
  {
   "cell_type": "markdown",
   "id": "df67db63",
   "metadata": {},
   "source": [
    "###### Each pair of products is repeated twice in the data frame, so let's delete the odd index values"
   ]
  },
  {
   "cell_type": "code",
   "execution_count": 50,
   "id": "08fd004f",
   "metadata": {
    "scrolled": true
   },
   "outputs": [
    {
     "data": {
      "text/html": [
       "<div>\n",
       "<style scoped>\n",
       "    .dataframe tbody tr th:only-of-type {\n",
       "        vertical-align: middle;\n",
       "    }\n",
       "\n",
       "    .dataframe tbody tr th {\n",
       "        vertical-align: top;\n",
       "    }\n",
       "\n",
       "    .dataframe thead th {\n",
       "        text-align: right;\n",
       "    }\n",
       "</style>\n",
       "<table border=\"1\" class=\"dataframe\">\n",
       "  <thead>\n",
       "    <tr style=\"text-align: right;\">\n",
       "      <th></th>\n",
       "      <th>index</th>\n",
       "      <th>Count</th>\n",
       "    </tr>\n",
       "  </thead>\n",
       "  <tbody>\n",
       "    <tr>\n",
       "      <th>0</th>\n",
       "      <td>(Wired Headphones,iPhone)</td>\n",
       "      <td>403</td>\n",
       "    </tr>\n",
       "    <tr>\n",
       "      <th>2</th>\n",
       "      <td>(Google Phone,USB-C Charging Cable)</td>\n",
       "      <td>919</td>\n",
       "    </tr>\n",
       "    <tr>\n",
       "      <th>4</th>\n",
       "      <td>(iPhone,Lightning Charging Cable)</td>\n",
       "      <td>865</td>\n",
       "    </tr>\n",
       "    <tr>\n",
       "      <th>6</th>\n",
       "      <td>(Google Phone,Wired Headphones)</td>\n",
       "      <td>354</td>\n",
       "    </tr>\n",
       "    <tr>\n",
       "      <th>8</th>\n",
       "      <td>(Bose SoundSport Headphones,20in Monitor)</td>\n",
       "      <td>14</td>\n",
       "    </tr>\n",
       "  </tbody>\n",
       "</table>\n",
       "</div>"
      ],
      "text/plain": [
       "                                       index  Count\n",
       "0                  (Wired Headphones,iPhone)    403\n",
       "2        (Google Phone,USB-C Charging Cable)    919\n",
       "4          (iPhone,Lightning Charging Cable)    865\n",
       "6            (Google Phone,Wired Headphones)    354\n",
       "8  (Bose SoundSport Headphones,20in Monitor)     14"
      ]
     },
     "execution_count": 50,
     "metadata": {},
     "output_type": "execute_result"
    }
   ],
   "source": [
    "even_index_values = [item for item in products_pairs_count_df.index if item%2 ==0] # list of even index values\n",
    "products_pairs_count_df = products_pairs_count_df.filter(items = even_index_values,axis=0)# filter rows with even index value\n",
    "products_pairs_count_df.head()"
   ]
  },
  {
   "cell_type": "markdown",
   "id": "4006616b",
   "metadata": {},
   "source": [
    "###### Set the index to the products column again"
   ]
  },
  {
   "cell_type": "code",
   "execution_count": 51,
   "id": "e1cef40d",
   "metadata": {},
   "outputs": [],
   "source": [
    "products_pairs_count_df.set_index(\"index\",inplace=True)"
   ]
  },
  {
   "cell_type": "markdown",
   "id": "1e23701a",
   "metadata": {},
   "source": [
    "###### Sort the values descendingly"
   ]
  },
  {
   "cell_type": "code",
   "execution_count": 52,
   "id": "fca45c1e",
   "metadata": {},
   "outputs": [],
   "source": [
    "products_pairs_count_df.sort_values(\"Count\",ascending=False,inplace = True)"
   ]
  },
  {
   "cell_type": "markdown",
   "id": "e5a761dd",
   "metadata": {},
   "source": [
    "###### Visualize the data"
   ]
  },
  {
   "cell_type": "code",
   "execution_count": 56,
   "id": "20543aab",
   "metadata": {},
   "outputs": [
    {
     "data": {
      "image/png": "[encoded data removed]",
      "text/plain": [
       "<Figure size 720x432 with 1 Axes>"
      ]
     },
     "metadata": {},
     "output_type": "display_data"
    }
   ],
   "source": [
    "highest_products_pairs = products_pairs_count_df.head(10).index #first highest 10 frequently bought together products\n",
    "highest_counts = products_pairs_count_df[\"Count\"].head(10) #the count of the products pairs\n",
    "\n",
    "fig,ax = plt.subplots(figsize=(10, 6))\n",
    "sns.barplot( x=highest_counts,y=highest_products_pairs,palette=\"Blues_d\",ax=ax)\n",
    "ax.set_title(\"Highest 10 frequently bought together products\",fontweight=\"bold\")\n",
    "ax.set_ylabel(\"products\")\n",
    "fig.subplots_adjust(left=0.37)"
   ]
  },
  {
   "cell_type": "markdown",
   "id": "59742d8a",
   "metadata": {},
   "source": [
    "### Q #4: Which city sold more products?"
   ]
  },
  {
   "cell_type": "markdown",
   "id": "2c1a05c9",
   "metadata": {},
   "source": [
    "#### Step #1: Group the data by ```\"City\"``` column"
   ]
  },
  {
   "cell_type": "code",
   "execution_count": 60,
   "id": "fc4569d8",
   "metadata": {},
   "outputs": [],
   "source": [
    "city_group=df.groupby(\"City\",sort=False)"
   ]
  },
  {
   "cell_type": "markdown",
   "id": "4a819e69",
   "metadata": {},
   "source": [
    "#### Step #2: Get the sum of the sold products in each city"
   ]
  },
  {
   "cell_type": "code",
   "execution_count": 87,
   "id": "88ed655f",
   "metadata": {},
   "outputs": [],
   "source": [
    "city_sum =city_group[\"Quantity\"].sum()"
   ]
  },
  {
   "cell_type": "markdown",
   "id": "cbd061f8",
   "metadata": {},
   "source": [
    "#### Step #3: Arrange the data frame descendingly"
   ]
  },
  {
   "cell_type": "code",
   "execution_count": 89,
   "id": "296410d0",
   "metadata": {},
   "outputs": [],
   "source": [
    "city_sum = city_sum.sort_values(ascending=False)"
   ]
  },
  {
   "cell_type": "markdown",
   "id": "21d7cf4a",
   "metadata": {},
   "source": [
    "#### Step #4: Visualize the data"
   ]
  },
  {
   "cell_type": "code",
   "execution_count": 101,
   "id": "e468e3a6",
   "metadata": {},
   "outputs": [
    {
     "data": {
      "text/plain": [
       "Text(0.5, 1.0, 'Quantity of sold products in each city')"
      ]
     },
     "execution_count": 101,
     "metadata": {},
     "output_type": "execute_result"
    },
    {
     "data": {
      "image/png": "[encoded data removed]",
      "text/plain": [
       "<Figure size 720x432 with 1 Axes>"
      ]
     },
     "metadata": {},
     "output_type": "display_data"
    }
   ],
   "source": [
    "fig,ax = plt.subplots(figsize=(10, 6))\n",
    "sns.barplot(x=city_sum,y=city_sum.index,palette=\"Blues_d\",ax=ax)\n",
    "ax.set_title(\"Quantity of sold products in each city\",fontweight=\"bold\")"
   ]
  },
  {
   "cell_type": "markdown",
   "id": "53d29665",
   "metadata": {},
   "source": [
    "#### Results:\n",
    "1. **San Francisco, CA and Los Angeles, CA** sold the most products.\n",
    "2. **Seattle, WA, Dallas, TX and Atlanta, GA** sold almost the same quantity of products.\n",
    "3. **Austin, TX and Portland, OR** sold almost the same quantity of products."
   ]
  },
  {
   "cell_type": "code",
   "execution_count": null,
   "id": "53104f1d",
   "metadata": {},
   "outputs": [],
   "source": []
  }
 ],
 "metadata": {
  "kernelspec": {
   "display_name": "Python 3 (ipykernel)",
   "language": "python",
   "name": "python3"
  },
  "language_info": {
   "codemirror_mode": {
    "name": "ipython",
    "version": 3
   },
   "file_extension": ".py",
   "mimetype": "text/x-python",
   "name": "python",
   "nbconvert_exporter": "python",
   "pygments_lexer": "ipython3",
   "version": "3.9.9"
  }
 },
 "nbformat": 4,
 "nbformat_minor": 5
}
