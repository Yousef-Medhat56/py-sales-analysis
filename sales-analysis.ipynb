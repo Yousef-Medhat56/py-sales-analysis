{
 "cells": [
  {
   "cell_type": "code",
   "execution_count": 19,
   "id": "7ff24c09",
   "metadata": {},
   "outputs": [],
   "source": [
    "import pandas as pd\n",
    "import matplotlib.pyplot as plt\n",
    "%matplotlib notebook\n",
    "import seaborn as sns"
   ]
  },
  {
   "cell_type": "markdown",
   "id": "8c969cf5",
   "metadata": {},
   "source": [
    "## Read data"
   ]
  },
  {
   "cell_type": "code",
   "execution_count": 20,
   "id": "f679373c",
   "metadata": {},
   "outputs": [],
   "source": [
    "df = pd.read_csv(\"./output/all-data.csv\")"
   ]
  },
  {
   "cell_type": "markdown",
   "id": "966894a2",
   "metadata": {},
   "source": [
    "## Data Cleaning"
   ]
  },
  {
   "cell_type": "markdown",
   "id": "e897f375",
   "metadata": {},
   "source": [
    "#### Get concise summary of the dataframe "
   ]
  },
  {
   "cell_type": "code",
   "execution_count": 21,
   "id": "8340ed9b",
   "metadata": {},
   "outputs": [
    {
     "name": "stdout",
     "output_type": "stream",
     "text": [
      "<class 'pandas.core.frame.DataFrame'>\n",
      "RangeIndex: 186850 entries, 0 to 186849\n",
      "Data columns (total 6 columns):\n",
      " #   Column            Non-Null Count   Dtype \n",
      "---  ------            --------------   ----- \n",
      " 0   Order ID          186305 non-null  object\n",
      " 1   Product           186305 non-null  object\n",
      " 2   Quantity Ordered  186305 non-null  object\n",
      " 3   Price Each        186305 non-null  object\n",
      " 4   Order Date        186305 non-null  object\n",
      " 5   Purchase Address  186305 non-null  object\n",
      "dtypes: object(6)\n",
      "memory usage: 8.6+ MB\n"
     ]
    }
   ],
   "source": [
    "df.info()"
   ]
  },
  {
   "cell_type": "markdown",
   "id": "a305bd72",
   "metadata": {},
   "source": [
    "### First: Column labels"
   ]
  },
  {
   "cell_type": "code",
   "execution_count": 22,
   "id": "f601bd51",
   "metadata": {},
   "outputs": [
    {
     "data": {
      "text/plain": [
       "Index(['Order ID', 'Product', 'Quantity Ordered', 'Price Each', 'Order Date',\n",
       "       'Purchase Address'],\n",
       "      dtype='object')"
      ]
     },
     "execution_count": 22,
     "metadata": {},
     "output_type": "execute_result"
    }
   ],
   "source": [
    "df.columns"
   ]
  },
  {
   "cell_type": "markdown",
   "id": "ebfdf2fc",
   "metadata": {},
   "source": [
    "##### We notice many problems with column labels:\n",
    "1. They are long.\n",
    "2. There are spaces in each label."
   ]
  },
  {
   "cell_type": "markdown",
   "id": "abf776f8",
   "metadata": {},
   "source": [
    "#### Rename"
   ]
  },
  {
   "cell_type": "code",
   "execution_count": 23,
   "id": "bdb1ec6f",
   "metadata": {},
   "outputs": [],
   "source": [
    "df.rename(columns={\"Quantity Ordered\":\"Quantity\",\n",
    "                   \"Price Each\":\"unit price\",\"Order Date\":\"Date\",\n",
    "                   \"Purchase Address\":\"Address\"},inplace=True)"
   ]
  },
  {
   "cell_type": "markdown",
   "id": "02c386c4",
   "metadata": {},
   "source": [
    "#### Capitalize"
   ]
  },
  {
   "cell_type": "code",
   "execution_count": 24,
   "id": "2953bfb0",
   "metadata": {},
   "outputs": [],
   "source": [
    "df.rename(str.title, axis='columns',inplace=True)"
   ]
  },
  {
   "cell_type": "markdown",
   "id": "81ec1556",
   "metadata": {},
   "source": [
    "#### Remove spaces "
   ]
  },
  {
   "cell_type": "code",
   "execution_count": 25,
   "id": "70a9473f",
   "metadata": {},
   "outputs": [],
   "source": [
    "df.columns=df.columns.str.replace(\" \",\"\")"
   ]
  },
  {
   "cell_type": "markdown",
   "id": "c8a7b7d9",
   "metadata": {},
   "source": [
    "##### Let's look at them now"
   ]
  },
  {
   "cell_type": "code",
   "execution_count": 26,
   "id": "741e1907",
   "metadata": {},
   "outputs": [
    {
     "data": {
      "text/plain": [
       "Index(['OrderId', 'Product', 'Quantity', 'UnitPrice', 'Date', 'Address'], dtype='object')"
      ]
     },
     "execution_count": 26,
     "metadata": {},
     "output_type": "execute_result"
    }
   ],
   "source": [
    "df.columns"
   ]
  },
  {
   "cell_type": "code",
   "execution_count": null,
   "id": "be8d6fcc",
   "metadata": {},
   "outputs": [],
   "source": []
  }
 ],
 "metadata": {
  "kernelspec": {
   "display_name": "Python 3 (ipykernel)",
   "language": "python",
   "name": "python3"
  },
  "language_info": {
   "codemirror_mode": {
    "name": "ipython",
    "version": 3
   },
   "file_extension": ".py",
   "mimetype": "text/x-python",
   "name": "python",
   "nbconvert_exporter": "python",
   "pygments_lexer": "ipython3",
   "version": "3.9.9"
  }
 },
 "nbformat": 4,
 "nbformat_minor": 5
}
