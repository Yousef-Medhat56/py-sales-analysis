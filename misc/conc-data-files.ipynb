{
 "cells": [
  {
   "cell_type": "code",
   "execution_count": 1,
   "id": "4e615f64",
   "metadata": {},
   "outputs": [],
   "source": [
    "import glob\n",
    "import pandas as pd"
   ]
  },
  {
   "cell_type": "code",
   "execution_count": 2,
   "id": "2b06594f",
   "metadata": {
    "scrolled": true
   },
   "outputs": [
    {
     "data": {
      "text/plain": [
       "['../sales-data\\\\Sales_April_2019.csv',\n",
       " '../sales-data\\\\Sales_August_2019.csv',\n",
       " '../sales-data\\\\Sales_December_2019.csv',\n",
       " '../sales-data\\\\Sales_February_2019.csv',\n",
       " '../sales-data\\\\Sales_January_2019.csv',\n",
       " '../sales-data\\\\Sales_July_2019.csv',\n",
       " '../sales-data\\\\Sales_June_2019.csv',\n",
       " '../sales-data\\\\Sales_March_2019.csv',\n",
       " '../sales-data\\\\Sales_May_2019.csv',\n",
       " '../sales-data\\\\Sales_November_2019.csv',\n",
       " '../sales-data\\\\Sales_October_2019.csv',\n",
       " '../sales-data\\\\Sales_September_2019.csv']"
      ]
     },
     "execution_count": 2,
     "metadata": {},
     "output_type": "execute_result"
    }
   ],
   "source": [
    "paths = glob.glob(\"../sales-data/*.csv\") #csv files paths\n",
    "paths"
   ]
  },
  {
   "cell_type": "code",
   "execution_count": 3,
   "id": "d178c6d0",
   "metadata": {},
   "outputs": [],
   "source": [
    "dfs=[] #dataframes list\n",
    "#read each csv file then append it to the dataframes list\n",
    "for path in paths:\n",
    "    df = pd.read_csv(path)\n",
    "    dfs.append(df)"
   ]
  },
  {
   "cell_type": "code",
   "execution_count": 5,
   "id": "a987068a",
   "metadata": {},
   "outputs": [],
   "source": [
    "#concat all the dataframes\n",
    "df = pd.concat(dfs, axis=0, ignore_index=True)"
   ]
  },
  {
   "cell_type": "code",
   "execution_count": 8,
   "id": "7451ec52",
   "metadata": {},
   "outputs": [],
   "source": [
    "#write the new dataframe to csv file\n",
    "df.to_csv(\"../output/all-data.csv\",index=False)"
   ]
  },
  {
   "cell_type": "code",
   "execution_count": null,
   "id": "10ad90d3",
   "metadata": {},
   "outputs": [],
   "source": []
  }
 ],
 "metadata": {
  "kernelspec": {
   "display_name": "Python 3 (ipykernel)",
   "language": "python",
   "name": "python3"
  },
  "language_info": {
   "codemirror_mode": {
    "name": "ipython",
    "version": 3
   },
   "file_extension": ".py",
   "mimetype": "text/x-python",
   "name": "python",
   "nbconvert_exporter": "python",
   "pygments_lexer": "ipython3",
   "version": "3.9.9"
  }
 },
 "nbformat": 4,
 "nbformat_minor": 5
}
